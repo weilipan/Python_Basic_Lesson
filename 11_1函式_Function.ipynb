{
  "nbformat": 4,
  "nbformat_minor": 0,
  "metadata": {
    "colab": {
      "name": "11_1函式 Function.ipynb",
      "provenance": [],
      "toc_visible": true,
      "authorship_tag": "ABX9TyOQXcfAXWz7osLYd5JTBA9K",
      "include_colab_link": true
    },
    "kernelspec": {
      "name": "python3",
      "display_name": "Python 3"
    },
    "language_info": {
      "name": "python"
    }
  },
  "cells": [
    {
      "cell_type": "markdown",
      "metadata": {
        "id": "view-in-github",
        "colab_type": "text"
      },
      "source": [
        "<a href=\"https://colab.research.google.com/github/weilipan/Python_Basic_Lesson/blob/main/11_1%E5%87%BD%E5%BC%8F_Function.ipynb\" target=\"_parent\"><img src=\"https://colab.research.google.com/assets/colab-badge.svg\" alt=\"Open In Colab\"/></a>"
      ]
    },
    {
      "cell_type": "markdown",
      "source": [
        "# 1.函式 Functions\n",
        "\n",
        "## Introduction to Functions\n",
        "\n",
        "這個單元將會解釋如果撰寫函式。當我們的程式愈來愈大時，愈需要函式協助讓你的程式更為結構化，用以解決問題之用。\n",
        "\n",
        "**什麼叫做函式 So what is a function?**\n",
        "\n",
        "函式可以將部份可重複使用的程式碼包在一起，可以輸入若干參數當成它的輸入，最後產生出結果。\n",
        "\n",
        "這樣的好處是我們不用重複地一直撰寫同樣的程式碼，只要是功能相同的片段，就將它包裝成函式。例如len()函式可用來計算長度。\n",
        "\n",
        "函式的撰寫是程式設計的基本功，要好好練一練。"
      ],
      "metadata": {
        "id": "vTpH-2aSywpM"
      }
    },
    {
      "cell_type": "markdown",
      "source": [
        "# 2.def 敘述def Statements\n",
        "\n",
        "函式的結構大致如下:\n",
        "使用關鍵字 def 作為函式的開頭，接下來跟著函式名稱，但取名時請小心不要用到內建函式的名稱，如len()  \n",
        "函式名稱後面接著是小括號，有零個以上以逗號隔開的參數，這些參數當成是輸入，最後是冒號收尾。  \n",
        "接下來是重要的一步，記得下方的程式碼都是縮排(indent)，python建議使用4個空白。  \n",
        "接下來是函式的說明文字，使用''' '''長字串說明，這有助於其他人了解你的函式在做什麼。"
      ],
      "metadata": {
        "id": "PHC7vdRjzJdw"
      }
    },
    {
      "cell_type": "code",
      "execution_count": null,
      "metadata": {
        "id": "Of9n8rVmyrpi"
      },
      "outputs": [],
      "source": [
        "def name_of_function(arg1,arg2):\n",
        "    '''\n",
        "    This is where the function's Document String (docstring) goes\n",
        "    '''\n",
        "    # Do stuff here\n",
        "    # Return desired result"
      ]
    },
    {
      "cell_type": "markdown",
      "source": [
        "## 2.1 Example: A simple print 'hello' function"
      ],
      "metadata": {
        "id": "R99mBU_uz6JD"
      }
    },
    {
      "cell_type": "code",
      "source": [
        "def say_hello():\n",
        "    print('hello')"
      ],
      "metadata": {
        "id": "HhHA56HK0Dr2"
      },
      "execution_count": null,
      "outputs": []
    },
    {
      "cell_type": "code",
      "source": [
        "# call the function\n",
        "say_hello()"
      ],
      "metadata": {
        "colab": {
          "base_uri": "https://localhost:8080/"
        },
        "id": "ayE0ZK_p0GTa",
        "outputId": "64875995-4e58-403d-d9b2-137a1d28de5e"
      },
      "execution_count": null,
      "outputs": [
        {
          "output_type": "stream",
          "name": "stdout",
          "text": [
            "hello\n"
          ]
        }
      ]
    },
    {
      "cell_type": "markdown",
      "source": [
        "## 2.2 Example: A simple greeting function\n",
        "Let's write a function that greets people with their name."
      ],
      "metadata": {
        "id": "UhxKQHtkzZdD"
      }
    },
    {
      "cell_type": "code",
      "source": [
        "def greeting(name):\n",
        "    print(f'Hello {name}')"
      ],
      "metadata": {
        "id": "M5ZzAWDu0N75"
      },
      "execution_count": null,
      "outputs": []
    },
    {
      "cell_type": "code",
      "source": [
        "# call the function\n",
        "greeting('Jose')"
      ],
      "metadata": {
        "colab": {
          "base_uri": "https://localhost:8080/"
        },
        "id": "CA9RORSE0TGa",
        "outputId": "71a6780b-34b3-4f38-da69-f161430fa05c"
      },
      "execution_count": null,
      "outputs": [
        {
          "output_type": "stream",
          "name": "stdout",
          "text": [
            "Hello Jose\n"
          ]
        }
      ]
    },
    {
      "cell_type": "markdown",
      "source": [
        "# 3.Using <code>return</code>\n",
        "使用 <code>return</code> 將函式的輸出回傳給特定的變數，用以接下來的程式處理。"
      ],
      "metadata": {
        "id": "KlizwDWZ0Yoq"
      }
    },
    {
      "cell_type": "markdown",
      "source": [
        "## 3.1 Addition function example"
      ],
      "metadata": {
        "id": "smNC8ARP0kb-"
      }
    },
    {
      "cell_type": "code",
      "source": [
        "def add_num(num1,num2):\n",
        "    return num1+num2"
      ],
      "metadata": {
        "id": "MCdOiBjy0WRD"
      },
      "execution_count": null,
      "outputs": []
    },
    {
      "cell_type": "code",
      "source": [
        "# call the function\n",
        "add_num(4,5)"
      ],
      "metadata": {
        "colab": {
          "base_uri": "https://localhost:8080/"
        },
        "id": "HFrDLmTx0yyi",
        "outputId": "cd010411-20ab-4866-92ee-fe7cde06da23"
      },
      "execution_count": null,
      "outputs": [
        {
          "output_type": "execute_result",
          "data": {
            "text/plain": [
              "9"
            ]
          },
          "metadata": {},
          "execution_count": 6
        }
      ]
    },
    {
      "cell_type": "code",
      "source": [
        "# Can also save as variable due to return\n",
        "result = add_num(4,5)"
      ],
      "metadata": {
        "id": "Sg0cspmC01oi"
      },
      "execution_count": null,
      "outputs": []
    },
    {
      "cell_type": "code",
      "source": [
        "print(result)"
      ],
      "metadata": {
        "colab": {
          "base_uri": "https://localhost:8080/"
        },
        "id": "qIF5YNqi04Ah",
        "outputId": "63d28161-ea08-4c6b-ba11-16b737aeb09e"
      },
      "execution_count": null,
      "outputs": [
        {
          "output_type": "stream",
          "name": "stdout",
          "text": [
            "9\n"
          ]
        }
      ]
    },
    {
      "cell_type": "code",
      "source": [
        "# What happens if we input two string?\n",
        "add_num('one','two')"
      ],
      "metadata": {
        "colab": {
          "base_uri": "https://localhost:8080/",
          "height": 35
        },
        "id": "sUyAr1Ej05PK",
        "outputId": "806ede20-1ea8-488d-8296-b25addf3d21d"
      },
      "execution_count": null,
      "outputs": [
        {
          "output_type": "execute_result",
          "data": {
            "text/plain": [
              "'onetwo'"
            ],
            "application/vnd.google.colaboratory.intrinsic+json": {
              "type": "string"
            }
          },
          "metadata": {},
          "execution_count": 9
        }
      ]
    },
    {
      "cell_type": "markdown",
      "source": [
        "函式也可以搭配 <code>break</code>, <code>continue</code>, and <code>pass</code> 使用。"
      ],
      "metadata": {
        "id": "Hyv5CTTF1Okx"
      }
    },
    {
      "cell_type": "markdown",
      "source": [
        "## 3.2 Function of checking for primes\n",
        "下方為找出質數的程式碼"
      ],
      "metadata": {
        "id": "UeEQ3Se_1SDo"
      }
    },
    {
      "cell_type": "code",
      "source": [
        "def is_prime(num):\n",
        "    '''\n",
        "    Naive method of checking for primes. \n",
        "    '''\n",
        "    for n in range(2,num):\n",
        "        if num % n == 0:\n",
        "            print(num,'is not prime')\n",
        "            break\n",
        "    else: # If never mod zero, then prime\n",
        "        print(num,'is prime!')"
      ],
      "metadata": {
        "id": "isKjitS-0_86"
      },
      "execution_count": null,
      "outputs": []
    },
    {
      "cell_type": "code",
      "source": [
        "is_prime(16)"
      ],
      "metadata": {
        "colab": {
          "base_uri": "https://localhost:8080/"
        },
        "id": "gIaF-B_F1ikT",
        "outputId": "a7d2255c-f411-46e6-eaf7-431abc0aa8c9"
      },
      "execution_count": null,
      "outputs": [
        {
          "output_type": "stream",
          "name": "stdout",
          "text": [
            "16 is not prime\n"
          ]
        }
      ]
    },
    {
      "cell_type": "code",
      "source": [
        "is_prime(17)"
      ],
      "metadata": {
        "colab": {
          "base_uri": "https://localhost:8080/"
        },
        "id": "pLEGmivl1jnC",
        "outputId": "6aa9ad1b-328c-4c9b-b9e2-73b5b70a5b48"
      },
      "execution_count": null,
      "outputs": [
        {
          "output_type": "stream",
          "name": "stdout",
          "text": [
            "17 is prime!\n"
          ]
        }
      ]
    },
    {
      "cell_type": "markdown",
      "source": [
        "上面的演算法極為暴力，對於大數時間會花太久，下方是改良過的程式碼。"
      ],
      "metadata": {
        "id": "Gt5E3biB2IUD"
      }
    },
    {
      "cell_type": "code",
      "source": [
        "import math\n",
        "\n",
        "def is_prime2(num):\n",
        "    '''\n",
        "    Better method of checking for primes. \n",
        "    '''\n",
        "    if num % 2 == 0 and num > 2: \n",
        "        return False\n",
        "    for i in range(3, int(math.sqrt(num)) + 1, 2):\n",
        "        if num % i == 0:\n",
        "            return False\n",
        "    return True"
      ],
      "metadata": {
        "id": "xdl8pbL-1koy"
      },
      "execution_count": null,
      "outputs": []
    },
    {
      "cell_type": "code",
      "source": [
        "is_prime2(18)"
      ],
      "metadata": {
        "colab": {
          "base_uri": "https://localhost:8080/"
        },
        "id": "n5zAR83q2nxp",
        "outputId": "6e25ae74-2d41-4e12-e4c2-8f966796bd8b"
      },
      "execution_count": null,
      "outputs": [
        {
          "output_type": "execute_result",
          "data": {
            "text/plain": [
              "False"
            ]
          },
          "metadata": {},
          "execution_count": 14
        }
      ]
    },
    {
      "cell_type": "code",
      "source": [
        ""
      ],
      "metadata": {
        "id": "0kDXA6Q22o_y"
      },
      "execution_count": null,
      "outputs": []
    }
  ]
}