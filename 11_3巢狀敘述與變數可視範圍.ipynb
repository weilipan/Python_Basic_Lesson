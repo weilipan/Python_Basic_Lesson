{
  "nbformat": 4,
  "nbformat_minor": 0,
  "metadata": {
    "colab": {
      "name": "11_3巢狀敘述與變數可視範圍.ipynb",
      "provenance": [],
      "authorship_tag": "ABX9TyPgruea+YXQiwWKDPGWS//P",
      "include_colab_link": true
    },
    "kernelspec": {
      "name": "python3",
      "display_name": "Python 3"
    },
    "language_info": {
      "name": "python"
    }
  },
  "cells": [
    {
      "cell_type": "markdown",
      "metadata": {
        "id": "view-in-github",
        "colab_type": "text"
      },
      "source": [
        "<a href=\"https://colab.research.google.com/github/weilipan/Python_Basic_Lesson/blob/main/11_3%E5%B7%A2%E7%8B%80%E6%95%98%E8%BF%B0%E8%88%87%E8%AE%8A%E6%95%B8%E5%8F%AF%E8%A6%96%E7%AF%84%E5%9C%8D.ipynb\" target=\"_parent\"><img src=\"https://colab.research.google.com/assets/colab-badge.svg\" alt=\"Open In Colab\"/></a>"
      ]
    },
    {
      "cell_type": "markdown",
      "source": [
        "# 1. 巢狀敘述與變數可視範圍 Nested Statements and Scope \n",
        "\n",
        "本單元主要想要讓大家了解變數的範圍。  \n",
        "可以搭配[視覺化網站](https://pythontutor.com/visualize.html#mode=edit)一起使用。"
      ],
      "metadata": {
        "id": "uexbCoFaXsjK"
      }
    },
    {
      "cell_type": "code",
      "source": [
        "x = 25\n",
        "\n",
        "def printer():\n",
        "    x = 50\n",
        "    return x"
      ],
      "metadata": {
        "id": "PnpkkvaJX1kE"
      },
      "execution_count": 1,
      "outputs": []
    },
    {
      "cell_type": "code",
      "source": [
        "print(x)"
      ],
      "metadata": {
        "colab": {
          "base_uri": "https://localhost:8080/"
        },
        "id": "gBt8uZqjaRqd",
        "outputId": "af011180-18d9-4294-bf7a-83f4ea7ddefc"
      },
      "execution_count": 2,
      "outputs": [
        {
          "output_type": "stream",
          "name": "stdout",
          "text": [
            "25\n"
          ]
        }
      ]
    },
    {
      "cell_type": "code",
      "source": [
        "print(printer())"
      ],
      "metadata": {
        "colab": {
          "base_uri": "https://localhost:8080/"
        },
        "id": "JLDSrXZ2aS_l",
        "outputId": "08341de5-67e2-41f8-f780-e6f1a0ebce3c"
      },
      "execution_count": 3,
      "outputs": [
        {
          "output_type": "stream",
          "name": "stdout",
          "text": [
            "50\n"
          ]
        }
      ]
    },
    {
      "cell_type": "markdown",
      "source": [
        "# 2. LEGB規則:由內往外找變數\n",
        "L: Local（區域） — 變數名稱宣告在最近的函式之中，同時該變數並未被宣告為全域(global)變數。Names assigned in any way within a function (def or lambda), and not declared global in that function.\n",
        "\n",
        "E: Enclosing function locals — 變數在區域中閉包在其他外部的函式，由內而外去找。Names in the local scope of any and all enclosing functions (def or lambda), from inner to outer.\n",
        "\n",
        "G: Global (module) — 全域變數，整個程式檔案中都可以存取。Names assigned at the top-level of a module file, or declared global in a def within the file.\n",
        "\n",
        "B: Built-in (Python) — python內建的變數名稱。"
      ],
      "metadata": {
        "id": "TphTJLewaaJu"
      }
    },
    {
      "cell_type": "markdown",
      "source": [
        "# 3. Quick examples of LEGB"
      ],
      "metadata": {
        "id": "UZ3byqy3at_S"
      }
    },
    {
      "cell_type": "markdown",
      "source": [
        "## 3.1 Local"
      ],
      "metadata": {
        "id": "_kuFy9Nma1cS"
      }
    },
    {
      "cell_type": "code",
      "source": [
        "# x is local here:\n",
        "f = lambda x:x**2"
      ],
      "metadata": {
        "id": "oJ9a_O2ZaUaV"
      },
      "execution_count": 4,
      "outputs": []
    },
    {
      "cell_type": "markdown",
      "source": [
        "## 3.2 Enclosing function locals\n",
        "This occurs when we have a function inside a function (nested functions)"
      ],
      "metadata": {
        "id": "4frtnUXsa72U"
      }
    },
    {
      "cell_type": "code",
      "source": [
        "name = 'This is a global name'\n",
        "\n",
        "def greet():\n",
        "    # Enclosing function\n",
        "    name = 'Sammy'\n",
        "    \n",
        "    def hello():\n",
        "        print('Hello '+name)\n",
        "    \n",
        "    hello()\n",
        "\n",
        "greet()"
      ],
      "metadata": {
        "colab": {
          "base_uri": "https://localhost:8080/"
        },
        "id": "WR9N_DK8a4wd",
        "outputId": "8d67e8d5-1d89-4ac9-ec93-9f1010a692a7"
      },
      "execution_count": 5,
      "outputs": [
        {
          "output_type": "stream",
          "name": "stdout",
          "text": [
            "Hello Sammy\n"
          ]
        }
      ]
    },
    {
      "cell_type": "markdown",
      "source": [
        "**name** 會找到greet函式中宣告的內容，因為最近的hello函式沒有宣告，所以由內往外找到最近宣告變數之處。"
      ],
      "metadata": {
        "id": "j_3Yj9YWbGT4"
      }
    },
    {
      "cell_type": "markdown",
      "source": [
        "## 3.3 Global\n",
        "全域變數!"
      ],
      "metadata": {
        "id": "LdkqPknybK3n"
      }
    },
    {
      "cell_type": "code",
      "source": [
        "print(name) #這裡會找到第一行宣告的變數"
      ],
      "metadata": {
        "colab": {
          "base_uri": "https://localhost:8080/"
        },
        "id": "ErEuNDk0bB10",
        "outputId": "9309ebac-a260-42d0-e296-f983e74cffcf"
      },
      "execution_count": 6,
      "outputs": [
        {
          "output_type": "stream",
          "name": "stdout",
          "text": [
            "This is a global name\n"
          ]
        }
      ]
    },
    {
      "cell_type": "markdown",
      "source": [
        "## 3.4 Built-in\n",
        "內建在python中的變數， **請勿更改！！**"
      ],
      "metadata": {
        "id": "ocabOqfjbbU_"
      }
    },
    {
      "cell_type": "code",
      "source": [
        "len"
      ],
      "metadata": {
        "colab": {
          "base_uri": "https://localhost:8080/"
        },
        "id": "PfEnNzBJbYQe",
        "outputId": "d3e0f254-0da9-4cad-a5f8-41cfe8be487e"
      },
      "execution_count": 7,
      "outputs": [
        {
          "output_type": "execute_result",
          "data": {
            "text/plain": [
              "<function len(obj, /)>"
            ]
          },
          "metadata": {},
          "execution_count": 7
        }
      ]
    },
    {
      "cell_type": "markdown",
      "source": [
        "## 4. 區域變數 Local Variables\n",
        "我們函式內部使用的變數，和函式外部同名的變數其實沒關係，在函式內對該變數做的所有動作，皆不會影響到函式外的變數內容。  \n",
        "舉例如下:"
      ],
      "metadata": {
        "id": "mI2OMlqGbi-q"
      }
    },
    {
      "cell_type": "code",
      "source": [
        "x = 50\n",
        "\n",
        "def func(x):\n",
        "    print('x is', x)\n",
        "    x = 2\n",
        "    print('Changed local x to', x)\n",
        "\n",
        "func(x)\n",
        "print('x is still', x)"
      ],
      "metadata": {
        "colab": {
          "base_uri": "https://localhost:8080/"
        },
        "id": "n1Pf9GFqbgJ8",
        "outputId": "4d2b25e3-6c15-43f5-83ab-f0afbb6c36ba"
      },
      "execution_count": 8,
      "outputs": [
        {
          "output_type": "stream",
          "name": "stdout",
          "text": [
            "x is 50\n",
            "Changed local x to 2\n",
            "x is still 50\n"
          ]
        }
      ]
    },
    {
      "cell_type": "markdown",
      "source": [
        "# 5.全域變數 The `global` statement\n",
        "\n",
        "如果你想要讓該變數可以在整個程式碼中使用，可以使用 `global` 來宣告。\n",
        "\n",
        "舉例如下："
      ],
      "metadata": {
        "id": "KDGBWdyKcq-V"
      }
    },
    {
      "cell_type": "code",
      "source": [
        "x = 50\n",
        "\n",
        "def func():\n",
        "    global x\n",
        "    print('This function is now using the global x!')\n",
        "    print('Because of global x is: ', x)\n",
        "    x = 2\n",
        "    print('Ran func(), changed global x to', x)\n",
        "\n",
        "print('Before calling func(), x is: ', x)\n",
        "func()\n",
        "print('Value of x (outside of func()) is: ', x)"
      ],
      "metadata": {
        "colab": {
          "base_uri": "https://localhost:8080/"
        },
        "id": "MloNXMN_borM",
        "outputId": "da9662b5-230b-447d-9811-e70d7430646e"
      },
      "execution_count": 9,
      "outputs": [
        {
          "output_type": "stream",
          "name": "stdout",
          "text": [
            "Before calling func(), x is:  50\n",
            "This function is now using the global x!\n",
            "Because of global x is:  50\n",
            "Ran func(), changed global x to 2\n",
            "Value of x (outside of func()) is:  2\n"
          ]
        }
      ]
    },
    {
      "cell_type": "markdown",
      "source": [
        "利用 `global`宣告函式內部的 **x**，則可以針對全域變數的x進行變更。  \n",
        "你當然也可以一次宣告許多全域變數。 `global x, y, z`."
      ],
      "metadata": {
        "id": "ar6q0-TIdbTQ"
      }
    }
  ]
}