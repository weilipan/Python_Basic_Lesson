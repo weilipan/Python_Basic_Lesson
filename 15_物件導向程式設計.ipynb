{
  "cells": [
    {
      "cell_type": "markdown",
      "metadata": {
        "id": "view-in-github",
        "colab_type": "text"
      },
      "source": [
        "<a href=\"https://colab.research.google.com/github/weilipan/Python_Basic_Lesson/blob/main/15_%E7%89%A9%E4%BB%B6%E5%B0%8E%E5%90%91%E7%A8%8B%E5%BC%8F%E8%A8%AD%E8%A8%88.ipynb\" target=\"_parent\"><img src=\"https://colab.research.google.com/assets/colab-badge.svg\" alt=\"Open In Colab\"/></a>"
      ]
    },
    {
      "cell_type": "markdown",
      "metadata": {
        "id": "9AMAzJEPOdYm"
      },
      "source": [
        "# 物件導向程式設計 Object Oriented Programming\n",
        "\n",
        "本單元會讓大家學習到物件導向的幾個主題：\n",
        "\n",
        "* 什麼是物件 Objects\n",
        "* 使用類別 *class* 關鍵字\n",
        "* 建立類別屬性 class attributes\n",
        "* 建立類別方法 methods in a class\n",
        "* 學習什麼是繼承 Inheritance\n",
        "* 學習什麼是多型 Polymorphism\n",
        "* 學習類別中的特別方法 Learning about Special Methods for classes\n",
        "\n",
        "基本的物件如下:"
      ]
    },
    {
      "cell_type": "code",
      "execution_count": null,
      "metadata": {
        "id": "SZxVCRMkOdYr"
      },
      "outputs": [],
      "source": [
        "lst = [1,2,3]"
      ]
    },
    {
      "cell_type": "markdown",
      "metadata": {
        "id": "aL_rLNDEOdYu"
      },
      "source": [
        "試一下我們之前呼叫過的list內建方法count"
      ]
    },
    {
      "cell_type": "code",
      "execution_count": null,
      "metadata": {
        "id": "L1etsWLFOdYv",
        "outputId": "a927689e-f22a-4c0a-8592-6964458c75e6"
      },
      "outputs": [
        {
          "data": {
            "text/plain": [
              "1"
            ]
          },
          "execution_count": 2,
          "metadata": {},
          "output_type": "execute_result"
        }
      ],
      "source": [
        "lst.count(2)"
      ]
    },
    {
      "cell_type": "markdown",
      "metadata": {
        "id": "cz7PJLGJOdYx"
      },
      "source": [
        "物件的建立方式其實就是函式的加強版，只是多代入了物件的概念。\n",
        "\n",
        "## 1.物件 Objects\n",
        "在Python中， *所有的事物都是以物件方式處理*，我們試著用type()來看看之前學過的各種資料結構的類型"
      ]
    },
    {
      "cell_type": "code",
      "execution_count": null,
      "metadata": {
        "id": "QVLY3NwxOdYx",
        "outputId": "83bfc133-d0cb-42c6-9b13-dc3616864068"
      },
      "outputs": [
        {
          "name": "stdout",
          "output_type": "stream",
          "text": [
            "<class 'int'>\n",
            "<class 'list'>\n",
            "<class 'tuple'>\n",
            "<class 'dict'>\n"
          ]
        }
      ],
      "source": [
        "print(type(1))\n",
        "print(type([]))\n",
        "print(type(()))\n",
        "print(type({}))"
      ]
    },
    {
      "cell_type": "markdown",
      "source": [
        "上面這些已知的資料型態其實就是Python中內建的各種物件類別，但如果今天內建的物件類別皆不適合我們的用途時該怎麼辦。\n",
        "\n",
        "這時候就要自己利用`class`來建立類別。"
      ],
      "metadata": {
        "id": "_nwpwZUfO27J"
      }
    },
    {
      "cell_type": "markdown",
      "metadata": {
        "id": "qryAIPJwOdYy"
      },
      "source": [
        "## 2.類別 class\n",
        "我們自己可以使用 <code>class</code> 關鍵字來建立類別。再經由類別產生實體。\n",
        "\n",
        "以下面的例子而言。\n",
        "\n",
        "a=[1,2,3]\n",
        "\n",
        "a就是以list類別(class)產生的實體(instance)物件(object)\n",
        "\n",
        "讓我們來看一下下方的例子吧 <code>class</code>:"
      ]
    },
    {
      "cell_type": "code",
      "execution_count": null,
      "metadata": {
        "id": "I2jmXPbcOdYz",
        "outputId": "e71df86c-5e3c-4788-f08d-486b73409a45"
      },
      "outputs": [
        {
          "name": "stdout",
          "output_type": "stream",
          "text": [
            "<class '__main__.Sample'>\n"
          ]
        }
      ],
      "source": [
        "# 建立一個新的Sample類別\n",
        "class Sample:\n",
        "    pass\n",
        "\n",
        "# 產生Sample類別的實體\n",
        "x = Sample()\n",
        "\n",
        "print(type(x))"
      ]
    },
    {
      "cell_type": "markdown",
      "metadata": {
        "id": "7KXwsrYoOdYz"
      },
      "source": [
        "傳統來說，類別名稱通常上以大寫字母開頭。以上例而言 <code>x</code>指的是Sample類別的新實體(instance)。換句話說，我們將Sample類別實體化**instantiate**。\n",
        "\n",
        "在類別內部我們暫時使用 <code>pass</code> 保留工作指令。\n",
        "\n",
        "屬性 **attribute** 是物件的特徵。\n",
        "\n",
        "方法 **method** 是物件可以與其他物件互動的操作。\n",
        "\n",
        "舉例而言，我們可以創建一個名叫Dog的類別。一隻狗的屬性可能是他的品種或他的姓名，另外這隻狗可以定義一個方法.bark()，用來發聲之用。\n",
        "\n",
        "我們以下例來看看情況。"
      ]
    },
    {
      "cell_type": "markdown",
      "source": [
        "## 3.Attributes 屬性\n",
        "屬性的語法如下:\n",
        "    \n",
        "    self.attribute = something\n",
        "    \n",
        "下面有個特別的建構方法，當物件初始化時首先會執行這個方法:\n",
        "\n",
        "    __init__()\n",
        "\n",
        "既然是初始化所用的方法，所以可以在裡面來設定物件屬性的初始值. 舉例如下:"
      ],
      "metadata": {
        "id": "KHpe9GzvO-SQ"
      }
    },
    {
      "cell_type": "code",
      "execution_count": null,
      "metadata": {
        "id": "s99t0p_TOdY0"
      },
      "outputs": [],
      "source": [
        "class Dog:\n",
        "    def __init__(self,breed):\n",
        "        self.breed = breed\n",
        "        \n",
        "sam = Dog(breed='Lab')\n",
        "frank = Dog(breed='Huskie')"
      ]
    },
    {
      "cell_type": "markdown",
      "metadata": {
        "id": "2jTsvzF3OdY1"
      },
      "source": [
        "我們一步一步地來剖析上述的語法.初始方法： \n",
        "\n",
        "    __init__() \n",
        "    \n",
        "當物件產生時自動會執行這個方法：\n",
        "\n",
        "    def __init__(self, breed):\n",
        "\n",
        "每個屬性都可以在此設定初始值，以本例而言，self代表物件本身，.breed代表這個物件的breed屬性，初始化為參數傳進來的breed．\n",
        "\n",
        "     self.breed = breed"
      ]
    },
    {
      "cell_type": "markdown",
      "metadata": {
        "id": "aTA7daWMOdY1"
      },
      "source": [
        "現在我們先建立兩個Dog類別的實體，如下方所示："
      ]
    },
    {
      "cell_type": "code",
      "execution_count": null,
      "metadata": {
        "id": "4q3tOBKpOdY2",
        "outputId": "2eb7c68f-6246-43a8-8937-36d781cca55d"
      },
      "outputs": [
        {
          "data": {
            "text/plain": [
              "'Lab'"
            ]
          },
          "execution_count": 6,
          "metadata": {},
          "output_type": "execute_result"
        }
      ],
      "source": [
        "sam.breed"
      ]
    },
    {
      "cell_type": "code",
      "execution_count": null,
      "metadata": {
        "id": "71veGboZOdY3",
        "outputId": "02bd3165-b9df-4cb9-e4e1-f13f986e0513"
      },
      "outputs": [
        {
          "data": {
            "text/plain": [
              "'Huskie'"
            ]
          },
          "execution_count": 7,
          "metadata": {},
          "output_type": "execute_result"
        }
      ],
      "source": [
        "frank.breed"
      ]
    },
    {
      "cell_type": "markdown",
      "metadata": {
        "id": "VSXHpGblOdY3"
      },
      "source": [
        "我們在breed後並未有任何的括號，因為它是屬產，而且不用傳入任何的參數。\n",
        "\n",
        "Python中也有類別物件專屬的屬性 *class object attributes*. 所有同一類別產生的物件都有相關屬性，例如下方我們在Dog類別中建立了屬性 *species* .\n",
        "\n",
        "只要是以Dogs類別所產生的物件,無論他的品種breed、姓名name或其他屬性attributes，他們都一定是哺乳類mammals。"
      ]
    },
    {
      "cell_type": "code",
      "execution_count": null,
      "metadata": {
        "id": "1WL7BSyJOdY4"
      },
      "outputs": [],
      "source": [
        "class Dog:\n",
        "    \n",
        "    # Class Object Attribute\n",
        "    species = 'mammal'\n",
        "    \n",
        "    def __init__(self,breed,name):\n",
        "        self.breed = breed\n",
        "        self.name = name"
      ]
    },
    {
      "cell_type": "code",
      "execution_count": null,
      "metadata": {
        "id": "lJy9_qGiOdY5"
      },
      "outputs": [],
      "source": [
        "sam = Dog('Lab','Sam')"
      ]
    },
    {
      "cell_type": "code",
      "execution_count": null,
      "metadata": {
        "id": "we9fskN6OdY6",
        "outputId": "4b65fec2-dd33-42fe-eaef-f048585d4ce2"
      },
      "outputs": [
        {
          "data": {
            "text/plain": [
              "'Sam'"
            ]
          },
          "execution_count": 3,
          "metadata": {},
          "output_type": "execute_result"
        }
      ],
      "source": [
        "sam.name"
      ]
    },
    {
      "cell_type": "markdown",
      "metadata": {
        "id": "QvtgZxDvOdY6"
      },
      "source": [
        "*Class Object Attribute*  類別物件屬性定義會寫在所有方法的外面，所以習慣上我們會寫在建構方法 <code>\\__init__()</code> 裡的最前段。"
      ]
    },
    {
      "cell_type": "code",
      "execution_count": null,
      "metadata": {
        "id": "ILao8vafOdY7",
        "outputId": "2797509f-a28b-47a2-98b7-dccc8079d2c8"
      },
      "outputs": [
        {
          "data": {
            "text/plain": [
              "'mammal'"
            ]
          },
          "execution_count": 11,
          "metadata": {},
          "output_type": "execute_result"
        }
      ],
      "source": [
        "sam.species"
      ]
    },
    {
      "cell_type": "markdown",
      "metadata": {
        "id": "a6D-daBHOdY8"
      },
      "source": [
        "## 4.方法 Methods\n",
        "\n",
        "方法是類別內部的函式庫，它是用來處理類別與類別之間互動的功能，它也是物件導向的精神之一。\n",
        "\n",
        "任何方法所傳入的第一個參數通常是self。"
      ]
    },
    {
      "cell_type": "code",
      "execution_count": null,
      "metadata": {
        "id": "w7RhBy0gOdY9",
        "outputId": "54e8e280-afac-455a-f3d5-6b21a2995273"
      },
      "outputs": [
        {
          "name": "stdout",
          "output_type": "stream",
          "text": [
            "Radius is:  1\n",
            "Area is:  3.14\n",
            "Circumference is:  6.28\n"
          ]
        }
      ],
      "source": [
        "class Circle:\n",
        "    pi = 3.14\n",
        "\n",
        "    # Circle gets instantiated with a radius (default is 1)\n",
        "    def __init__(self, radius=1):\n",
        "        self.radius = radius \n",
        "        self.area = radius * radius * Circle.pi\n",
        "\n",
        "    # Method for resetting Radius\n",
        "    def setRadius(self, new_radius):\n",
        "        self.radius = new_radius\n",
        "        self.area = new_radius * new_radius * self.pi\n",
        "\n",
        "    # Method for getting Circumference\n",
        "    def getCircumference(self):\n",
        "        return self.radius * self.pi * 2\n",
        "\n",
        "\n",
        "c = Circle()\n",
        "\n",
        "print('Radius is: ',c.radius)\n",
        "print('Area is: ',c.area)\n",
        "print('Circumference is: ',c.getCircumference())"
      ]
    },
    {
      "cell_type": "markdown",
      "metadata": {
        "id": "s9VVdzTrOdY-"
      },
      "source": [
        "在 <code>\\__init__()</code> 建構方法中我們看到有類別物件屬性(**Class Object Attributes**) Circle.pi. 因為所有Circle類別的物件，它的pi值都應該是一樣的，所以我們將它設定為類別物件屬性，讓所有Circle類別的物件都一樣。\n",
        "\n",
        "接著看到 <code>setRadius</code> 方法可以計算出圓面積。\n",
        "\n",
        "接著我們來看看呼叫方法時，傳入的參數會產生什麼影響。"
      ]
    },
    {
      "cell_type": "code",
      "execution_count": null,
      "metadata": {
        "id": "J94JYBblOdY_",
        "outputId": "dd86fa2a-f359-4906-9eba-d9907f4f3b08"
      },
      "outputs": [
        {
          "name": "stdout",
          "output_type": "stream",
          "text": [
            "Radius is:  2\n",
            "Area is:  12.56\n",
            "Circumference is:  12.56\n"
          ]
        }
      ],
      "source": [
        "c.setRadius(2)\n",
        "\n",
        "print('Radius is: ',c.radius)\n",
        "print('Area is: ',c.area)\n",
        "print('Circumference is: ',c.getCircumference())"
      ]
    },
    {
      "cell_type": "markdown",
      "metadata": {
        "id": "Sgec76oYOdZA"
      },
      "source": [
        "## 5.繼承 Inheritance\n",
        "\n",
        "繼承Inheritance是利用已有的類別當做基礎來建立新的類別。\n",
        "\n",
        "這樣的做法有利於程式碼的重複使用與降低程式碼的結構複雜度。\n",
        "\n",
        "繼承而來的類別可以進一步的衍生與擴大。\n",
        "\n",
        "我們來看一下例子:"
      ]
    },
    {
      "cell_type": "code",
      "execution_count": null,
      "metadata": {
        "id": "ttVxM7jZOdZB"
      },
      "outputs": [],
      "source": [
        "class Animal:\n",
        "    def __init__(self):\n",
        "        print(\"Animal created\")\n",
        "\n",
        "    def whoAmI(self):\n",
        "        print(\"Animal\")\n",
        "\n",
        "    def eat(self):\n",
        "        print(\"Eating\")\n",
        "\n",
        "\n",
        "class Dog(Animal):\n",
        "    def __init__(self):\n",
        "        Animal.__init__(self)\n",
        "        print(\"Dog created\")\n",
        "\n",
        "    def whoAmI(self):\n",
        "        print(\"Dog\")\n",
        "\n",
        "    def bark(self):\n",
        "        print(\"Woof!\")"
      ]
    },
    {
      "cell_type": "code",
      "execution_count": null,
      "metadata": {
        "id": "rY_S608XOdZB",
        "outputId": "bf8a21a9-1b30-4281-cf43-4a08b768d8e9"
      },
      "outputs": [
        {
          "name": "stdout",
          "output_type": "stream",
          "text": [
            "Animal created\n",
            "Dog created\n"
          ]
        }
      ],
      "source": [
        "d = Dog()"
      ]
    },
    {
      "cell_type": "code",
      "execution_count": null,
      "metadata": {
        "id": "Cxi8vcViOdZC",
        "outputId": "d6ce0398-04b3-4111-fa88-3ee7fdcd0b36"
      },
      "outputs": [
        {
          "name": "stdout",
          "output_type": "stream",
          "text": [
            "Dog\n"
          ]
        }
      ],
      "source": [
        "d.whoAmI()"
      ]
    },
    {
      "cell_type": "code",
      "execution_count": null,
      "metadata": {
        "id": "q9QsmuSiOdZD",
        "outputId": "2af6d704-1daa-4d52-9b75-c652f109829a"
      },
      "outputs": [
        {
          "name": "stdout",
          "output_type": "stream",
          "text": [
            "Eating\n"
          ]
        }
      ],
      "source": [
        "d.eat()"
      ]
    },
    {
      "cell_type": "code",
      "execution_count": null,
      "metadata": {
        "id": "elvcKlEIOdZD",
        "outputId": "a46db006-7cbe-4793-c17e-26877d45c422"
      },
      "outputs": [
        {
          "name": "stdout",
          "output_type": "stream",
          "text": [
            "Woof!\n"
          ]
        }
      ],
      "source": [
        "d.bark()"
      ]
    },
    {
      "cell_type": "markdown",
      "metadata": {
        "id": "n3qZNn7YOdZE"
      },
      "source": [
        "在上面例子，我們有兩個類別:Animal and Dog. Animal是基礎類別，Dog是繼承類別。\n",
        "\n",
        "繼承類別繼承了基礎類別的功能。\n",
        "\n",
        "* 例如eat()方法. \n",
        "\n",
        "繼承類別也修正了已經在基礎類別的既有行為。\n",
        "\n",
        "* whoAmI()方法就是繼承類別修改了基礎類別的方法. \n",
        "\n",
        "繼承類別也可以定義屬於自己的新方法bark()。"
      ]
    },
    {
      "cell_type": "markdown",
      "metadata": {
        "id": "f5wwvF52OdZE"
      },
      "source": [
        "## 6.多型 Polymorphism\n",
        "\n",
        "在 Python 中, 多型 *polymorphism* 指的是不同物件類別共用同名的方法名稱，來看看下方的例子:"
      ]
    },
    {
      "cell_type": "code",
      "execution_count": null,
      "metadata": {
        "id": "W1M4x7BzOdZE",
        "outputId": "7bd0e221-fe64-495b-9aaf-60af0004b6c2"
      },
      "outputs": [
        {
          "name": "stdout",
          "output_type": "stream",
          "text": [
            "Niko says Woof!\n",
            "Felix says Meow!\n"
          ]
        }
      ],
      "source": [
        "class Dog:\n",
        "    def __init__(self, name):\n",
        "        self.name = name\n",
        "\n",
        "    def speak(self):\n",
        "        return self.name+' says Woof!'\n",
        "    \n",
        "class Cat:\n",
        "    def __init__(self, name):\n",
        "        self.name = name\n",
        "\n",
        "    def speak(self):\n",
        "        return self.name+' says Meow!' \n",
        "    \n",
        "niko = Dog('Niko')\n",
        "felix = Cat('Felix')\n",
        "\n",
        "print(niko.speak())\n",
        "print(felix.speak())"
      ]
    },
    {
      "cell_type": "markdown",
      "metadata": {
        "id": "n7CXI6_7OdZF"
      },
      "source": [
        "Dog和Cat這兩個class都有自己的 `.speak()` 方法。 當該方法被呼叫時，每個物件的 `.speak()` 方法會回傳自己獨特的結果。\n",
        "\n",
        "可以使用不同的方法來展示多型，我們先用loop看看："
      ]
    },
    {
      "cell_type": "code",
      "execution_count": null,
      "metadata": {
        "id": "sUJuY27SOdZG",
        "outputId": "b445e311-52d3-46d9-d09e-af1098ada2cd"
      },
      "outputs": [
        {
          "name": "stdout",
          "output_type": "stream",
          "text": [
            "Niko says Woof!\n",
            "Felix says Meow!\n"
          ]
        }
      ],
      "source": [
        "for pet in [niko,felix]:\n",
        "    print(pet.speak())"
      ]
    },
    {
      "cell_type": "markdown",
      "metadata": {
        "id": "THuGTLQVOdZG"
      },
      "source": [
        "也可以用函式來處理:"
      ]
    },
    {
      "cell_type": "code",
      "execution_count": null,
      "metadata": {
        "id": "mvaKRDVlOdZH",
        "outputId": "b6a8e212-cf4e-47c8-c2f9-9eadd60a670f"
      },
      "outputs": [
        {
          "name": "stdout",
          "output_type": "stream",
          "text": [
            "Niko says Woof!\n",
            "Felix says Meow!\n"
          ]
        }
      ],
      "source": [
        "def pet_speak(pet):\n",
        "    print(pet.speak())\n",
        "\n",
        "pet_speak(niko)\n",
        "pet_speak(felix)"
      ]
    },
    {
      "cell_type": "markdown",
      "metadata": {
        "id": "b7jtljomOdZH"
      },
      "source": [
        "實務上，我們使用抽象類別與繼承。抽象類別 *abstract class* 是一個絕不會拿來實體化（就是不會把它拿來產生物件）的類別，只用於繼承之用。如下例:\n",
        "\n",
        "我們有Animal,Dog,Cat三個類別，但Animal類別只用以給Dog和Cat繼承之用，不會真的把它拿來實體化。\n",
        "\n",
        "真正會拿來產生物件的類別只有繼承自Animal的Dog和Cat。所以我們稱Animal為抽象類別。"
      ]
    },
    {
      "cell_type": "code",
      "execution_count": null,
      "metadata": {
        "id": "CNfdNMQyOdZI",
        "outputId": "49153b2f-199b-400e-e63d-7b408bc15825"
      },
      "outputs": [
        {
          "name": "stdout",
          "output_type": "stream",
          "text": [
            "Fido says Woof!\n",
            "Isis says Meow!\n"
          ]
        }
      ],
      "source": [
        "class Animal:\n",
        "    def __init__(self, name):    # Constructor of the class\n",
        "        self.name = name\n",
        "\n",
        "    def speak(self):              # Abstract method, defined by convention only\n",
        "        raise NotImplementedError(\"Subclass must implement abstract method\")\n",
        "\n",
        "\n",
        "class Dog(Animal):\n",
        "    \n",
        "    def speak(self):\n",
        "        return self.name+' says Woof!'\n",
        "    \n",
        "class Cat(Animal):\n",
        "\n",
        "    def speak(self):\n",
        "        return self.name+' says Meow!'\n",
        "    \n",
        "fido = Dog('Fido')\n",
        "isis = Cat('Isis')\n",
        "\n",
        "print(fido.speak())\n",
        "print(isis.speak())"
      ]
    },
    {
      "cell_type": "markdown",
      "metadata": {
        "id": "a63r_F1_OdZI"
      },
      "source": [
        "現實生活中的多型包含：\n",
        "* 開啟不用類型的檔案 - 使用不同工具來打開 Word, pdf and Excel files。同樣都是「開啟檔案」的動作，但我們會依照副檔名或其他特徵來決定要用什麼程式來開啟。\n",
        "* 加號 - 依照`+`兩邊的物件是數值還是字串，決定是算數運算或字串結合。"
      ]
    },
    {
      "cell_type": "markdown",
      "metadata": {
        "id": "mk20Ogc1OdZJ"
      },
      "source": [
        "## 7.特別方法 Special Methods\n",
        "幾個python內建方法可以用來改寫我們想要的功能，如 \\__str__ , \\__len__, \\__del__, \\__init__:"
      ]
    },
    {
      "cell_type": "code",
      "execution_count": null,
      "metadata": {
        "id": "9bk_-jFIOdZJ"
      },
      "outputs": [],
      "source": [
        "class Book:\n",
        "    def __init__(self, title, author, pages):\n",
        "        print(\"A book is created\")\n",
        "        self.title = title\n",
        "        self.author = author\n",
        "        self.pages = pages\n",
        "\n",
        "    def __str__(self):\n",
        "        return \"Title: %s, author: %s, pages: %s\" %(self.title, self.author, self.pages)\n",
        "\n",
        "    def __len__(self):\n",
        "        return self.pages\n",
        "\n",
        "    def __del__(self):\n",
        "        print(\"A book is destroyed\")"
      ]
    },
    {
      "cell_type": "code",
      "execution_count": null,
      "metadata": {
        "id": "yA0hiAY-OdZK",
        "outputId": "7ee84a30-82fe-44f3-c99e-5d4674a29305"
      },
      "outputs": [
        {
          "name": "stdout",
          "output_type": "stream",
          "text": [
            "A book is created\n",
            "Title: Python Rocks!, author: Jose Portilla, pages: 159\n",
            "159\n",
            "A book is destroyed\n"
          ]
        }
      ],
      "source": [
        "book = Book(\"Python Rocks!\", \"Jose Portilla\", 159)\n",
        "\n",
        "#Special Methods\n",
        "print(book)\n",
        "print(len(book))\n",
        "del book"
      ]
    }
  ],
  "metadata": {
    "kernelspec": {
      "display_name": "Python 3",
      "language": "python",
      "name": "python3"
    },
    "language_info": {
      "codemirror_mode": {
        "name": "ipython",
        "version": 3
      },
      "file_extension": ".py",
      "mimetype": "text/x-python",
      "name": "python",
      "nbconvert_exporter": "python",
      "pygments_lexer": "ipython3",
      "version": "3.7.4"
    },
    "colab": {
      "provenance": [],
      "name": "15_物件導向程式設計.ipynb",
      "collapsed_sections": [],
      "toc_visible": true,
      "include_colab_link": true
    }
  },
  "nbformat": 4,
  "nbformat_minor": 0
}