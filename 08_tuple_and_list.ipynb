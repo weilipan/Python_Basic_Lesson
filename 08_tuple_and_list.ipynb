{
  "nbformat": 4,
  "nbformat_minor": 0,
  "metadata": {
    "colab": {
      "name": "08_tuple and list.ipynb",
      "provenance": [],
      "toc_visible": true,
      "collapsed_sections": [],
      "authorship_tag": "ABX9TyNMh+6U0vI9/WV7HG19qsPv",
      "include_colab_link": true
    },
    "kernelspec": {
      "name": "python3",
      "display_name": "Python 3"
    },
    "language_info": {
      "name": "python"
    }
  },
  "cells": [
    {
      "cell_type": "markdown",
      "metadata": {
        "id": "view-in-github",
        "colab_type": "text"
      },
      "source": [
        "<a href=\"https://colab.research.google.com/github/weilipan/Python_Basic_Lesson/blob/main/08_tuple_and_list.ipynb\" target=\"_parent\"><img src=\"https://colab.research.google.com/assets/colab-badge.svg\" alt=\"Open In Colab\"/></a>"
      ]
    },
    {
      "cell_type": "markdown",
      "source": [
        "# 1.Tuple 元組/數組\n",
        "Tuples的內容是不可變動的。可以拿它來表示一些不變的資料，例如星期幾，第幾週之類的。  \n",
        "本單元會學到：\n",
        "* 建構 Tuples\n",
        "* Tuples基本方法\n",
        "* 不可變的特性 Immutability\n",
        "* 運用 Tuples的時機。When to Use Tuples\n",
        "    \n",
        "線上說明文件：https://docs.python.org/zh-tw/3/tutorial/datastructures.html#tuples-and-sequences"
      ],
      "metadata": {
        "id": "QCoeuViAfunn"
      }
    },
    {
      "cell_type": "markdown",
      "source": [
        "## 1.1建構 Tuples \n",
        "Tuples用 () , 串列用 [] , 字典用 {}。"
      ],
      "metadata": {
        "id": "zzeRPG8ch6DP"
      }
    },
    {
      "cell_type": "code",
      "source": [
        "t = (1,2,3)"
      ],
      "metadata": {
        "id": "pu_uvXMXh94S"
      },
      "execution_count": null,
      "outputs": []
    },
    {
      "cell_type": "code",
      "source": [
        "len(t)"
      ],
      "metadata": {
        "colab": {
          "base_uri": "https://localhost:8080/"
        },
        "id": "7vUnCaCvh_w8",
        "outputId": "2d32eea9-62ec-4b8b-ed77-2d73ec131128"
      },
      "execution_count": null,
      "outputs": [
        {
          "output_type": "execute_result",
          "data": {
            "text/plain": [
              "3"
            ]
          },
          "metadata": {},
          "execution_count": 2
        }
      ]
    },
    {
      "cell_type": "code",
      "source": [
        "t = ('one',2)\n",
        "\n",
        "t"
      ],
      "metadata": {
        "colab": {
          "base_uri": "https://localhost:8080/"
        },
        "id": "DwEA8sL1iAx0",
        "outputId": "1070e25f-6c12-46f2-9a5c-4f0048d9fa54"
      },
      "execution_count": null,
      "outputs": [
        {
          "output_type": "execute_result",
          "data": {
            "text/plain": [
              "('one', 2)"
            ]
          },
          "metadata": {},
          "execution_count": 3
        }
      ]
    },
    {
      "cell_type": "code",
      "source": [
        "t[0]"
      ],
      "metadata": {
        "colab": {
          "base_uri": "https://localhost:8080/",
          "height": 35
        },
        "id": "iWEiHCuHiE08",
        "outputId": "5acd42e9-4f4f-4107-946a-59174bd5e37e"
      },
      "execution_count": null,
      "outputs": [
        {
          "output_type": "execute_result",
          "data": {
            "text/plain": [
              "'one'"
            ],
            "application/vnd.google.colaboratory.intrinsic+json": {
              "type": "string"
            }
          },
          "metadata": {},
          "execution_count": 4
        }
      ]
    },
    {
      "cell_type": "code",
      "source": [
        "t[-1]"
      ],
      "metadata": {
        "colab": {
          "base_uri": "https://localhost:8080/"
        },
        "id": "UD76k03xiFTs",
        "outputId": "32153493-fb00-4914-e8a6-7b2ca457d5e8"
      },
      "execution_count": null,
      "outputs": [
        {
          "output_type": "execute_result",
          "data": {
            "text/plain": [
              "2"
            ]
          },
          "metadata": {},
          "execution_count": 5
        }
      ]
    },
    {
      "cell_type": "markdown",
      "source": [
        "## 1.2 tuple 基本方法"
      ],
      "metadata": {
        "id": "LXnxGie2iH2H"
      }
    },
    {
      "cell_type": "code",
      "source": [
        "# 利用index()方法找到該值所在的索引值位置\n",
        "t.index('one')"
      ],
      "metadata": {
        "colab": {
          "base_uri": "https://localhost:8080/"
        },
        "id": "Q93oAx6ziGuT",
        "outputId": "1e239c01-302a-4325-8e96-52cce8899146"
      },
      "execution_count": null,
      "outputs": [
        {
          "output_type": "execute_result",
          "data": {
            "text/plain": [
              "0"
            ]
          },
          "metadata": {},
          "execution_count": 6
        }
      ]
    },
    {
      "cell_type": "code",
      "source": [
        "# 使用count()計算某元素出現的次數\n",
        "t.count('one')"
      ],
      "metadata": {
        "colab": {
          "base_uri": "https://localhost:8080/"
        },
        "id": "ra2exwE8iPXE",
        "outputId": "49099c21-6c87-40e4-880c-3ae65a6bb7c7"
      },
      "execution_count": null,
      "outputs": [
        {
          "output_type": "execute_result",
          "data": {
            "text/plain": [
              "1"
            ]
          },
          "metadata": {},
          "execution_count": 7
        }
      ]
    },
    {
      "cell_type": "markdown",
      "source": [
        "## 1.3不可變Immutability"
      ],
      "metadata": {
        "id": "LuFjVRyPiRv_"
      }
    },
    {
      "cell_type": "code",
      "source": [
        "t[0]= 'change'"
      ],
      "metadata": {
        "colab": {
          "base_uri": "https://localhost:8080/",
          "height": 168
        },
        "id": "tx1t8xdriQhz",
        "outputId": "46dc899c-6dd9-43d4-da16-d6fb3ca9e017"
      },
      "execution_count": null,
      "outputs": [
        {
          "output_type": "error",
          "ename": "TypeError",
          "evalue": "ignored",
          "traceback": [
            "\u001b[0;31m---------------------------------------------------------------------------\u001b[0m",
            "\u001b[0;31mTypeError\u001b[0m                                 Traceback (most recent call last)",
            "\u001b[0;32m<ipython-input-8-1257c0aa9edd>\u001b[0m in \u001b[0;36m<module>\u001b[0;34m\u001b[0m\n\u001b[0;32m----> 1\u001b[0;31m \u001b[0mt\u001b[0m\u001b[0;34m[\u001b[0m\u001b[0;36m0\u001b[0m\u001b[0;34m]\u001b[0m\u001b[0;34m=\u001b[0m \u001b[0;34m'change'\u001b[0m\u001b[0;34m\u001b[0m\u001b[0;34m\u001b[0m\u001b[0m\n\u001b[0m",
            "\u001b[0;31mTypeError\u001b[0m: 'tuple' object does not support item assignment"
          ]
        }
      ]
    },
    {
      "cell_type": "code",
      "source": [
        "t.append('nope')"
      ],
      "metadata": {
        "colab": {
          "base_uri": "https://localhost:8080/",
          "height": 168
        },
        "id": "U1OcBWGLiXWt",
        "outputId": "7761d43e-9dd3-442e-83c3-61d4da41bb95"
      },
      "execution_count": null,
      "outputs": [
        {
          "output_type": "error",
          "ename": "AttributeError",
          "evalue": "ignored",
          "traceback": [
            "\u001b[0;31m---------------------------------------------------------------------------\u001b[0m",
            "\u001b[0;31mAttributeError\u001b[0m                            Traceback (most recent call last)",
            "\u001b[0;32m<ipython-input-9-b75f5b09ac19>\u001b[0m in \u001b[0;36m<module>\u001b[0;34m\u001b[0m\n\u001b[0;32m----> 1\u001b[0;31m \u001b[0mt\u001b[0m\u001b[0;34m.\u001b[0m\u001b[0mappend\u001b[0m\u001b[0;34m(\u001b[0m\u001b[0;34m'nope'\u001b[0m\u001b[0;34m)\u001b[0m\u001b[0;34m\u001b[0m\u001b[0;34m\u001b[0m\u001b[0m\n\u001b[0m",
            "\u001b[0;31mAttributeError\u001b[0m: 'tuple' object has no attribute 'append'"
          ]
        }
      ]
    },
    {
      "cell_type": "markdown",
      "source": [
        "## 1.4運用tuple的時機\n",
        "自己想"
      ],
      "metadata": {
        "id": "klGnO8SBif0N"
      }
    },
    {
      "cell_type": "markdown",
      "source": [
        "# 2.串列List\n",
        "串列的概念相當於python中的序列，它與string不同的地方在於，串列的內容是可變的，所以在串列中的每個元素都是可以調整的。  \n",
        "本單元我們會學到以下內容：    \n",
        "* 建立串列 Creating lists\n",
        "* 串列的索引與分片 Indexing and Slicing Lists\n",
        "* 基本的串列方法 Basic List Methods\n",
        "* 巢狀串列 Nesting Lists\n",
        "* 快速地建立串列 Introduction to List Comprehensions  \n",
        "\n",
        "串列是由[]所建構而成，每個元素由逗號分隔。  \n",
        "線上說明文件連結：https://docs.python.org/zh-tw/3/tutorial/datastructures.html"
      ],
      "metadata": {
        "id": "xBy2bmjJiis0"
      }
    },
    {
      "cell_type": "code",
      "source": [
        "# 建立一個名為my_list的串列\n",
        "my_list = [1,2,3]"
      ],
      "metadata": {
        "id": "E1Ky13lti3_x"
      },
      "execution_count": null,
      "outputs": []
    },
    {
      "cell_type": "code",
      "source": [
        "# 上述範例建立了元素皆為整數的串列，但串列的元素也可以是不同類型，舉例如下：\n",
        "my_list = ['A string',23,100.232,'o'] #包含字串、整數、浮點數、字元"
      ],
      "metadata": {
        "id": "wD-FhA_SjCUM"
      },
      "execution_count": null,
      "outputs": []
    },
    {
      "cell_type": "code",
      "source": [
        "# 和字串一樣，len計算出串列中的元素個數\n",
        "len(my_list)"
      ],
      "metadata": {
        "colab": {
          "base_uri": "https://localhost:8080/"
        },
        "id": "ePaDZe-WjGTa",
        "outputId": "a861f70b-3d9f-4445-8022-444a6649edc5"
      },
      "execution_count": null,
      "outputs": [
        {
          "output_type": "execute_result",
          "data": {
            "text/plain": [
              "4"
            ]
          },
          "metadata": {},
          "execution_count": 13
        }
      ]
    },
    {
      "cell_type": "markdown",
      "source": [
        "## 2.1 索引與分片Indexing and Slicing\n",
        "用法與字串相似，範例如下:"
      ],
      "metadata": {
        "id": "_mPXL1YajNVa"
      }
    },
    {
      "cell_type": "code",
      "source": [
        "my_list = ['one','two','three',4,5]"
      ],
      "metadata": {
        "id": "TAaCO9ZhjHn7"
      },
      "execution_count": null,
      "outputs": []
    },
    {
      "cell_type": "code",
      "source": [
        "# 取出索引值為0的元素\n",
        "my_list[0]"
      ],
      "metadata": {
        "colab": {
          "base_uri": "https://localhost:8080/",
          "height": 35
        },
        "id": "Lp2hpiSkjT8C",
        "outputId": "975ea319-8a87-436a-a1ca-8da29fed486b"
      },
      "execution_count": null,
      "outputs": [
        {
          "output_type": "execute_result",
          "data": {
            "text/plain": [
              "'one'"
            ],
            "application/vnd.google.colaboratory.intrinsic+json": {
              "type": "string"
            }
          },
          "metadata": {},
          "execution_count": 15
        }
      ]
    },
    {
      "cell_type": "code",
      "source": [
        "# 取出索引值1之後的所有元素\n",
        "my_list[1:]"
      ],
      "metadata": {
        "colab": {
          "base_uri": "https://localhost:8080/"
        },
        "id": "Ws2vU-MbjU-q",
        "outputId": "7779d994-c1ee-462c-b378-35edd05a761c"
      },
      "execution_count": null,
      "outputs": [
        {
          "output_type": "execute_result",
          "data": {
            "text/plain": [
              "['two', 'three', 4, 5]"
            ]
          },
          "metadata": {},
          "execution_count": 16
        }
      ]
    },
    {
      "cell_type": "code",
      "source": [
        "# 取出索引值3之前的所有元素，但不包含索引值3的元素\n",
        "my_list[:3]"
      ],
      "metadata": {
        "colab": {
          "base_uri": "https://localhost:8080/"
        },
        "id": "kNbwckXUjWES",
        "outputId": "9a17e517-71fd-47f4-e322-6aaa0fe580bf"
      },
      "execution_count": null,
      "outputs": [
        {
          "output_type": "execute_result",
          "data": {
            "text/plain": [
              "['one', 'two', 'three']"
            ]
          },
          "metadata": {},
          "execution_count": 17
        }
      ]
    },
    {
      "cell_type": "code",
      "source": [
        "# 也可以使用+來結合串列。\n",
        "my_list + ['new item']"
      ],
      "metadata": {
        "colab": {
          "base_uri": "https://localhost:8080/"
        },
        "id": "lhHXgNprjXgb",
        "outputId": "5d12fe92-de29-49f0-d75b-ff6cc2e55dfb"
      },
      "execution_count": null,
      "outputs": [
        {
          "output_type": "execute_result",
          "data": {
            "text/plain": [
              "['one', 'two', 'three', 4, 5, 'new item']"
            ]
          },
          "metadata": {},
          "execution_count": 18
        }
      ]
    },
    {
      "cell_type": "code",
      "source": [
        "# 請注意：上述的動作並未真的將my_list的內容改掉!\n",
        "my_list"
      ],
      "metadata": {
        "colab": {
          "base_uri": "https://localhost:8080/"
        },
        "id": "rizJJG4kjcIi",
        "outputId": "8a6a1654-6e9b-4888-bcf3-9aa71d0cd26c"
      },
      "execution_count": null,
      "outputs": [
        {
          "output_type": "execute_result",
          "data": {
            "text/plain": [
              "['one', 'two', 'three', 4, 5]"
            ]
          },
          "metadata": {},
          "execution_count": 20
        }
      ]
    },
    {
      "cell_type": "code",
      "source": [
        "# 請要覆寫mylist內容的話請用下方的語法:\n",
        "my_list = my_list + ['add new item permanently']"
      ],
      "metadata": {
        "id": "itAzvDzljedy"
      },
      "execution_count": null,
      "outputs": []
    },
    {
      "cell_type": "code",
      "source": [
        "my_list"
      ],
      "metadata": {
        "colab": {
          "base_uri": "https://localhost:8080/"
        },
        "id": "rKsD42UMjkpS",
        "outputId": "77c1ea13-eff7-44ea-e695-31874eeef778"
      },
      "execution_count": null,
      "outputs": [
        {
          "output_type": "execute_result",
          "data": {
            "text/plain": [
              "['one', 'two', 'three', 4, 5, 'add new item permanently']"
            ]
          },
          "metadata": {},
          "execution_count": 22
        }
      ]
    },
    {
      "cell_type": "code",
      "source": [
        "# 也可以使用 * 來複製串列\n",
        "my_list * 2"
      ],
      "metadata": {
        "colab": {
          "base_uri": "https://localhost:8080/"
        },
        "id": "p1RN0OeRjltK",
        "outputId": "91e13996-f61c-45b6-da8a-533614c0539a"
      },
      "execution_count": null,
      "outputs": [
        {
          "output_type": "execute_result",
          "data": {
            "text/plain": [
              "['one',\n",
              " 'two',\n",
              " 'three',\n",
              " 4,\n",
              " 5,\n",
              " 'add new item permanently',\n",
              " 'one',\n",
              " 'two',\n",
              " 'three',\n",
              " 4,\n",
              " 5,\n",
              " 'add new item permanently']"
            ]
          },
          "metadata": {},
          "execution_count": 23
        }
      ]
    },
    {
      "cell_type": "code",
      "source": [
        "# 請注意上述的動作並未改到原來的內容。\n",
        "my_list"
      ],
      "metadata": {
        "colab": {
          "base_uri": "https://localhost:8080/"
        },
        "id": "c0qF2uuQjohS",
        "outputId": "0a66b592-71eb-4f63-980b-4a3b56262f26"
      },
      "execution_count": null,
      "outputs": [
        {
          "output_type": "execute_result",
          "data": {
            "text/plain": [
              "['one', 'two', 'three', 4, 5, 'add new item permanently']"
            ]
          },
          "metadata": {},
          "execution_count": 24
        }
      ]
    },
    {
      "cell_type": "markdown",
      "source": [
        "## 2.2 串列基本方法Basic List Methods\n",
        "\n",
        "和其他程式語言相比，串列相當於陣列，但python中的串列長度不固定，所以使用起來更有彈性。"
      ],
      "metadata": {
        "id": "7MMBZZmzjrSj"
      }
    },
    {
      "cell_type": "code",
      "source": [
        "# 建立一個新的串列\n",
        "list1 = [1,2,3]"
      ],
      "metadata": {
        "id": "gFjTwxvvjqZT"
      },
      "execution_count": null,
      "outputs": []
    },
    {
      "cell_type": "code",
      "source": [
        "# 使用 append 方法來永久增加串列中的元素，每次加至串列的最末端:\n",
        "list1.append('append me!')"
      ],
      "metadata": {
        "id": "49upo5hdjyzq"
      },
      "execution_count": null,
      "outputs": []
    },
    {
      "cell_type": "code",
      "source": [
        "list1"
      ],
      "metadata": {
        "colab": {
          "base_uri": "https://localhost:8080/"
        },
        "id": "qQ8YXxJ_j1dq",
        "outputId": "a295ad6c-6141-4082-dc37-31c378eece63"
      },
      "execution_count": null,
      "outputs": [
        {
          "output_type": "execute_result",
          "data": {
            "text/plain": [
              "[1, 2, 3, 'append me!']"
            ]
          },
          "metadata": {},
          "execution_count": 27
        }
      ]
    },
    {
      "cell_type": "code",
      "source": [
        "# 將索引值0的元素取出，這是queue佇列的做法，最先進入串列的元素會先拿出來，至於會運用在什麼地方，以後會有範例說明。\n",
        "list1.pop(0)"
      ],
      "metadata": {
        "colab": {
          "base_uri": "https://localhost:8080/"
        },
        "id": "EEtzFwGlj2nq",
        "outputId": "30193336-7b1d-4045-df16-ee1f01c4769e"
      },
      "execution_count": null,
      "outputs": [
        {
          "output_type": "execute_result",
          "data": {
            "text/plain": [
              "1"
            ]
          },
          "metadata": {},
          "execution_count": 28
        }
      ]
    },
    {
      "cell_type": "code",
      "source": [
        "# 看看有什麼變化\n",
        "list1"
      ],
      "metadata": {
        "colab": {
          "base_uri": "https://localhost:8080/"
        },
        "id": "Zh7msMx8j32r",
        "outputId": "54595949-22ae-418e-a11f-255a3464fb50"
      },
      "execution_count": null,
      "outputs": [
        {
          "output_type": "execute_result",
          "data": {
            "text/plain": [
              "[2, 3, 'append me!']"
            ]
          },
          "metadata": {},
          "execution_count": 29
        }
      ]
    },
    {
      "cell_type": "code",
      "source": [
        "# 不指定取出元素的索引值，預設則會取出索引值-1的元素。這是stack堆疊的做法，最後進入串列的元素會最先拿出來，以後會有範例說明。\n",
        "popped_item = list1.pop()"
      ],
      "metadata": {
        "id": "5LW_IUnGj5Qj"
      },
      "execution_count": null,
      "outputs": []
    },
    {
      "cell_type": "code",
      "source": [
        "popped_item"
      ],
      "metadata": {
        "colab": {
          "base_uri": "https://localhost:8080/",
          "height": 35
        },
        "id": "WDtNgJ2Kj6b6",
        "outputId": "f9a86788-5ea4-480d-d5aa-4fc042fc665a"
      },
      "execution_count": null,
      "outputs": [
        {
          "output_type": "execute_result",
          "data": {
            "text/plain": [
              "'append me!'"
            ],
            "application/vnd.google.colaboratory.intrinsic+json": {
              "type": "string"
            }
          },
          "metadata": {},
          "execution_count": 31
        }
      ]
    },
    {
      "cell_type": "code",
      "source": [
        "# Show remaining list\n",
        "list1"
      ],
      "metadata": {
        "colab": {
          "base_uri": "https://localhost:8080/"
        },
        "id": "NcnUa2-zj7n6",
        "outputId": "126a23af-e160-4130-dd70-a84e7fef8abd"
      },
      "execution_count": null,
      "outputs": [
        {
          "output_type": "execute_result",
          "data": {
            "text/plain": [
              "[2, 3]"
            ]
          },
          "metadata": {},
          "execution_count": 32
        }
      ]
    },
    {
      "cell_type": "code",
      "source": [
        "# 如果指定不存在元素的索引值的話，會出現錯誤，如下例所示範:\n",
        "list1[100]"
      ],
      "metadata": {
        "colab": {
          "base_uri": "https://localhost:8080/",
          "height": 185
        },
        "id": "U5Fn4JY5j8qD",
        "outputId": "64e02e87-de23-4c04-cd29-aa7da107cb3a"
      },
      "execution_count": null,
      "outputs": [
        {
          "output_type": "error",
          "ename": "IndexError",
          "evalue": "ignored",
          "traceback": [
            "\u001b[0;31m---------------------------------------------------------------------------\u001b[0m",
            "\u001b[0;31mIndexError\u001b[0m                                Traceback (most recent call last)",
            "\u001b[0;32m<ipython-input-33-aa6742e1f0f0>\u001b[0m in \u001b[0;36m<module>\u001b[0;34m\u001b[0m\n\u001b[1;32m      1\u001b[0m \u001b[0;31m# 如果指定不存在元素的索引值的話，會出現錯誤，如下例所示範:\u001b[0m\u001b[0;34m\u001b[0m\u001b[0;34m\u001b[0m\u001b[0;34m\u001b[0m\u001b[0m\n\u001b[0;32m----> 2\u001b[0;31m \u001b[0mlist1\u001b[0m\u001b[0;34m[\u001b[0m\u001b[0;36m100\u001b[0m\u001b[0;34m]\u001b[0m\u001b[0;34m\u001b[0m\u001b[0;34m\u001b[0m\u001b[0m\n\u001b[0m",
            "\u001b[0;31mIndexError\u001b[0m: list index out of range"
          ]
        }
      ]
    },
    {
      "cell_type": "code",
      "source": [
        "# 使用 sort 和 reverse 來處理串列:\n",
        "new_list = ['a','e','x','b','c']"
      ],
      "metadata": {
        "id": "VnAkS6dNj_x7"
      },
      "execution_count": null,
      "outputs": []
    },
    {
      "cell_type": "code",
      "source": [
        "#Show\n",
        "new_list"
      ],
      "metadata": {
        "colab": {
          "base_uri": "https://localhost:8080/"
        },
        "id": "ozgR2CXOkC5i",
        "outputId": "7f22fa46-8050-42df-bbe2-3b9fbd51d355"
      },
      "execution_count": null,
      "outputs": [
        {
          "output_type": "execute_result",
          "data": {
            "text/plain": [
              "['a', 'e', 'x', 'b', 'c']"
            ]
          },
          "metadata": {},
          "execution_count": 35
        }
      ]
    },
    {
      "cell_type": "code",
      "source": [
        "# 反轉串列元素 (會永久改變內容，使用時請注意)\n",
        "new_list.reverse()"
      ],
      "metadata": {
        "id": "mWn6pvetkD_q"
      },
      "execution_count": null,
      "outputs": []
    },
    {
      "cell_type": "code",
      "source": [
        "new_list"
      ],
      "metadata": {
        "colab": {
          "base_uri": "https://localhost:8080/"
        },
        "id": "ILAEwj74kFJy",
        "outputId": "6cca9c7f-e291-484b-d5b6-4f4618ff3b8c"
      },
      "execution_count": null,
      "outputs": [
        {
          "output_type": "execute_result",
          "data": {
            "text/plain": [
              "['c', 'b', 'x', 'e', 'a']"
            ]
          },
          "metadata": {},
          "execution_count": 37
        }
      ]
    },
    {
      "cell_type": "code",
      "source": [
        "# 串列排序 (依照字母順序排列,但如果元素內容為數字型別則會由小到大排序)(效果同樣是永久改變內容)\n",
        "new_list.sort()"
      ],
      "metadata": {
        "id": "O_54zLsPkGOS"
      },
      "execution_count": null,
      "outputs": []
    },
    {
      "cell_type": "code",
      "source": [
        "new_list"
      ],
      "metadata": {
        "colab": {
          "base_uri": "https://localhost:8080/"
        },
        "id": "k7vL6yrukHba",
        "outputId": "f9b5c8e8-b228-49cf-b210-c9093809e3ea"
      },
      "execution_count": null,
      "outputs": [
        {
          "output_type": "execute_result",
          "data": {
            "text/plain": [
              "['a', 'b', 'c', 'e', 'x']"
            ]
          },
          "metadata": {},
          "execution_count": 39
        }
      ]
    },
    {
      "cell_type": "code",
      "source": [
        "#預設由小到大排序，但可以加上reverse參數，設定為True，則會變成由大到小\n",
        "new_list.sort(reverse=True)"
      ],
      "metadata": {
        "id": "pF5a3nNTkI1D"
      },
      "execution_count": null,
      "outputs": []
    },
    {
      "cell_type": "code",
      "source": [
        "new_list"
      ],
      "metadata": {
        "colab": {
          "base_uri": "https://localhost:8080/"
        },
        "id": "4JHVj3jtkKCK",
        "outputId": "d80faaec-f52e-4562-b956-2d05843e4f40"
      },
      "execution_count": null,
      "outputs": [
        {
          "output_type": "execute_result",
          "data": {
            "text/plain": [
              "['x', 'e', 'c', 'b', 'a']"
            ]
          },
          "metadata": {},
          "execution_count": 41
        }
      ]
    },
    {
      "cell_type": "code",
      "source": [
        "num_list=[2353,4564,23,564,64,3465]"
      ],
      "metadata": {
        "id": "U7pSSceWkLR6"
      },
      "execution_count": null,
      "outputs": []
    },
    {
      "cell_type": "code",
      "source": [
        "num_list.sort()"
      ],
      "metadata": {
        "id": "2p3LvIADkMcq"
      },
      "execution_count": null,
      "outputs": []
    },
    {
      "cell_type": "code",
      "source": [
        "num_list"
      ],
      "metadata": {
        "colab": {
          "base_uri": "https://localhost:8080/"
        },
        "id": "xjx0-HNDkNdr",
        "outputId": "eb4f7fbe-9ace-4bf1-e4dc-4c17f6002740"
      },
      "execution_count": null,
      "outputs": [
        {
          "output_type": "execute_result",
          "data": {
            "text/plain": [
              "[23, 64, 564, 2353, 3465, 4564]"
            ]
          },
          "metadata": {},
          "execution_count": 44
        }
      ]
    },
    {
      "cell_type": "code",
      "source": [
        "num_list.sort(reverse=True)"
      ],
      "metadata": {
        "id": "WlOSIz0TkOfr"
      },
      "execution_count": null,
      "outputs": []
    },
    {
      "cell_type": "code",
      "source": [
        "num_list"
      ],
      "metadata": {
        "colab": {
          "base_uri": "https://localhost:8080/"
        },
        "id": "4oGNfo17kPsr",
        "outputId": "d2197e9a-8b5a-44ba-89ba-2eebaff33ec8"
      },
      "execution_count": null,
      "outputs": [
        {
          "output_type": "execute_result",
          "data": {
            "text/plain": [
              "[4564, 3465, 2353, 564, 64, 23]"
            ]
          },
          "metadata": {},
          "execution_count": 46
        }
      ]
    },
    {
      "cell_type": "markdown",
      "source": [
        "## 2.3 巢狀串列Nesting Lists\n",
        "就是lists中還有lists"
      ],
      "metadata": {
        "id": "_sxC1-JAkTf2"
      }
    },
    {
      "cell_type": "code",
      "source": [
        "# 建立三個串列\n",
        "lst_1=[1,2,3]\n",
        "lst_2=[4,5,6]\n",
        "lst_3=[7,8,9]\n",
        "\n",
        "# 將三個串列組合起來變成一個矩陣\n",
        "matrix = [lst_1,lst_2,lst_3]"
      ],
      "metadata": {
        "id": "OchrWkBRkQv6"
      },
      "execution_count": null,
      "outputs": []
    },
    {
      "cell_type": "code",
      "source": [
        "# Show\n",
        "matrix"
      ],
      "metadata": {
        "colab": {
          "base_uri": "https://localhost:8080/"
        },
        "id": "_ELnwy4RkXtS",
        "outputId": "9511aa9d-febc-495c-af80-a5618e43be31"
      },
      "execution_count": null,
      "outputs": [
        {
          "output_type": "execute_result",
          "data": {
            "text/plain": [
              "[[1, 2, 3], [4, 5, 6], [7, 8, 9]]"
            ]
          },
          "metadata": {},
          "execution_count": 48
        }
      ]
    },
    {
      "cell_type": "code",
      "source": [
        "# 現在就變成二維串列了\n",
        "# 拿出串列中的第一個元素\n",
        "matrix[0]"
      ],
      "metadata": {
        "id": "7HPeilWEkY2b",
        "outputId": "c981ba00-ba90-4e28-b439-454b52766772",
        "colab": {
          "base_uri": "https://localhost:8080/"
        }
      },
      "execution_count": null,
      "outputs": [
        {
          "output_type": "execute_result",
          "data": {
            "text/plain": [
              "[1, 2, 3]"
            ]
          },
          "metadata": {},
          "execution_count": 50
        }
      ]
    },
    {
      "cell_type": "code",
      "source": [
        "# 拿出第一個元素中的第一個元素\n",
        "matrix[0][0]"
      ],
      "metadata": {
        "id": "PtfKJklkkaHc",
        "outputId": "c0b2c205-c6fb-4d0a-e611-156d26e941c9",
        "colab": {
          "base_uri": "https://localhost:8080/"
        }
      },
      "execution_count": null,
      "outputs": [
        {
          "output_type": "execute_result",
          "data": {
            "text/plain": [
              "1"
            ]
          },
          "metadata": {},
          "execution_count": 51
        }
      ]
    },
    {
      "cell_type": "markdown",
      "source": [
        "## 2.4 List Comprehensions\n",
        "我不會翻譯，就是可以快速產生串列的語法"
      ],
      "metadata": {
        "id": "7wY1NH9xkdqR"
      }
    },
    {
      "cell_type": "code",
      "source": [
        "# 搭配for迴圈和索引值，最後用[]組合而成的串列\n",
        "first_col = [row[0] for row in matrix]"
      ],
      "metadata": {
        "id": "qltXcU0olQvA"
      },
      "execution_count": 52,
      "outputs": []
    },
    {
      "cell_type": "code",
      "source": [
        "first_col"
      ],
      "metadata": {
        "colab": {
          "base_uri": "https://localhost:8080/"
        },
        "id": "h7wBjoxylZNC",
        "outputId": "a3366e17-947d-4973-d58e-4694f2228866"
      },
      "execution_count": 53,
      "outputs": [
        {
          "output_type": "execute_result",
          "data": {
            "text/plain": [
              "[1, 4, 7]"
            ]
          },
          "metadata": {},
          "execution_count": 53
        }
      ]
    }
  ]
}