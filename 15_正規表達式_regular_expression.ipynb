{
  "nbformat": 4,
  "nbformat_minor": 0,
  "metadata": {
    "colab": {
      "name": "15_正規表達式 regular expression.ipynb",
      "provenance": [],
      "authorship_tag": "ABX9TyO3yajOy9MI4/veqyKoZQ5B",
      "include_colab_link": true
    },
    "kernelspec": {
      "name": "python3",
      "display_name": "Python 3"
    },
    "language_info": {
      "name": "python"
    }
  },
  "cells": [
    {
      "cell_type": "markdown",
      "metadata": {
        "id": "view-in-github",
        "colab_type": "text"
      },
      "source": [
        "<a href=\"https://colab.research.google.com/github/weilipan/Python_Basic_Lesson/blob/main/15_%E6%AD%A3%E8%A6%8F%E8%A1%A8%E9%81%94%E5%BC%8F_regular_expression.ipynb\" target=\"_parent\"><img src=\"https://colab.research.google.com/assets/colab-badge.svg\" alt=\"Open In Colab\"/></a>"
      ]
    },
    {
      "cell_type": "markdown",
      "source": [
        "# 正規表達式 Regular Expression\n",
        "[正規表達式線上說明](https://docs.python.org/3/library/re.html?highlight=re#module-re)  \n",
        "[正規表達式檢測工具](https://regexr.com/41vj9)  \n",
        "正規表達式非常適合用於尋找及搜尋特定字串，設定好的文字格式可以讓我們檢查特定字是否與給定的正規表達式配對。  \n",
        "正規表達式可以包含特殊字元和普通字元。  \n",
        "普通字元如：'A','a' or '0'是非常簡單而且普通的字元。"
      ],
      "metadata": {
        "id": "gicUzThI0d8q"
      }
    },
    {
      "cell_type": "markdown",
      "source": [
        "## 1.基本規則1\n",
        "* 「.」可以表示任何字元，除了換行以外。\n",
        "* 「^」表示會出現在字串的開頭。\n",
        "* 「\\$」表示會出現在字串的結尾。\n",
        "* 「*」表示出現0次以上。\n",
        "* 「+」表示出現1次以上。\n",
        "* 「?」表示出現0或1次。\n",
        "\n",
        "\\*? +? ?? 通常 * + ? 都是以**貪婪(greedy)**演算法處理，永遠找出長度最長的符合表達式的字串，但是後面加上了?，就會變成**不貪婪(non-greedy)**的演算法，永遠找出長度最短符合表達式的字串。  \n",
        "例如：「.\\*」拿來檢視 abc，則abc都是被選擇出來。  \n",
        "但如果是「.\\*?」就是只篩出最前面的a。"
      ],
      "metadata": {
        "id": "L0rK9mVA1dAz"
      }
    },
    {
      "cell_type": "markdown",
      "source": [
        "# 2.基本規則2\n",
        "* {m} 代表欲檢視的表達式出現6次，例如a{6}就是指連續出現6個a。\n",
        "\n",
        "* {m,n} 代表欲檢視的表達式出現m至n次，例如a{3,5}就是指連續出現3~5個a。  \n",
        "a{4,}b 代表'aaaab' 或4個以上的'a'後面跟著一個'b',但不能是'aaab'.  \n",
        "* {m,n}? 代表欲檢視的表達式出現m~n次，可是後面多了?號，則變成不貪婪的演算法。舉例而言：如果以字串'aaaaaa'而言，a{3,5}會找出'aaaaa'，但a{3,5}?就會找出'aaa'而已。\n",
        "* \\ 跳脫字元，用來處理特殊字元之用，例如：'*','?'等等有特殊意義的字元但必須使用在表達式中，就要使用跳脫字元。\n",
        "* [] 用以處理一組字元：\n",
        "    1. [amk]可以找出'a'或'm'或'k'。\n",
        "    2. 也可以使用'-'指定範圍，如[a-z],[0-9]。[0-5][0-9]可以用以找出00 to 59的二位數字，[0-9A-Fa-f]可以找出16進位數字表示法。\n",
        "    3. 特殊字元在[]內或失去特殊意義，如：[(+*)]可以找出'(', '+', '*', or ')'。\n",
        "    4. '^'放在[]中的首字元可用於否定，如 [^5]可以配對除了'5'以外的任何字元。[^^]可以配對除了'^'以外的任何字元。'^'若未放在首字元則沒有任何意義。\n",
        "    5. 如果要匹配']'字元，請在前方加上反斜線或是直接放在首字。例如[()[\\]{}]和[]()[{}]都可以找出所有的括號符號。\n",
        "    \n",
        "* | 任一表達式，例如： A|B 就是找出'A'或'B'。而且它會從左到右去匹配，如果'A'已出現，則不會再尋找'B'。若要找出'|'字元，請使用反斜線 \\| ，或放在[|]中。"
      ],
      "metadata": {
        "id": "SaI9msYI3qnG"
      }
    },
    {
      "cell_type": "markdown",
      "source": [
        "## 3.基本規則3\n",
        "* \\number 群組的序號\n",
        "* \\A 字串的開頭字元。\n",
        "* \\d 數字0~9\n",
        "* \\D 非數字\n",
        "* \\s 各種空白符號，包括換行符號\\n\n",
        "* \\S 非空白符號\n",
        "* \\w 任意文字字元，包括數字。\n",
        "* \\W 非文字字元，包括空白符號。\n",
        "* \\Z 字串的結尾字元。"
      ],
      "metadata": {
        "id": "VFqxXKcd45wU"
      }
    },
    {
      "cell_type": "code",
      "source": [
        "!wget https://github.com/weilipan/Python_Code/blob/master/%E6%AD%A3%E8%A6%8F%E8%A1%A8%E9%81%94%E5%BC%8F/livestream.sbv livestream.sbv"
      ],
      "metadata": {
        "id": "hb-fseqm0rXi",
        "colab": {
          "base_uri": "https://localhost:8080/"
        },
        "outputId": "76789e9d-d63c-42aa-9845-e45a4a083052"
      },
      "execution_count": null,
      "outputs": [
        {
          "output_type": "stream",
          "name": "stdout",
          "text": [
            "--2022-08-26 06:46:11--  https://github.com/weilipan/Python_Code/blob/master/%E6%AD%A3%E8%A6%8F%E8%A1%A8%E9%81%94%E5%BC%8F/livestream.sbv\n",
            "Resolving github.com (github.com)... 192.30.255.112\n",
            "Connecting to github.com (github.com)|192.30.255.112|:443... connected.\n",
            "HTTP request sent, awaiting response... 200 OK\n",
            "Length: unspecified [text/html]\n",
            "Saving to: ‘livestream.sbv’\n",
            "\n",
            "livestream.sbv          [ <=>                ] 261.00K  --.-KB/s    in 0.03s   \n",
            "\n",
            "2022-08-26 06:46:11 (7.48 MB/s) - ‘livestream.sbv’ saved [267262]\n",
            "\n",
            "--2022-08-26 06:46:11--  http://livestream.sbv/\n",
            "Resolving livestream.sbv (livestream.sbv)... failed: Name or service not known.\n",
            "wget: unable to resolve host address ‘livestream.sbv’\n",
            "FINISHED --2022-08-26 06:46:11--\n",
            "Total wall clock time: 0.5s\n",
            "Downloaded: 1 files, 261K in 0.03s (7.48 MB/s)\n"
          ]
        }
      ]
    },
    {
      "cell_type": "code",
      "source": [
        "import re\n",
        "with open('livestream.sbv','r',encoding='utf8') as f: #開啟檔案，因為編碼的問題，所以要指定為utf8，才不會有鐘誤訊息\n",
        "    for line in f.readlines():\n",
        "        reg='\\d{2}:\\d{2}:\\d{2}\\.\\d{3}'#將時間戳記找出來。\n",
        "#         print(line) \n",
        "        result=re.findall(reg,line)\n",
        "        if len(result)>0:\n",
        "            print(result)"
      ],
      "metadata": {
        "colab": {
          "base_uri": "https://localhost:8080/"
        },
        "id": "pp_nYtlp5ont",
        "outputId": "42359aa6-b2b1-4022-cea2-cc541fbbb8c9"
      },
      "execution_count": null,
      "outputs": [
        {
          "output_type": "stream",
          "name": "stdout",
          "text": [
            "['00:01:27.257', '00:01:30.257']\n",
            "['00:01:55.371', '00:01:58.371']\n",
            "['00:02:23.949', '00:02:26.949']\n",
            "['00:03:00.934', '00:03:03.934']\n",
            "['00:04:04.381', '00:04:07.381']\n",
            "['00:04:28.804', '00:04:31.804']\n",
            "['00:04:47.529', '00:04:50.529']\n",
            "['00:05:03.483', '00:05:06.483']\n",
            "['00:05:17.880', '00:05:20.880']\n",
            "['00:05:27.913', '00:05:30.913']\n",
            "['00:05:35.404', '00:05:38.404']\n",
            "['00:05:39.914', '00:05:42.914']\n",
            "['00:05:43.004', '00:05:46.004']\n",
            "['00:06:13.322', '00:06:16.322']\n",
            "['00:06:16.422', '00:06:19.422']\n",
            "['00:06:24.567', '00:06:27.567']\n",
            "['00:06:26.973', '00:06:29.973']\n",
            "['00:06:34.408', '00:06:37.408']\n",
            "['00:06:37.644', '00:06:40.644']\n",
            "['00:06:48.368', '00:06:51.368']\n",
            "['00:06:50.511', '00:06:53.511']\n",
            "['00:07:17.170', '00:07:20.170']\n",
            "['00:07:21.075', '00:07:24.075']\n",
            "['00:07:30.977', '00:07:33.977']\n",
            "['00:07:36.206', '00:07:39.206']\n",
            "['00:07:38.376', '00:07:41.376']\n",
            "['00:07:49.024', '00:07:52.024']\n",
            "['00:07:53.976', '00:07:56.976']\n",
            "['00:08:00.613', '00:08:03.613']\n",
            "['00:08:05.875', '00:08:08.875']\n",
            "['00:08:09.309', '00:08:12.309']\n",
            "['00:08:19.519', '00:08:22.519']\n",
            "['00:09:01.260', '00:09:04.260']\n",
            "['00:09:24.294', '00:09:27.294']\n",
            "['00:09:35.120', '00:09:38.120']\n",
            "['00:10:14.068', '00:10:17.068']\n",
            "['00:10:26.177', '00:10:29.177']\n",
            "['00:10:46.183', '00:10:49.183']\n",
            "['00:11:07.149', '00:11:10.149']\n",
            "['00:11:24.282', '00:11:27.282']\n",
            "['00:11:36.200', '00:11:39.200']\n",
            "['00:12:21.952', '00:12:24.952']\n",
            "['00:12:23.142', '00:12:26.142']\n",
            "['00:12:31.493', '00:12:34.493']\n",
            "['00:12:31.690', '00:12:34.690']\n",
            "['00:12:32.523', '00:12:35.523']\n",
            "['00:12:39.625', '00:12:42.625']\n",
            "['00:12:47.372', '00:12:50.372']\n",
            "['00:12:53.391', '00:12:56.391']\n",
            "['00:12:53.936', '00:12:56.936']\n",
            "['00:12:58.755', '00:13:01.755']\n",
            "['00:13:08.280', '00:13:11.280']\n",
            "['00:13:11.019', '00:13:14.019']\n",
            "['00:13:17.136', '00:13:20.136']\n",
            "['00:13:18.583', '00:13:21.583']\n",
            "['00:13:19.343', '00:13:22.343']\n",
            "['00:13:19.549', '00:13:22.549']\n",
            "['00:13:31.137', '00:13:34.137']\n",
            "['00:13:35.359', '00:13:38.359']\n",
            "['00:13:37.982', '00:13:40.982']\n",
            "['00:13:39.281', '00:13:42.281']\n",
            "['00:13:47.273', '00:13:50.273']\n",
            "['00:13:51.374', '00:13:54.374']\n",
            "['00:13:54.330', '00:13:57.330']\n",
            "['00:14:01.855', '00:14:04.855']\n",
            "['00:14:02.093', '00:14:05.093']\n",
            "['00:14:09.975', '00:14:12.975']\n",
            "['00:14:11.863', '00:14:14.863']\n",
            "['00:14:16.452', '00:14:19.452']\n",
            "['00:14:30.544', '00:14:33.544']\n",
            "['00:14:33.882', '00:14:36.882']\n",
            "['00:14:37.297', '00:14:40.297']\n",
            "['00:14:37.883', '00:14:40.883']\n",
            "['00:14:40.311', '00:14:43.311']\n",
            "['00:14:40.899', '00:14:43.899']\n",
            "['00:14:41.930', '00:14:44.930']\n",
            "['00:14:46.897', '00:14:49.897']\n",
            "['00:14:48.162', '00:14:51.162']\n",
            "['00:14:53.246', '00:14:56.246']\n",
            "['00:15:00.160', '00:15:03.160']\n",
            "['00:15:01.130', '00:15:04.130']\n",
            "['00:15:22.750', '00:15:25.750']\n",
            "['00:15:23.717', '00:15:26.717']\n",
            "['00:15:31.555', '00:15:34.555']\n",
            "['00:15:32.164', '00:15:35.164']\n",
            "['00:15:33.417', '00:15:36.417']\n",
            "['00:15:47.940', '00:15:50.940']\n",
            "['00:16:14.549', '00:16:17.549']\n",
            "['00:16:41.285', '00:16:44.285']\n",
            "['00:16:42.699', '00:16:45.699']\n",
            "['00:17:09.476', '00:17:12.476']\n",
            "['00:17:45.731', '00:17:48.731']\n",
            "['00:18:28.002', '00:18:31.002']\n",
            "['00:18:46.675', '00:18:49.675']\n",
            "['00:18:59.162', '00:19:02.162']\n",
            "['00:19:16.065', '00:19:19.065']\n",
            "['00:19:44.745', '00:19:47.745']\n",
            "['00:19:49.829', '00:19:52.829']\n",
            "['00:21:11.541', '00:21:14.541']\n",
            "['00:21:30.621', '00:21:33.621']\n",
            "['00:21:35.031', '00:21:38.031']\n",
            "['00:21:49.131', '00:21:52.131']\n",
            "['00:21:58.755', '00:22:01.755']\n",
            "['00:22:09.294', '00:22:12.294']\n",
            "['00:22:10.191', '00:22:13.191']\n",
            "['00:22:39.824', '00:22:42.824']\n",
            "['00:26:21.540', '00:26:24.540']\n",
            "['00:26:26.227', '00:26:29.227']\n",
            "['00:26:28.743', '00:26:31.743']\n",
            "['00:26:36.495', '00:26:39.495']\n",
            "['00:26:37.782', '00:26:40.782']\n",
            "['00:26:44.059', '00:26:47.059']\n",
            "['00:26:57.594', '00:27:00.594']\n",
            "['00:27:08.509', '00:27:11.509']\n",
            "['00:27:16.975', '00:27:19.975']\n",
            "['00:27:42.900', '00:27:45.900']\n",
            "['00:27:48.929', '00:27:51.929']\n",
            "['00:27:57.417', '00:28:00.417']\n",
            "['00:28:06.894', '00:28:09.894']\n",
            "['00:28:08.628', '00:28:11.628']\n",
            "['00:28:08.995', '00:28:11.995']\n",
            "['00:28:12.429', '00:28:15.429']\n",
            "['00:28:32.577', '00:28:35.577']\n",
            "['00:28:46.182', '00:28:49.182']\n",
            "['00:29:08.038', '00:29:11.038']\n",
            "['00:29:16.123', '00:29:19.123']\n",
            "['00:29:17.192', '00:29:20.192']\n",
            "['00:29:27.734', '00:29:30.734']\n",
            "['00:29:34.539', '00:29:37.539']\n",
            "['00:29:37.552', '00:29:40.552']\n",
            "['00:29:48.969', '00:29:51.969']\n",
            "['00:29:55.282', '00:29:58.282']\n",
            "['00:29:55.931', '00:29:58.931']\n",
            "['00:30:04.238', '00:30:07.238']\n",
            "['00:30:05.158', '00:30:08.158']\n",
            "['00:31:47.246', '00:31:50.246']\n",
            "['00:34:14.921', '00:34:17.921']\n",
            "['00:36:03.432', '00:36:06.432']\n",
            "['00:36:15.817', '00:36:18.817']\n",
            "['00:36:22.182', '00:36:25.182']\n",
            "['00:36:49.920', '00:36:52.920']\n",
            "['00:37:31.549', '00:37:34.549']\n",
            "['00:37:46.399', '00:37:49.399']\n",
            "['00:38:00.763', '00:38:03.763']\n",
            "['00:39:16.184', '00:39:19.184']\n",
            "['00:39:24.058', '00:39:27.058']\n",
            "['00:39:51.472', '00:39:54.472']\n",
            "['00:39:51.540', '00:39:54.540']\n",
            "['00:40:06.704', '00:40:09.704']\n",
            "['00:40:24.406', '00:40:27.406']\n",
            "['00:40:33.196', '00:40:36.196']\n",
            "['00:40:53.239', '00:40:56.239']\n",
            "['00:41:08.210', '00:41:11.210']\n",
            "['00:41:38.033', '00:41:41.033']\n",
            "['00:41:45.874', '00:41:48.874']\n",
            "['00:42:32.799', '00:42:35.799']\n",
            "['00:43:21.805', '00:43:24.805']\n",
            "['00:43:28.700', '00:43:31.700']\n",
            "['00:43:30.301', '00:43:33.301']\n",
            "['00:44:15.992', '00:44:18.992']\n",
            "['00:44:19.300', '00:44:22.300']\n",
            "['00:45:01.758', '00:45:04.758']\n",
            "['00:47:23.951', '00:47:26.951']\n",
            "['00:53:28.344', '00:53:31.344']\n",
            "['00:54:01.882', '00:54:04.882']\n",
            "['00:54:01.894', '00:54:04.894']\n",
            "['00:54:01.904', '00:54:04.904']\n",
            "['00:54:01.916', '00:54:04.916']\n",
            "['00:54:38.143', '00:54:41.143']\n",
            "['00:55:10.791', '00:55:13.791']\n",
            "['00:56:57.568', '00:57:00.568']\n"
          ]
        }
      ]
    },
    {
      "cell_type": "code",
      "source": [
        "# 載入正規表達式套件\n",
        "import re\n",
        "with open('livestream.sbv','r',encoding='utf8') as f: #開啟檔案，因為編碼的問題，所以要指定為utf8，才不會有鐘誤訊息\n",
        "    for line in f.readlines():\n",
        "        reg='ck108\\d{4}\\w{3}'#學號及姓名撈出來\n",
        "#         print(line) \n",
        "        result=re.findall(reg,line)\n",
        "        if len(result)>0:\n",
        "            print(result)"
      ],
      "metadata": {
        "colab": {
          "base_uri": "https://localhost:8080/"
        },
        "id": "VJFpNarO_VpV",
        "outputId": "f621ea43-a8ac-4ee6-b260-4ce9c28a6f44"
      },
      "execution_count": null,
      "outputs": [
        {
          "output_type": "stream",
          "name": "stdout",
          "text": [
            "['ck1080373徐啟皓']\n",
            "['ck1080375張博翔']\n",
            "['ck1080389鄭承瀚']\n",
            "['ck1080369林若渝']\n",
            "['ck1080364李秉杰']\n",
            "['ck1080362吳懷恩']\n",
            "['ck1080369林若渝']\n",
            "['ck1080369林若渝']\n",
            "['ck1080366周昕磊']\n",
            "['ck1080369林若渝']\n",
            "['ck1080360朱冠宇']\n",
            "['ck1080383黃泫儒']\n",
            "['ck1080373徐啟皓']\n",
            "['ck1080390薛耀智']\n",
            "['ck1080369林若渝']\n",
            "['ck1080363李志桓']\n",
            "['ck1080386廖宇軒']\n",
            "['ck1080373徐啟皓']\n",
            "['ck1080363李志桓']\n",
            "['ck1080381游博安']\n",
            "['ck1080363李志桓']\n",
            "['ck1080363李志桓']\n",
            "['ck1080357毛柏毅']\n",
            "['ck1080371金漢霖']\n",
            "['ck1080363李志桓']\n",
            "['ck1080371金漢霖']\n",
            "['ck1080377許竣閎']\n",
            "['ck1080363李志桓']\n",
            "['ck1080363李志桓']\n",
            "['ck1080379陳勇任']\n",
            "['ck1080373徐啟皓']\n",
            "['ck1080363李志桓']\n",
            "['ck1080363李志桓']\n",
            "['ck1080371金漢霖']\n",
            "['ck1080371金漢霖']\n",
            "['ck1080371金漢霖']\n",
            "['ck1080380陳禹廷']\n",
            "['ck1080363李志桓']\n",
            "['ck1080370武勁州']\n",
            "['ck1080370武勁州']\n",
            "['ck1080363李志桓']\n",
            "['ck1080380陳禹廷']\n",
            "['ck1080371金漢霖']\n",
            "['ck1080363李志桓']\n",
            "['ck1080370武勁州']\n",
            "['ck1080380陳禹廷']\n",
            "['ck1080390薛耀智']\n",
            "['ck1080376梁方維']\n",
            "['ck1080371金漢霖']\n",
            "['ck1080370武勁州']\n",
            "['ck1080377許竣閎']\n",
            "['ck1080376梁方維']\n",
            "['ck1080380陳禹廷']\n",
            "['ck1080364李秉杰']\n",
            "['ck1080357毛柏毅']\n",
            "['ck1080376梁方維']\n",
            "['ck1080390薛耀智']\n",
            "['ck1080369林若渝']\n",
            "['ck1080380陳禹廷']\n",
            "['ck1080375張博翔']\n",
            "['ck1080373徐啟皓']\n",
            "['ck1080357毛柏毅']\n",
            "['ck1080380陳禹廷']\n",
            "['ck1080380陳禹廷']\n",
            "['ck1080371金漢霖']\n",
            "['ck1080375張博翔']\n",
            "['ck1080369林若渝']\n",
            "['ck1080375張博翔']\n",
            "['ck1080377許竣閎']\n",
            "['ck1080371金漢霖']\n",
            "['ck1080357毛柏毅']\n",
            "['ck1080370武勁州']\n",
            "['ck1080380陳禹廷']\n",
            "['ck1080357毛柏毅']\n",
            "['ck1080375張博翔']\n",
            "['ck1080364李秉杰']\n",
            "['ck1080376梁方維']\n",
            "['ck1080364李秉杰']\n",
            "['ck1080370武勁州']\n",
            "['ck1080371金漢霖']\n",
            "['ck1080357毛柏毅']\n",
            "['ck1080370武勁州']\n",
            "['ck1080380陳禹廷']\n",
            "['ck1080371金漢霖']\n",
            "['ck1080375張博翔']\n",
            "['ck1080375張博翔']\n",
            "['ck1080357毛柏毅']\n",
            "['ck1080357毛柏毅']\n",
            "['ck1080357毛柏毅']\n",
            "['ck1080364李秉杰']\n",
            "['ck1080357毛柏毅']\n",
            "['ck1080357毛柏毅']\n",
            "['ck1080357毛柏毅']\n",
            "['ck1080364李秉杰']\n",
            "['ck1080369林若渝']\n",
            "['ck1080376梁方維']\n",
            "['ck1080373徐啟皓']\n",
            "['ck1080364李秉杰']\n",
            "['ck1080380陳禹廷']\n",
            "['ck1080357毛柏毅']\n",
            "['ck1080369林若渝']\n",
            "['ck1080364李秉杰']\n",
            "['ck1080373徐啟皓']\n",
            "['ck1080357毛柏毅']\n",
            "['ck1080370武勁州']\n",
            "['ck1080370武勁州']\n",
            "['ck1080357毛柏毅']\n",
            "['ck1080373徐啟皓']\n",
            "['ck1080370武勁州']\n",
            "['ck1080380陳禹廷']\n",
            "['ck1080370武勁州']\n",
            "['ck1080370武勁州']\n",
            "['ck1080373徐啟皓']\n",
            "['ck1080380陳禹廷']\n",
            "['ck1080371金漢霖']\n",
            "['ck1080370武勁州']\n",
            "['ck1080371金漢霖']\n",
            "['ck1080371金漢霖']\n",
            "['ck1080382黃子宸']\n",
            "['ck1080364李秉杰']\n",
            "['ck1080370武勁州']\n",
            "['ck1080364李秉杰']\n",
            "['ck1080371金漢霖']\n",
            "['ck1080373徐啟皓']\n",
            "['ck1080372洪佑全']\n",
            "['ck1080373徐啟皓']\n",
            "['ck1080357毛柏毅']\n",
            "['ck1080357毛柏毅']\n",
            "['ck1080357毛柏毅']\n",
            "['ck1080373徐啟皓']\n",
            "['ck1080357毛柏毅']\n",
            "['ck1080357毛柏毅']\n",
            "['ck1080357毛柏毅']\n",
            "['ck1080357毛柏毅']\n",
            "['ck1080357毛柏毅']\n",
            "['ck1080373徐啟皓']\n",
            "['ck1080357毛柏毅']\n",
            "['ck1080364李秉杰']\n",
            "['ck1080357毛柏毅']\n",
            "['ck1080357毛柏毅']\n",
            "['ck1080357毛柏毅']\n",
            "['ck1080373徐啟皓']\n",
            "['ck1080364李秉杰']\n",
            "['ck1080373徐啟皓']\n",
            "['ck1080390薛耀智']\n",
            "['ck1080357毛柏毅']\n",
            "['ck1080373徐啟皓']\n",
            "['ck1080357毛柏毅']\n",
            "['ck1080357毛柏毅']\n",
            "['ck1080357毛柏毅']\n",
            "['ck1080357毛柏毅']\n",
            "['ck1080357毛柏毅']\n",
            "['ck1080373徐啟皓']\n"
          ]
        }
      ]
    },
    {
      "cell_type": "code",
      "source": [
        "# 載入正規表達式套件\n",
        "import re\n",
        "names=[] #用來存放出現的姓名之用\n",
        "with open('livestream.sbv','r',encoding='utf8') as f: #開啟檔案，因為編碼的問題，所以要指定為utf8，才不會有鐘誤訊息\n",
        "    for line in f.readlines():\n",
        "        reg='ck108\\d{4}\\w{3}'#學號及姓名撈出來\n",
        "#         print(line) \n",
        "        result=re.findall(reg,line)\n",
        "        if len(result)>0:\n",
        "#             print(result)\n",
        "            names+=result\n",
        "    print(names)\n",
        "    print(set(names)) #將重覆的人名去掉"
      ],
      "metadata": {
        "colab": {
          "base_uri": "https://localhost:8080/"
        },
        "id": "ZyK6Fde9_nrA",
        "outputId": "fc89c8da-d11f-4444-da44-443c1dd795f1"
      },
      "execution_count": null,
      "outputs": [
        {
          "output_type": "stream",
          "name": "stdout",
          "text": [
            "['ck1080373徐啟皓', 'ck1080375張博翔', 'ck1080389鄭承瀚', 'ck1080369林若渝', 'ck1080364李秉杰', 'ck1080362吳懷恩', 'ck1080369林若渝', 'ck1080369林若渝', 'ck1080366周昕磊', 'ck1080369林若渝', 'ck1080360朱冠宇', 'ck1080383黃泫儒', 'ck1080373徐啟皓', 'ck1080390薛耀智', 'ck1080369林若渝', 'ck1080363李志桓', 'ck1080386廖宇軒', 'ck1080373徐啟皓', 'ck1080363李志桓', 'ck1080381游博安', 'ck1080363李志桓', 'ck1080363李志桓', 'ck1080357毛柏毅', 'ck1080371金漢霖', 'ck1080363李志桓', 'ck1080371金漢霖', 'ck1080377許竣閎', 'ck1080363李志桓', 'ck1080363李志桓', 'ck1080379陳勇任', 'ck1080373徐啟皓', 'ck1080363李志桓', 'ck1080363李志桓', 'ck1080371金漢霖', 'ck1080371金漢霖', 'ck1080371金漢霖', 'ck1080380陳禹廷', 'ck1080363李志桓', 'ck1080370武勁州', 'ck1080370武勁州', 'ck1080363李志桓', 'ck1080380陳禹廷', 'ck1080371金漢霖', 'ck1080363李志桓', 'ck1080370武勁州', 'ck1080380陳禹廷', 'ck1080390薛耀智', 'ck1080376梁方維', 'ck1080371金漢霖', 'ck1080370武勁州', 'ck1080377許竣閎', 'ck1080376梁方維', 'ck1080380陳禹廷', 'ck1080364李秉杰', 'ck1080357毛柏毅', 'ck1080376梁方維', 'ck1080390薛耀智', 'ck1080369林若渝', 'ck1080380陳禹廷', 'ck1080375張博翔', 'ck1080373徐啟皓', 'ck1080357毛柏毅', 'ck1080380陳禹廷', 'ck1080380陳禹廷', 'ck1080371金漢霖', 'ck1080375張博翔', 'ck1080369林若渝', 'ck1080375張博翔', 'ck1080377許竣閎', 'ck1080371金漢霖', 'ck1080357毛柏毅', 'ck1080370武勁州', 'ck1080380陳禹廷', 'ck1080357毛柏毅', 'ck1080375張博翔', 'ck1080364李秉杰', 'ck1080376梁方維', 'ck1080364李秉杰', 'ck1080370武勁州', 'ck1080371金漢霖', 'ck1080357毛柏毅', 'ck1080370武勁州', 'ck1080380陳禹廷', 'ck1080371金漢霖', 'ck1080375張博翔', 'ck1080375張博翔', 'ck1080357毛柏毅', 'ck1080357毛柏毅', 'ck1080357毛柏毅', 'ck1080364李秉杰', 'ck1080357毛柏毅', 'ck1080357毛柏毅', 'ck1080357毛柏毅', 'ck1080364李秉杰', 'ck1080369林若渝', 'ck1080376梁方維', 'ck1080373徐啟皓', 'ck1080364李秉杰', 'ck1080380陳禹廷', 'ck1080357毛柏毅', 'ck1080369林若渝', 'ck1080364李秉杰', 'ck1080373徐啟皓', 'ck1080357毛柏毅', 'ck1080370武勁州', 'ck1080370武勁州', 'ck1080357毛柏毅', 'ck1080373徐啟皓', 'ck1080370武勁州', 'ck1080380陳禹廷', 'ck1080370武勁州', 'ck1080370武勁州', 'ck1080373徐啟皓', 'ck1080380陳禹廷', 'ck1080371金漢霖', 'ck1080370武勁州', 'ck1080371金漢霖', 'ck1080371金漢霖', 'ck1080382黃子宸', 'ck1080364李秉杰', 'ck1080370武勁州', 'ck1080364李秉杰', 'ck1080371金漢霖', 'ck1080373徐啟皓', 'ck1080372洪佑全', 'ck1080373徐啟皓', 'ck1080357毛柏毅', 'ck1080357毛柏毅', 'ck1080357毛柏毅', 'ck1080373徐啟皓', 'ck1080357毛柏毅', 'ck1080357毛柏毅', 'ck1080357毛柏毅', 'ck1080357毛柏毅', 'ck1080357毛柏毅', 'ck1080373徐啟皓', 'ck1080357毛柏毅', 'ck1080364李秉杰', 'ck1080357毛柏毅', 'ck1080357毛柏毅', 'ck1080357毛柏毅', 'ck1080373徐啟皓', 'ck1080364李秉杰', 'ck1080373徐啟皓', 'ck1080390薛耀智', 'ck1080357毛柏毅', 'ck1080373徐啟皓', 'ck1080357毛柏毅', 'ck1080357毛柏毅', 'ck1080357毛柏毅', 'ck1080357毛柏毅', 'ck1080357毛柏毅', 'ck1080373徐啟皓']\n",
            "{'ck1080383黃泫儒', 'ck1080382黃子宸', 'ck1080371金漢霖', 'ck1080369林若渝', 'ck1080364李秉杰', 'ck1080375張博翔', 'ck1080381游博安', 'ck1080380陳禹廷', 'ck1080357毛柏毅', 'ck1080366周昕磊', 'ck1080389鄭承瀚', 'ck1080370武勁州', 'ck1080373徐啟皓', 'ck1080362吳懷恩', 'ck1080377許竣閎', 'ck1080386廖宇軒', 'ck1080360朱冠宇', 'ck1080376梁方維', 'ck1080363李志桓', 'ck1080379陳勇任', 'ck1080372洪佑全', 'ck1080390薛耀智'}\n"
          ]
        }
      ]
    },
    {
      "cell_type": "code",
      "source": [
        "!wget -L https://github.com/weilipan/Python_Code/raw/master/%E6%AD%A3%E8%A6%8F%E8%A1%A8%E9%81%94%E5%BC%8F/mbox-short.txt mbox-short.txt"
      ],
      "metadata": {
        "colab": {
          "base_uri": "https://localhost:8080/"
        },
        "id": "BfNqCJDy_t2_",
        "outputId": "6ef1d05d-dcb0-4734-c686-5872cf48f38e"
      },
      "execution_count": null,
      "outputs": [
        {
          "output_type": "stream",
          "name": "stdout",
          "text": [
            "--2022-08-26 07:26:42--  https://github.com/weilipan/Python_Code/raw/master/%E6%AD%A3%E8%A6%8F%E8%A1%A8%E9%81%94%E5%BC%8F/mbox-short.txt\n",
            "Resolving github.com (github.com)... 192.30.255.113\n",
            "Connecting to github.com (github.com)|192.30.255.113|:443... connected.\n",
            "HTTP request sent, awaiting response... 302 Found\n",
            "Location: https://raw.githubusercontent.com/weilipan/Python_Code/master/%E6%AD%A3%E8%A6%8F%E8%A1%A8%E9%81%94%E5%BC%8F/mbox-short.txt [following]\n",
            "--2022-08-26 07:26:42--  https://raw.githubusercontent.com/weilipan/Python_Code/master/%E6%AD%A3%E8%A6%8F%E8%A1%A8%E9%81%94%E5%BC%8F/mbox-short.txt\n",
            "Resolving raw.githubusercontent.com (raw.githubusercontent.com)... 185.199.108.133, 185.199.109.133, 185.199.110.133, ...\n",
            "Connecting to raw.githubusercontent.com (raw.githubusercontent.com)|185.199.108.133|:443... connected.\n",
            "HTTP request sent, awaiting response... 200 OK\n",
            "Length: 94630 (92K) [text/plain]\n",
            "Saving to: ‘mbox-short.txt’\n",
            "\n",
            "mbox-short.txt      100%[===================>]  92.41K  --.-KB/s    in 0.01s   \n",
            "\n",
            "2022-08-26 07:26:43 (9.49 MB/s) - ‘mbox-short.txt’ saved [94630/94630]\n",
            "\n",
            "--2022-08-26 07:26:43--  http://mbox-short.txt/\n",
            "Resolving mbox-short.txt (mbox-short.txt)... failed: Name or service not known.\n",
            "wget: unable to resolve host address ‘mbox-short.txt’\n",
            "FINISHED --2022-08-26 07:26:43--\n",
            "Total wall clock time: 0.5s\n",
            "Downloaded: 1 files, 92K in 0.01s (9.49 MB/s)\n"
          ]
        }
      ]
    },
    {
      "cell_type": "code",
      "source": [
        "#尋找有包括'From'的行\n",
        "import re #載入regular expression模組\n",
        "hand = open('mbox-short.txt') #打開檔案\n",
        "for line in hand:\n",
        "    line = line.rstrip() #先利用rstrip()將每行最右邊的隱藏符號和空白去除\n",
        "    if re.search('From:', line):#從line尋找是否包含From字串\n",
        "        print(line)#如果有就印出來。\n",
        "hand.close()"
      ],
      "metadata": {
        "colab": {
          "base_uri": "https://localhost:8080/"
        },
        "id": "fGKjfNy9_0OU",
        "outputId": "4a287270-6b2c-4ea1-96d6-f48e47e07ca8"
      },
      "execution_count": null,
      "outputs": [
        {
          "output_type": "stream",
          "name": "stdout",
          "text": [
            "From: stephen.marquard@uct.ac.za\n",
            "From: louis@media.berkeley.edu\n",
            "From: zqian@umich.edu\n",
            "From: rjlowe@iupui.edu\n",
            "From: zqian@umich.edu\n",
            "From: rjlowe@iupui.edu\n",
            "From: cwen@iupui.edu\n",
            "From: cwen@iupui.edu\n",
            "From: gsilver@umich.edu\n",
            "From: gsilver@umich.edu\n",
            "From: zqian@umich.edu\n",
            "From: gsilver@umich.edu\n",
            "From: wagnermr@iupui.edu\n",
            "From: zqian@umich.edu\n",
            "From: antranig@caret.cam.ac.uk\n",
            "From: gopal.ramasammycook@gmail.com\n",
            "From: david.horwitz@uct.ac.za\n",
            "From: david.horwitz@uct.ac.za\n",
            "From: david.horwitz@uct.ac.za\n",
            "From: david.horwitz@uct.ac.za\n",
            "From: stephen.marquard@uct.ac.za\n",
            "From: louis@media.berkeley.edu\n",
            "From: louis@media.berkeley.edu\n",
            "From: ray@media.berkeley.edu\n",
            "From: cwen@iupui.edu\n",
            "From: cwen@iupui.edu\n",
            "From: cwen@iupui.edu\n"
          ]
        }
      ]
    },
    {
      "cell_type": "code",
      "source": [
        "hand = open('mbox-short.txt') #打開檔案\n",
        "#接下來是尋找開頭為'From'的行\n",
        "for line in hand:\n",
        "    line = line.rstrip() #先利用rstrip()將每行最右邊的隱藏符號和空白去除\n",
        "    if re.search('^From:', line):#從line尋找是否包含開頭From字串，\"^\"是開頭的意思\n",
        "        print(line)#如果有就印出來。\n",
        "hand.close()\n",
        "print()"
      ],
      "metadata": {
        "colab": {
          "base_uri": "https://localhost:8080/"
        },
        "id": "rzWIcxVaAFT7",
        "outputId": "04b6dc2b-d8b0-4d74-b7cc-7f62e57dfa7f"
      },
      "execution_count": null,
      "outputs": [
        {
          "output_type": "stream",
          "name": "stdout",
          "text": [
            "From: stephen.marquard@uct.ac.za\n",
            "From: louis@media.berkeley.edu\n",
            "From: zqian@umich.edu\n",
            "From: rjlowe@iupui.edu\n",
            "From: zqian@umich.edu\n",
            "From: rjlowe@iupui.edu\n",
            "From: cwen@iupui.edu\n",
            "From: cwen@iupui.edu\n",
            "From: gsilver@umich.edu\n",
            "From: gsilver@umich.edu\n",
            "From: zqian@umich.edu\n",
            "From: gsilver@umich.edu\n",
            "From: wagnermr@iupui.edu\n",
            "From: zqian@umich.edu\n",
            "From: antranig@caret.cam.ac.uk\n",
            "From: gopal.ramasammycook@gmail.com\n",
            "From: david.horwitz@uct.ac.za\n",
            "From: david.horwitz@uct.ac.za\n",
            "From: david.horwitz@uct.ac.za\n",
            "From: david.horwitz@uct.ac.za\n",
            "From: stephen.marquard@uct.ac.za\n",
            "From: louis@media.berkeley.edu\n",
            "From: louis@media.berkeley.edu\n",
            "From: ray@media.berkeley.edu\n",
            "From: cwen@iupui.edu\n",
            "From: cwen@iupui.edu\n",
            "From: cwen@iupui.edu\n",
            "\n"
          ]
        }
      ]
    },
    {
      "cell_type": "code",
      "source": [
        "hand = open('mbox-short.txt') #打開檔案\n",
        "#接下來是尋找開頭為'F..m'的行，例如“From:”, “Fxxm:”, “F12m:”, or “F!@m:”\n",
        "#\".\"代表任意字元\n",
        "for line in hand:\n",
        "    line = line.rstrip() #先利用rstrip()將每行最右邊的隱藏符號和空白去除\n",
        "    if re.search('^F..m:', line):#從line尋找是否包含開頭F..m字串，\"^\"是開頭的意思\n",
        "        print(line)#如果有就印出來。\n",
        "hand.close()"
      ],
      "metadata": {
        "colab": {
          "base_uri": "https://localhost:8080/"
        },
        "id": "fhkuXCVlARF9",
        "outputId": "8610ce3b-db74-44ee-db27-78eb300f253b"
      },
      "execution_count": null,
      "outputs": [
        {
          "output_type": "stream",
          "name": "stdout",
          "text": [
            "From: stephen.marquard@uct.ac.za\n",
            "From: louis@media.berkeley.edu\n",
            "From: zqian@umich.edu\n",
            "From: rjlowe@iupui.edu\n",
            "From: zqian@umich.edu\n",
            "From: rjlowe@iupui.edu\n",
            "From: cwen@iupui.edu\n",
            "From: cwen@iupui.edu\n",
            "From: gsilver@umich.edu\n",
            "From: gsilver@umich.edu\n",
            "From: zqian@umich.edu\n",
            "From: gsilver@umich.edu\n",
            "From: wagnermr@iupui.edu\n",
            "From: zqian@umich.edu\n",
            "From: antranig@caret.cam.ac.uk\n",
            "From: gopal.ramasammycook@gmail.com\n",
            "From: david.horwitz@uct.ac.za\n",
            "From: david.horwitz@uct.ac.za\n",
            "From: david.horwitz@uct.ac.za\n",
            "From: david.horwitz@uct.ac.za\n",
            "From: stephen.marquard@uct.ac.za\n",
            "From: louis@media.berkeley.edu\n",
            "From: louis@media.berkeley.edu\n",
            "From: ray@media.berkeley.edu\n",
            "From: cwen@iupui.edu\n",
            "From: cwen@iupui.edu\n",
            "From: cwen@iupui.edu\n"
          ]
        }
      ]
    },
    {
      "cell_type": "code",
      "source": [
        "hand = open('mbox-short.txt') #打開檔案\n",
        "#接下來是尋找開頭為'F..m:.+@'的行，開頭為'F..m:'然後也包含'@'，但'F..m'和'@'中間至少有一個以上的字元\n",
        "#因為'.'代表任一字元，'+'代表出現一次以上，所以'.+'代表任意字元出現一次以上        \n",
        "for line in hand:\n",
        "    line = line.rstrip() #先利用rstrip()將每行最右邊的隱藏符號和空白去除\n",
        "    if re.search('^F..m:', line):#從line尋找是否包含開頭F..m字串，\"^\"是開頭的意思\n",
        "        print(line)#如果有就印出來。\n",
        "hand.close()"
      ],
      "metadata": {
        "colab": {
          "base_uri": "https://localhost:8080/"
        },
        "id": "sMtZfn7IAb3b",
        "outputId": "24a02fb6-a667-4782-8072-76d220a37348"
      },
      "execution_count": null,
      "outputs": [
        {
          "output_type": "stream",
          "name": "stdout",
          "text": [
            "From: stephen.marquard@uct.ac.za\n",
            "From: louis@media.berkeley.edu\n",
            "From: zqian@umich.edu\n",
            "From: rjlowe@iupui.edu\n",
            "From: zqian@umich.edu\n",
            "From: rjlowe@iupui.edu\n",
            "From: cwen@iupui.edu\n",
            "From: cwen@iupui.edu\n",
            "From: gsilver@umich.edu\n",
            "From: gsilver@umich.edu\n",
            "From: zqian@umich.edu\n",
            "From: gsilver@umich.edu\n",
            "From: wagnermr@iupui.edu\n",
            "From: zqian@umich.edu\n",
            "From: antranig@caret.cam.ac.uk\n",
            "From: gopal.ramasammycook@gmail.com\n",
            "From: david.horwitz@uct.ac.za\n",
            "From: david.horwitz@uct.ac.za\n",
            "From: david.horwitz@uct.ac.za\n",
            "From: david.horwitz@uct.ac.za\n",
            "From: stephen.marquard@uct.ac.za\n",
            "From: louis@media.berkeley.edu\n",
            "From: louis@media.berkeley.edu\n",
            "From: ray@media.berkeley.edu\n",
            "From: cwen@iupui.edu\n",
            "From: cwen@iupui.edu\n",
            "From: cwen@iupui.edu\n"
          ]
        }
      ]
    },
    {
      "cell_type": "code",
      "source": [],
      "metadata": {
        "id": "XZhlHExAAhJc"
      },
      "execution_count": null,
      "outputs": []
    }
  ]
}