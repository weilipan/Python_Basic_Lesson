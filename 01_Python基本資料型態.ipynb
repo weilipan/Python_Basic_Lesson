{
  "nbformat": 4,
  "nbformat_minor": 0,
  "metadata": {
    "colab": {
      "name": "01_Python基本資料型態.ipynb",
      "provenance": [],
      "collapsed_sections": [
        "FTPTUUct6h5t"
      ],
      "toc_visible": true,
      "include_colab_link": true
    },
    "kernelspec": {
      "name": "python3",
      "display_name": "Python 3"
    },
    "language_info": {
      "name": "python"
    }
  },
  "cells": [
    {
      "cell_type": "markdown",
      "metadata": {
        "id": "view-in-github",
        "colab_type": "text"
      },
      "source": [
        "<a href=\"https://colab.research.google.com/github/weilipan/Python_Basic_Lesson/blob/111course/01_Python%E5%9F%BA%E6%9C%AC%E8%B3%87%E6%96%99%E5%9E%8B%E6%85%8B.ipynb\" target=\"_parent\"><img src=\"https://colab.research.google.com/assets/colab-badge.svg\" alt=\"Open In Colab\"/></a>"
      ]
    },
    {
      "cell_type": "markdown",
      "source": [
        "# 1.整數和浮點數\n",
        "1. 整數(Integer):包含**正整數**和**負整數**。\n",
        "2. 浮點數(float):包含**小數點**的數。如:4.0,-5.2,4E2 (4乘以10的2次方)"
      ],
      "metadata": {
        "id": "FTPTUUct6h5t"
      }
    },
    {
      "cell_type": "markdown",
      "source": [
        "# 2.基本運算\n",
        "1. 「+」:加法\n",
        "2. 「-」:減法\n",
        "3. 「*」:乘法\n",
        "4. 「/」:除法\n",
        "5. 「//」:求商\n",
        "6. 「%」:取餘數\n",
        "7. 「**」:次方"
      ],
      "metadata": {
        "id": "BugNx0Pi7ieY"
      }
    },
    {
      "cell_type": "code",
      "source": [
        "10+3"
      ],
      "metadata": {
        "colab": {
          "base_uri": "https://localhost:8080/"
        },
        "id": "bo9_H4MQ8TvU",
        "outputId": "6b8fb13d-4aae-4784-86f8-dbf10423259a"
      },
      "execution_count": null,
      "outputs": [
        {
          "output_type": "execute_result",
          "data": {
            "text/plain": [
              "13"
            ]
          },
          "metadata": {},
          "execution_count": 2
        }
      ]
    },
    {
      "cell_type": "code",
      "source": [
        "10-3"
      ],
      "metadata": {
        "colab": {
          "base_uri": "https://localhost:8080/"
        },
        "id": "CtaEr9kw8U0W",
        "outputId": "fa52152c-2fe4-4602-ea3f-35073cfe2ae8"
      },
      "execution_count": null,
      "outputs": [
        {
          "output_type": "execute_result",
          "data": {
            "text/plain": [
              "7"
            ]
          },
          "metadata": {},
          "execution_count": 3
        }
      ]
    },
    {
      "cell_type": "code",
      "source": [
        "10*3"
      ],
      "metadata": {
        "colab": {
          "base_uri": "https://localhost:8080/"
        },
        "id": "ninlMlZM8YMV",
        "outputId": "2d338034-2292-45c6-d084-5eefe368076a"
      },
      "execution_count": null,
      "outputs": [
        {
          "output_type": "execute_result",
          "data": {
            "text/plain": [
              "30"
            ]
          },
          "metadata": {},
          "execution_count": 4
        }
      ]
    },
    {
      "cell_type": "code",
      "source": [
        "10/3"
      ],
      "metadata": {
        "colab": {
          "base_uri": "https://localhost:8080/"
        },
        "id": "WN3BlhIV8Znt",
        "outputId": "4670f287-61c7-4163-b5d1-7dc240979e6c"
      },
      "execution_count": null,
      "outputs": [
        {
          "output_type": "execute_result",
          "data": {
            "text/plain": [
              "3.3666666666666667"
            ]
          },
          "metadata": {},
          "execution_count": 9
        }
      ]
    },
    {
      "cell_type": "code",
      "source": [
        "10//3"
      ],
      "metadata": {
        "colab": {
          "base_uri": "https://localhost:8080/"
        },
        "id": "ETV3ge2E8bWs",
        "outputId": "cb0e92f8-c7e6-4f37-ddd8-b96eeed9897f"
      },
      "execution_count": null,
      "outputs": [
        {
          "output_type": "execute_result",
          "data": {
            "text/plain": [
              "3"
            ]
          },
          "metadata": {},
          "execution_count": 13
        }
      ]
    },
    {
      "cell_type": "code",
      "source": [
        "10%3"
      ],
      "metadata": {
        "colab": {
          "base_uri": "https://localhost:8080/"
        },
        "id": "YjgcAqZf8c8F",
        "outputId": "b90a382f-2303-4440-bbb2-4ce10fda9702"
      },
      "execution_count": null,
      "outputs": [
        {
          "output_type": "execute_result",
          "data": {
            "text/plain": [
              "1"
            ]
          },
          "metadata": {},
          "execution_count": 14
        }
      ]
    },
    {
      "cell_type": "code",
      "source": [
        "10.11//3.1"
      ],
      "metadata": {
        "colab": {
          "base_uri": "https://localhost:8080/"
        },
        "id": "n657L1En8fJM",
        "outputId": "ff25e958-793d-4fc4-cb27-4716f8fac9df"
      },
      "execution_count": null,
      "outputs": [
        {
          "output_type": "execute_result",
          "data": {
            "text/plain": [
              "3.0"
            ]
          },
          "metadata": {},
          "execution_count": 15
        }
      ]
    },
    {
      "cell_type": "code",
      "source": [
        "10.11%3.03"
      ],
      "metadata": {
        "colab": {
          "base_uri": "https://localhost:8080/"
        },
        "id": "-crvR9b78wlj",
        "outputId": "fd7075b3-ea7d-4d98-893c-863162c9d772"
      },
      "execution_count": null,
      "outputs": [
        {
          "output_type": "execute_result",
          "data": {
            "text/plain": [
              "1.02"
            ]
          },
          "metadata": {},
          "execution_count": 16
        }
      ]
    },
    {
      "cell_type": "code",
      "source": [
        "10**3"
      ],
      "metadata": {
        "colab": {
          "base_uri": "https://localhost:8080/"
        },
        "id": "fJTDJb3K8dvu",
        "outputId": "18517e20-d1a0-44b6-92a2-fc0b43e2625b"
      },
      "execution_count": null,
      "outputs": [
        {
          "output_type": "execute_result",
          "data": {
            "text/plain": [
              "1000"
            ]
          },
          "metadata": {},
          "execution_count": 17
        }
      ]
    },
    {
      "cell_type": "code",
      "source": [
        "10**0.5 #這是開根號"
      ],
      "metadata": {
        "colab": {
          "base_uri": "https://localhost:8080/"
        },
        "id": "DDVXIxh_8zpc",
        "outputId": "82b51a2a-84db-48a1-84fa-0b09906cd451"
      },
      "execution_count": null,
      "outputs": [
        {
          "output_type": "execute_result",
          "data": {
            "text/plain": [
              "3.1622776601683795"
            ]
          },
          "metadata": {},
          "execution_count": 20
        }
      ]
    },
    {
      "cell_type": "code",
      "source": [
        "#注意要先乘除後加減\n",
        "(2+10)*(10+3)"
      ],
      "metadata": {
        "colab": {
          "base_uri": "https://localhost:8080/"
        },
        "id": "XppM09DyI0QS",
        "outputId": "8e912a30-519c-4768-f9ca-b6a975268fc2"
      },
      "execution_count": null,
      "outputs": [
        {
          "output_type": "execute_result",
          "data": {
            "text/plain": [
              "156"
            ]
          },
          "metadata": {},
          "execution_count": 21
        }
      ]
    },
    {
      "cell_type": "markdown",
      "source": [
        "# 3.變數指定\n",
        "接下來要教大家如何建立變數與使用變數，讓你的程式碼更為彈性。  \n",
        "1. 使用「=」來賦予變數值。  \n",
        "2. 「=」是***賦值***的意思，***不是相等***的意思。  \n",
        "3. [使用視覺化網站了解程式內部運作情形](https://pythontutor.com/visualize.html#mode=edit)"
      ],
      "metadata": {
        "id": "XnrAix3qI9wq"
      }
    },
    {
      "cell_type": "code",
      "source": [
        "# 建立一個叫做\"a\"的變數物件並且將它的值設定為\"5\"\n",
        "a = 5"
      ],
      "metadata": {
        "id": "g2SMHWwkJGoW"
      },
      "execution_count": null,
      "outputs": []
    },
    {
      "cell_type": "code",
      "source": [
        "a+a"
      ],
      "metadata": {
        "colab": {
          "base_uri": "https://localhost:8080/"
        },
        "id": "-avD6-MnJc7T",
        "outputId": "6fa9f427-f200-42c3-cf29-a50d38d0961a"
      },
      "execution_count": null,
      "outputs": [
        {
          "output_type": "execute_result",
          "data": {
            "text/plain": [
              "10"
            ]
          },
          "metadata": {},
          "execution_count": 24
        }
      ]
    },
    {
      "cell_type": "code",
      "source": [
        "# 再做一次賦值的動作之後會變成什麼情況？\n",
        "a=15"
      ],
      "metadata": {
        "id": "LbYWEVNxJe87"
      },
      "execution_count": null,
      "outputs": []
    },
    {
      "cell_type": "code",
      "source": [
        "#檢視一下現在a變成多少\n",
        "a"
      ],
      "metadata": {
        "colab": {
          "base_uri": "https://localhost:8080/"
        },
        "id": "y745aWnSJk7q",
        "outputId": "4890f2f6-ca33-403e-8c06-1fbf25243beb"
      },
      "execution_count": null,
      "outputs": [
        {
          "output_type": "execute_result",
          "data": {
            "text/plain": [
              "15"
            ]
          },
          "metadata": {},
          "execution_count": 28
        }
      ]
    },
    {
      "cell_type": "markdown",
      "source": [
        "有注意到a被改掉了嗎?  \n",
        "接下來看下面這個例子"
      ],
      "metadata": {
        "id": "9VqgyCQ1JnIg"
      }
    },
    {
      "cell_type": "code",
      "source": [
        "#請問這行指令執行完成之後，a會變成多少\n",
        "a=a+a"
      ],
      "metadata": {
        "id": "rDx6PAlqJmGq"
      },
      "execution_count": null,
      "outputs": []
    },
    {
      "cell_type": "code",
      "source": [
        "a"
      ],
      "metadata": {
        "colab": {
          "base_uri": "https://localhost:8080/"
        },
        "id": "YckObY2oJwBK",
        "outputId": "b5541abc-a5e8-4d3a-cee8-fae971666b03"
      },
      "execution_count": null,
      "outputs": [
        {
          "output_type": "execute_result",
          "data": {
            "text/plain": [
              "832"
            ]
          },
          "metadata": {},
          "execution_count": 60
        }
      ]
    },
    {
      "cell_type": "markdown",
      "source": [
        "# 4.變數名稱的取名方式注意事項\n",
        "請遵循以下幾個規則：  \n",
        "1. 名稱不可以用數字當做開頭。\n",
        "2. 不可以包含空白，建議若有空白請以底線_取代。\n",
        "3. 不可以使用的字元如後：'\",<>/?|\\()!@#$%^&*~-+\n",
        "4. 通常都是以小寫字母為主。\n",
        "5. 避免使用'l','O','I'等字元以免造成混淆。\n",
        "6. 避免使用有特殊意義的單字，例如：list,str\n",
        "7. 不可以使用保留字，保留字如下：\n",
        "```\n",
        "and exec not assert finally or break for pass class from print continue global raise def if return del import try elif in while else is with except lambda yield\n",
        "```\n",
        "8. 區分大小寫，b1和B1是不同的。"
      ],
      "metadata": {
        "id": "7UdVakakKIIy"
      }
    },
    {
      "cell_type": "code",
      "source": [
        "# 舉例如下：\n",
        "my_income = 100\n",
        "tax_rate = 0.1\n",
        "my_taxes = my_income*tax_rate\n",
        "my_taxes"
      ],
      "metadata": {
        "colab": {
          "base_uri": "https://localhost:8080/"
        },
        "id": "0o8X7_cIKmNQ",
        "outputId": "2892128d-6234-4f3a-c8c2-12bdf94d81e9"
      },
      "execution_count": null,
      "outputs": [
        {
          "output_type": "execute_result",
          "data": {
            "text/plain": [
              "10.0"
            ]
          },
          "metadata": {},
          "execution_count": 33
        }
      ]
    },
    {
      "cell_type": "code",
      "source": [
        "dir() #以下劃線開頭的變數名稱是有特殊意義的。"
      ],
      "metadata": {
        "colab": {
          "base_uri": "https://localhost:8080/"
        },
        "id": "oor_ZPxiKtDm",
        "outputId": "4694e8c0-f506-4b2f-a3bd-ed057e22ae7f"
      },
      "execution_count": null,
      "outputs": [
        {
          "output_type": "execute_result",
          "data": {
            "text/plain": [
              "['In',\n",
              " 'Out',\n",
              " '_',\n",
              " '_1',\n",
              " '_10',\n",
              " '_11',\n",
              " '_12',\n",
              " '_13',\n",
              " '_14',\n",
              " '_15',\n",
              " '_16',\n",
              " '_17',\n",
              " '_18',\n",
              " '_19',\n",
              " '_2',\n",
              " '_20',\n",
              " '_21',\n",
              " '_23',\n",
              " '_24',\n",
              " '_27',\n",
              " '_28',\n",
              " '_3',\n",
              " '_32',\n",
              " '_33',\n",
              " '_4',\n",
              " '_5',\n",
              " '_6',\n",
              " '_7',\n",
              " '_8',\n",
              " '_9',\n",
              " '__',\n",
              " '___',\n",
              " '__builtin__',\n",
              " '__builtins__',\n",
              " '__doc__',\n",
              " '__loader__',\n",
              " '__name__',\n",
              " '__package__',\n",
              " '__spec__',\n",
              " '_dh',\n",
              " '_i',\n",
              " '_i1',\n",
              " '_i10',\n",
              " '_i11',\n",
              " '_i12',\n",
              " '_i13',\n",
              " '_i14',\n",
              " '_i15',\n",
              " '_i16',\n",
              " '_i17',\n",
              " '_i18',\n",
              " '_i19',\n",
              " '_i2',\n",
              " '_i20',\n",
              " '_i21',\n",
              " '_i22',\n",
              " '_i23',\n",
              " '_i24',\n",
              " '_i25',\n",
              " '_i26',\n",
              " '_i27',\n",
              " '_i28',\n",
              " '_i29',\n",
              " '_i3',\n",
              " '_i30',\n",
              " '_i31',\n",
              " '_i32',\n",
              " '_i33',\n",
              " '_i34',\n",
              " '_i4',\n",
              " '_i5',\n",
              " '_i6',\n",
              " '_i7',\n",
              " '_i8',\n",
              " '_i9',\n",
              " '_ih',\n",
              " '_ii',\n",
              " '_iii',\n",
              " '_oh',\n",
              " '_sh',\n",
              " 'a',\n",
              " 'exit',\n",
              " 'get_ipython',\n",
              " 'my_income',\n",
              " 'my_taxes',\n",
              " 'quit',\n",
              " 'tax_rate']"
            ]
          },
          "metadata": {},
          "execution_count": 34
        }
      ]
    },
    {
      "cell_type": "markdown",
      "source": [
        "#5.動態型別（Dynamic Typing）\n",
        "Python使用動態型別，意思是你可以在同一段程式碼給變數指定不同的資料型態。\n",
        "\n",
        "##優點\n",
        "1. 容易使用\n",
        "2. 較快速的開發時間\n",
        "\n",
        "\n",
        "##缺點\n",
        "1. 也許會出現未知的bug（如果你剛好神智不清的時候）\n",
        "2. 需要利用type()才能知道目前變數的正確型別"
      ],
      "metadata": {
        "id": "DOTLdeH6K7pj"
      }
    },
    {
      "cell_type": "code",
      "source": [
        "apples=2"
      ],
      "metadata": {
        "id": "7BuubeZ2LBXK"
      },
      "execution_count": null,
      "outputs": []
    },
    {
      "cell_type": "code",
      "source": [
        "apples"
      ],
      "metadata": {
        "colab": {
          "base_uri": "https://localhost:8080/"
        },
        "id": "uVS4nkYpLISK",
        "outputId": "d7bf8964-3447-4b7d-c65c-1c3749aa3a4f"
      },
      "execution_count": null,
      "outputs": [
        {
          "output_type": "execute_result",
          "data": {
            "text/plain": [
              "2"
            ]
          },
          "metadata": {},
          "execution_count": 39
        }
      ]
    },
    {
      "cell_type": "code",
      "source": [
        "apples=3.0"
      ],
      "metadata": {
        "id": "WDJa1uZwLKSj"
      },
      "execution_count": null,
      "outputs": []
    },
    {
      "cell_type": "code",
      "source": [
        "apples"
      ],
      "metadata": {
        "colab": {
          "base_uri": "https://localhost:8080/"
        },
        "id": "uoHc3DWVLN5j",
        "outputId": "489a1014-7659-41dd-d2b0-765657b41b08"
      },
      "execution_count": null,
      "outputs": [
        {
          "output_type": "execute_result",
          "data": {
            "text/plain": [
              "3.0"
            ]
          },
          "metadata": {},
          "execution_count": 42
        }
      ]
    },
    {
      "cell_type": "markdown",
      "source": [
        "#6.賦值運算子"
      ],
      "metadata": {
        "id": "GQQp8XDTMDm-"
      }
    },
    {
      "cell_type": "code",
      "source": [
        "a=10\n",
        "a=a+1"
      ],
      "metadata": {
        "id": "7g1K1_ajMOpr"
      },
      "execution_count": null,
      "outputs": []
    },
    {
      "cell_type": "code",
      "source": [
        "a"
      ],
      "metadata": {
        "colab": {
          "base_uri": "https://localhost:8080/"
        },
        "id": "9nbX_uQTMTNT",
        "outputId": "882dbbb1-9c26-42d0-b650-93da24405d6b"
      },
      "execution_count": null,
      "outputs": [
        {
          "output_type": "execute_result",
          "data": {
            "text/plain": [
              "11"
            ]
          },
          "metadata": {},
          "execution_count": 46
        }
      ]
    },
    {
      "cell_type": "code",
      "source": [
        "a+=1"
      ],
      "metadata": {
        "id": "0GrntrWsMVUa"
      },
      "execution_count": null,
      "outputs": []
    },
    {
      "cell_type": "code",
      "source": [
        "a"
      ],
      "metadata": {
        "colab": {
          "base_uri": "https://localhost:8080/"
        },
        "id": "5DI63srdMXG0",
        "outputId": "f944e1ef-f941-4d49-9028-bdad33b83e4b"
      },
      "execution_count": null,
      "outputs": [
        {
          "output_type": "execute_result",
          "data": {
            "text/plain": [
              "13"
            ]
          },
          "metadata": {},
          "execution_count": 50
        }
      ]
    },
    {
      "cell_type": "code",
      "source": [
        "a=a*2"
      ],
      "metadata": {
        "id": "-xoN2VauMZGi"
      },
      "execution_count": null,
      "outputs": []
    },
    {
      "cell_type": "code",
      "source": [
        "a"
      ],
      "metadata": {
        "colab": {
          "base_uri": "https://localhost:8080/"
        },
        "id": "pC-nsLJCMau6",
        "outputId": "d449b6ba-8a25-489f-93e9-54795f3fb53d"
      },
      "execution_count": null,
      "outputs": [
        {
          "output_type": "execute_result",
          "data": {
            "text/plain": [
              "52"
            ]
          },
          "metadata": {},
          "execution_count": 54
        }
      ]
    },
    {
      "cell_type": "code",
      "source": [
        "a*=2"
      ],
      "metadata": {
        "id": "igbEg-d0Mb07"
      },
      "execution_count": null,
      "outputs": []
    },
    {
      "cell_type": "code",
      "source": [
        "a"
      ],
      "metadata": {
        "colab": {
          "base_uri": "https://localhost:8080/"
        },
        "id": "7OKjuWDiMe-7",
        "outputId": "563d5bd0-be42-42b0-b603-69e101f6ab43"
      },
      "execution_count": null,
      "outputs": [
        {
          "output_type": "execute_result",
          "data": {
            "text/plain": [
              "416"
            ]
          },
          "metadata": {},
          "execution_count": 58
        }
      ]
    },
    {
      "cell_type": "markdown",
      "source": [
        "#7.字串(String)\n",
        "建立字串可以使用單引號、雙引號或三引號. 舉例而言:"
      ],
      "metadata": {
        "id": "0rUowsr1MmqS"
      }
    },
    {
      "cell_type": "code",
      "source": [
        "# 單一字串\n",
        "'hello'"
      ],
      "metadata": {
        "colab": {
          "base_uri": "https://localhost:8080/",
          "height": 35
        },
        "id": "A38HXzF3NoOp",
        "outputId": "c886ba29-54fd-42ee-a805-f7a52593b093"
      },
      "execution_count": null,
      "outputs": [
        {
          "output_type": "execute_result",
          "data": {
            "text/plain": [
              "'hello'"
            ],
            "application/vnd.google.colaboratory.intrinsic+json": {
              "type": "string"
            }
          },
          "metadata": {},
          "execution_count": 62
        }
      ]
    },
    {
      "cell_type": "code",
      "source": [
        "# 片語\n",
        "'This is also a string'"
      ],
      "metadata": {
        "colab": {
          "base_uri": "https://localhost:8080/",
          "height": 35
        },
        "id": "dzWYMlRwNqVT",
        "outputId": "43d8ecb5-f512-4557-b265-219316c977c9"
      },
      "execution_count": null,
      "outputs": [
        {
          "output_type": "execute_result",
          "data": {
            "text/plain": [
              "'This is also a string'"
            ],
            "application/vnd.google.colaboratory.intrinsic+json": {
              "type": "string"
            }
          },
          "metadata": {},
          "execution_count": 64
        }
      ]
    },
    {
      "cell_type": "code",
      "source": [
        "# 也可以使用雙引號\n",
        "\"String built with double quotes\""
      ],
      "metadata": {
        "colab": {
          "base_uri": "https://localhost:8080/",
          "height": 35
        },
        "id": "6-78_jdWNspS",
        "outputId": "8e1b68b9-5ba1-454c-9e0a-98673ab7e3db"
      },
      "execution_count": null,
      "outputs": [
        {
          "output_type": "execute_result",
          "data": {
            "text/plain": [
              "'String built with double quotes'"
            ],
            "application/vnd.google.colaboratory.intrinsic+json": {
              "type": "string"
            }
          },
          "metadata": {},
          "execution_count": 65
        }
      ]
    },
    {
      "cell_type": "code",
      "source": [
        "# 請注意單雙引號的使用\n",
        "' I'm using single quotes, but this will create an error'"
      ],
      "metadata": {
        "colab": {
          "base_uri": "https://localhost:8080/",
          "height": 133
        },
        "id": "AHAKrdFgNuBD",
        "outputId": "e2e3d0ef-80ee-4af1-d97f-eb6aab51b1c6"
      },
      "execution_count": null,
      "outputs": [
        {
          "output_type": "error",
          "ename": "SyntaxError",
          "evalue": "ignored",
          "traceback": [
            "\u001b[0;36m  File \u001b[0;32m\"<ipython-input-66-77fd9c7654f7>\"\u001b[0;36m, line \u001b[0;32m2\u001b[0m\n\u001b[0;31m    ' I'm using single quotes, but this will create an error'\u001b[0m\n\u001b[0m        ^\u001b[0m\n\u001b[0;31mSyntaxError\u001b[0m\u001b[0;31m:\u001b[0m invalid syntax\n"
          ]
        }
      ]
    },
    {
      "cell_type": "markdown",
      "source": [
        "想想看上面的錯誤是怎麼產生的？"
      ],
      "metadata": {
        "id": "RMpXlo91NzQK"
      }
    },
    {
      "cell_type": "code",
      "source": [
        "\"Now I'm ready to use the single quotes inside a string!\""
      ],
      "metadata": {
        "colab": {
          "base_uri": "https://localhost:8080/",
          "height": 35
        },
        "id": "1r0fXxKtNvsc",
        "outputId": "177bdaaa-d649-4b2e-81bb-5c9c74c9e49a"
      },
      "execution_count": null,
      "outputs": [
        {
          "output_type": "execute_result",
          "data": {
            "text/plain": [
              "\"Now I'm ready to use the single quotes inside a string!\""
            ],
            "application/vnd.google.colaboratory.intrinsic+json": {
              "type": "string"
            }
          },
          "metadata": {},
          "execution_count": 67
        }
      ]
    },
    {
      "cell_type": "markdown",
      "source": [
        "當字串非常多時，也可以使用三引號來處理。"
      ],
      "metadata": {
        "id": "6OohHqbvN3T1"
      }
    },
    {
      "cell_type": "code",
      "source": [
        "'''\n",
        "The coronavirus pandemic shows no signs of slowing in the US and Europe,\n",
        "which are reporting exponential increases in the number of new cases daily.\n",
        "Meanwhile in Asia, a spike in Japan is causing concern as other parts of the region stabilize.\n",
        "'''"
      ],
      "metadata": {
        "colab": {
          "base_uri": "https://localhost:8080/",
          "height": 52
        },
        "id": "Q6yZt3pZN5Af",
        "outputId": "4c4d2e57-1880-4915-8ecb-79f4336b7b86"
      },
      "execution_count": null,
      "outputs": [
        {
          "output_type": "execute_result",
          "data": {
            "text/plain": [
              "'\\nThe coronavirus pandemic shows no signs of slowing in the US and Europe,\\nwhich are reporting exponential increases in the number of new cases daily.\\nMeanwhile in Asia, a spike in Japan is causing concern as other parts of the region stabilize.\\n'"
            ],
            "application/vnd.google.colaboratory.intrinsic+json": {
              "type": "string"
            }
          },
          "metadata": {},
          "execution_count": 68
        }
      ]
    },
    {
      "cell_type": "markdown",
      "source": [
        "請注意 **\\n** 代表換行的意思，長字串會自動將換行符號紀錄起來。"
      ],
      "metadata": {
        "id": "s8pHoIsuN9HB"
      }
    },
    {
      "cell_type": "markdown",
      "source": [
        "#8.檢查資料型態\n",
        "##利用 type()來知道目前變數的資料型別  \n",
        "基本資料型別如下(但我們目前只介紹了前三種):\n",
        "1. int (for integer)\n",
        "2. float\n",
        "3. str (for string)\n",
        "4. list\n",
        "5. tuple\n",
        "6. dict (for dictionary)\n",
        "7. set\n",
        "8. bool (for Boolean True/False)"
      ],
      "metadata": {
        "id": "JwX_STy9gyQI"
      }
    },
    {
      "cell_type": "code",
      "source": [
        "a=20\n",
        "type(a)"
      ],
      "metadata": {
        "colab": {
          "base_uri": "https://localhost:8080/"
        },
        "id": "GIgzU76shYIE",
        "outputId": "22577936-006b-4598-b3d0-a1dee2c0da01"
      },
      "execution_count": null,
      "outputs": [
        {
          "output_type": "execute_result",
          "data": {
            "text/plain": [
              "int"
            ]
          },
          "metadata": {},
          "execution_count": 70
        }
      ]
    },
    {
      "cell_type": "code",
      "source": [
        "b=30.68\n",
        "type(b)"
      ],
      "metadata": {
        "colab": {
          "base_uri": "https://localhost:8080/"
        },
        "id": "38kZi4cJhbuU",
        "outputId": "27430e39-d404-416a-b349-1353d3922a01"
      },
      "execution_count": null,
      "outputs": [
        {
          "output_type": "execute_result",
          "data": {
            "text/plain": [
              "float"
            ]
          },
          "metadata": {},
          "execution_count": 71
        }
      ]
    },
    {
      "cell_type": "code",
      "source": [
        "c='covid 19'\n",
        "type(c)"
      ],
      "metadata": {
        "colab": {
          "base_uri": "https://localhost:8080/"
        },
        "id": "JIj-sZ9thew7",
        "outputId": "ccf592f0-432d-4704-9af1-7bec4dbb08d9"
      },
      "execution_count": null,
      "outputs": [
        {
          "output_type": "execute_result",
          "data": {
            "text/plain": [
              "str"
            ]
          },
          "metadata": {},
          "execution_count": 72
        }
      ]
    },
    {
      "cell_type": "markdown",
      "source": [
        "# 附錄 運算順序\n",
        "1. ** 次方\n",
        "2. *,/,%,// 乘、除、餘數、求商運算\n",
        "3. +,- 加減法\n",
        "4. '>>','<<' 右移左移運算子\n",
        "5. & 位元運算子的「與」\n",
        "6. ^ 位元運算子的「XOR」\n",
        "7. in, not in, is, is not, >, <, >=, <=, !=, == 各式比較運算子(關係運算子)\n",
        "8. not\n",
        "9. and\n",
        "10. or\n",
        "11. =, %=, /=, //=, -=, *=, **= 各式賦值運算子 "
      ],
      "metadata": {
        "id": "Qtvdi9Lx9MMI"
      }
    },
    {
      "cell_type": "code",
      "source": [],
      "metadata": {
        "id": "43nW1RHHiCxZ"
      },
      "execution_count": null,
      "outputs": []
    }
  ]
}