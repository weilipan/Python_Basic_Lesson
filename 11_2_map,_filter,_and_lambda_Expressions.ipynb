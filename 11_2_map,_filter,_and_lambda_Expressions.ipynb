{
  "nbformat": 4,
  "nbformat_minor": 0,
  "metadata": {
    "colab": {
      "name": "11_2 map, filter, and lambda Expressions.ipynb",
      "provenance": [],
      "collapsed_sections": [],
      "authorship_tag": "ABX9TyNO6mdpWYgbdn5XGmsZX8Qy",
      "include_colab_link": true
    },
    "kernelspec": {
      "name": "python3",
      "display_name": "Python 3"
    },
    "language_info": {
      "name": "python"
    }
  },
  "cells": [
    {
      "cell_type": "markdown",
      "metadata": {
        "id": "view-in-github",
        "colab_type": "text"
      },
      "source": [
        "<a href=\"https://colab.research.google.com/github/weilipan/Python_Basic_Lesson/blob/main/11_2_map%2C_filter%2C_and_lambda_Expressions.ipynb\" target=\"_parent\"><img src=\"https://colab.research.google.com/assets/colab-badge.svg\" alt=\"Open In Colab\"/></a>"
      ]
    },
    {
      "cell_type": "markdown",
      "source": [
        "# 1.map function\n",
        "\n",
        "**map** 函式可以自動對應參數(可迭代資料結構，如list)和給定函式的結果. 舉例而言:"
      ],
      "metadata": {
        "id": "WZouhmWNe7pH"
      }
    },
    {
      "cell_type": "code",
      "source": [
        "def square(num):\n",
        "    return num**2"
      ],
      "metadata": {
        "id": "jUgSSE_RfATL"
      },
      "execution_count": 1,
      "outputs": []
    },
    {
      "cell_type": "code",
      "source": [
        "my_nums = [1,2,3,4,5]"
      ],
      "metadata": {
        "id": "i3B-PMsOfBuc"
      },
      "execution_count": 2,
      "outputs": []
    },
    {
      "cell_type": "code",
      "source": [
        "map(square,my_nums)"
      ],
      "metadata": {
        "colab": {
          "base_uri": "https://localhost:8080/"
        },
        "id": "f7DN3v1NfCwz",
        "outputId": "5026a9dd-4ce9-4203-f30c-880611719ed5"
      },
      "execution_count": 3,
      "outputs": [
        {
          "output_type": "execute_result",
          "data": {
            "text/plain": [
              "<map at 0x7f17eef61390>"
            ]
          },
          "metadata": {},
          "execution_count": 3
        }
      ]
    },
    {
      "cell_type": "code",
      "source": [
        "list(map(square,my_nums))"
      ],
      "metadata": {
        "colab": {
          "base_uri": "https://localhost:8080/"
        },
        "id": "0IrAnWfbfD67",
        "outputId": "2418954e-1672-4611-873b-018e409e13a6"
      },
      "execution_count": 4,
      "outputs": [
        {
          "output_type": "execute_result",
          "data": {
            "text/plain": [
              "[1, 4, 9, 16, 25]"
            ]
          },
          "metadata": {},
          "execution_count": 4
        }
      ]
    },
    {
      "cell_type": "code",
      "source": [
        "# 給定的函式可以更為複雜\n",
        "def splicer(mystring):\n",
        "    if len(mystring) % 2 == 0:\n",
        "        return 'even'\n",
        "    else:\n",
        "        return mystring[0]"
      ],
      "metadata": {
        "id": "qJGarC-_fFOL"
      },
      "execution_count": 5,
      "outputs": []
    },
    {
      "cell_type": "code",
      "source": [
        "mynames = ['John','Cindy','Sarah','Kelly','Mike']"
      ],
      "metadata": {
        "id": "HzzbbJtrgaIq"
      },
      "execution_count": 6,
      "outputs": []
    },
    {
      "cell_type": "code",
      "source": [
        "list(map(splicer,mynames))"
      ],
      "metadata": {
        "colab": {
          "base_uri": "https://localhost:8080/"
        },
        "id": "sjph7egkgbby",
        "outputId": "ae40436e-ed71-44bd-cd07-9fe0a2708490"
      },
      "execution_count": 7,
      "outputs": [
        {
          "output_type": "execute_result",
          "data": {
            "text/plain": [
              "['even', 'C', 'S', 'K', 'even']"
            ]
          },
          "metadata": {},
          "execution_count": 7
        }
      ]
    },
    {
      "cell_type": "markdown",
      "source": [
        "# 2.filter function\n",
        "\n",
        "filter(過濾)函式，顧名思義就是會將結果為True的項目篩選出來。"
      ],
      "metadata": {
        "id": "A_YCUeCdgtWE"
      }
    },
    {
      "cell_type": "code",
      "source": [
        "def check_even(num):\n",
        "    return num % 2 == 0 "
      ],
      "metadata": {
        "id": "f3-5NvTvgcpz"
      },
      "execution_count": 8,
      "outputs": []
    },
    {
      "cell_type": "code",
      "source": [
        "nums = [0,1,2,3,4,5,6,7,8,9,10]"
      ],
      "metadata": {
        "id": "hm_iCxbygx_6"
      },
      "execution_count": 9,
      "outputs": []
    },
    {
      "cell_type": "code",
      "source": [
        "filter(check_even,nums)"
      ],
      "metadata": {
        "colab": {
          "base_uri": "https://localhost:8080/"
        },
        "id": "BeZOj2z0gzMJ",
        "outputId": "47b88151-8d73-452b-d8bd-71a1b5b09495"
      },
      "execution_count": 10,
      "outputs": [
        {
          "output_type": "execute_result",
          "data": {
            "text/plain": [
              "<filter at 0x7f17ea4f8bd0>"
            ]
          },
          "metadata": {},
          "execution_count": 10
        }
      ]
    },
    {
      "cell_type": "code",
      "source": [
        "list(filter(check_even,nums))"
      ],
      "metadata": {
        "colab": {
          "base_uri": "https://localhost:8080/"
        },
        "id": "Asze0KQBg0Ix",
        "outputId": "be027b72-4757-4249-e37e-70bb3e55df63"
      },
      "execution_count": 11,
      "outputs": [
        {
          "output_type": "execute_result",
          "data": {
            "text/plain": [
              "[0, 2, 4, 6, 8, 10]"
            ]
          },
          "metadata": {},
          "execution_count": 11
        }
      ]
    },
    {
      "cell_type": "markdown",
      "source": [
        "# 3.lambda expression\n",
        "\n",
        "lambda 表達式是個非常好用的工具（但也常讓初學者頭痛），相當於匿名函式（\"anonymous\" functions）。這種函式沒有函式名稱，只有簡單的表達式。  \n",
        "用法與函式相同，但不用`def`也不用函式名稱，更不用宣告時結尾的冒號。  \n",
        "它只有單一行表達式，並沒有正式函式的區塊敘述。"
      ],
      "metadata": {
        "id": "HxJXK4YAg3cc"
      }
    },
    {
      "cell_type": "code",
      "source": [
        "def square(num):\n",
        "    result = num**2\n",
        "    return result"
      ],
      "metadata": {
        "id": "JcrS2t-8g1Bx"
      },
      "execution_count": 12,
      "outputs": []
    },
    {
      "cell_type": "code",
      "source": [
        "square(2)"
      ],
      "metadata": {
        "colab": {
          "base_uri": "https://localhost:8080/"
        },
        "id": "yhDGC4pphNuR",
        "outputId": "13c3ab09-6536-4dd2-8f42-455e5337d413"
      },
      "execution_count": 13,
      "outputs": [
        {
          "output_type": "execute_result",
          "data": {
            "text/plain": [
              "4"
            ]
          },
          "metadata": {},
          "execution_count": 13
        }
      ]
    },
    {
      "cell_type": "code",
      "source": [
        "# 我們可以簡化它:\n",
        "def square(num):\n",
        "    return num**2"
      ],
      "metadata": {
        "id": "m98Q_3sihO4p"
      },
      "execution_count": 14,
      "outputs": []
    },
    {
      "cell_type": "code",
      "source": [
        "square(2)"
      ],
      "metadata": {
        "colab": {
          "base_uri": "https://localhost:8080/"
        },
        "id": "M0UWJjWxhR36",
        "outputId": "243d9092-26a0-4c91-bb5c-531d77ea4e73"
      },
      "execution_count": 15,
      "outputs": [
        {
          "output_type": "execute_result",
          "data": {
            "text/plain": [
              "4"
            ]
          },
          "metadata": {},
          "execution_count": 15
        }
      ]
    },
    {
      "cell_type": "code",
      "source": [
        "# 將它寫成一行\n",
        "def square(num): return num**2"
      ],
      "metadata": {
        "id": "mV5wNCIMhS8C"
      },
      "execution_count": 16,
      "outputs": []
    },
    {
      "cell_type": "code",
      "source": [
        "square(2)"
      ],
      "metadata": {
        "colab": {
          "base_uri": "https://localhost:8080/"
        },
        "id": "bd7DZUMJhWth",
        "outputId": "2dcb4d58-da85-4d0c-a6e6-15d09454b064"
      },
      "execution_count": 17,
      "outputs": [
        {
          "output_type": "execute_result",
          "data": {
            "text/plain": [
              "4"
            ]
          },
          "metadata": {},
          "execution_count": 17
        }
      ]
    },
    {
      "cell_type": "markdown",
      "source": [
        "將`def` `函式名稱` `return` 去掉後變成lambda表達式。"
      ],
      "metadata": {
        "id": "G8K4MnTVhdgc"
      }
    },
    {
      "cell_type": "code",
      "source": [
        "lambda num: num ** 2"
      ],
      "metadata": {
        "colab": {
          "base_uri": "https://localhost:8080/"
        },
        "id": "Xq1mkjtRhXuS",
        "outputId": "dd0db8f8-f442-4395-f7a5-0ecac1eb3d1a"
      },
      "execution_count": 18,
      "outputs": [
        {
          "output_type": "execute_result",
          "data": {
            "text/plain": [
              "<function __main__.<lambda>(num)>"
            ]
          },
          "metadata": {},
          "execution_count": 18
        }
      ]
    },
    {
      "cell_type": "code",
      "source": [
        "# 可以用變數承接lambda表示式，使用時再加上參數。\n",
        "square = lambda num: num **2"
      ],
      "metadata": {
        "id": "Ro23TeaAhkOJ"
      },
      "execution_count": 19,
      "outputs": []
    },
    {
      "cell_type": "code",
      "source": [
        "square(2)"
      ],
      "metadata": {
        "colab": {
          "base_uri": "https://localhost:8080/"
        },
        "id": "QbYaJ1GEhlPK",
        "outputId": "28ba7830-e2d8-4c29-95d3-5100a08aae6b"
      },
      "execution_count": 20,
      "outputs": [
        {
          "output_type": "execute_result",
          "data": {
            "text/plain": [
              "4"
            ]
          },
          "metadata": {},
          "execution_count": 20
        }
      ]
    },
    {
      "cell_type": "markdown",
      "source": [
        "搭配map或filter函式就可以免去另外再宣告一個函式區塊，而是可以直接在map或filter中使用lambda表達式。"
      ],
      "metadata": {
        "id": "ESPWx3fkhne-"
      }
    },
    {
      "cell_type": "code",
      "source": [
        "list(filter(lambda n: n % 2 == 0,nums))"
      ],
      "metadata": {
        "colab": {
          "base_uri": "https://localhost:8080/"
        },
        "id": "SAv_pdDdhmUq",
        "outputId": "51230b93-7845-49e6-9e72-85e0a54e7526"
      },
      "execution_count": 21,
      "outputs": [
        {
          "output_type": "execute_result",
          "data": {
            "text/plain": [
              "[0, 2, 4, 6, 8, 10]"
            ]
          },
          "metadata": {},
          "execution_count": 21
        }
      ]
    },
    {
      "cell_type": "markdown",
      "source": [
        "**利用Lambda expression直接取出每個字串的第一個字元:**"
      ],
      "metadata": {
        "id": "ELllP3iWh1x-"
      }
    },
    {
      "cell_type": "code",
      "source": [
        "lambda s: s[0]"
      ],
      "metadata": {
        "colab": {
          "base_uri": "https://localhost:8080/"
        },
        "id": "-xNmoEBKh0tL",
        "outputId": "a4fb7a07-c715-442b-bb27-f3a544d8abc6"
      },
      "execution_count": 22,
      "outputs": [
        {
          "output_type": "execute_result",
          "data": {
            "text/plain": [
              "<function __main__.<lambda>(s)>"
            ]
          },
          "metadata": {},
          "execution_count": 22
        }
      ]
    },
    {
      "cell_type": "code",
      "source": [
        "st='The party secretary for the Hubei Health Commission, and the head of the commission, were among those who lost their jobs.'\n",
        "list(map(lambda s: s[0],st.split()))"
      ],
      "metadata": {
        "colab": {
          "base_uri": "https://localhost:8080/"
        },
        "id": "WHAyHMaZh6yh",
        "outputId": "0cd0e664-3114-4fb2-cf15-92077940fdde"
      },
      "execution_count": 23,
      "outputs": [
        {
          "output_type": "execute_result",
          "data": {
            "text/plain": [
              "['T',\n",
              " 'p',\n",
              " 's',\n",
              " 'f',\n",
              " 't',\n",
              " 'H',\n",
              " 'H',\n",
              " 'C',\n",
              " 'a',\n",
              " 't',\n",
              " 'h',\n",
              " 'o',\n",
              " 't',\n",
              " 'c',\n",
              " 'w',\n",
              " 'a',\n",
              " 't',\n",
              " 'w',\n",
              " 'l',\n",
              " 't',\n",
              " 'j']"
            ]
          },
          "metadata": {},
          "execution_count": 23
        }
      ]
    },
    {
      "cell_type": "markdown",
      "source": [
        "**字串反轉Lambda expression:**"
      ],
      "metadata": {
        "id": "f189A0B7h-hW"
      }
    },
    {
      "cell_type": "code",
      "source": [
        "lambda s: s[::-1]"
      ],
      "metadata": {
        "colab": {
          "base_uri": "https://localhost:8080/"
        },
        "id": "wV3-60ZIh75x",
        "outputId": "b9d0cf39-c879-4d0c-db86-0bc3445e9bc9"
      },
      "execution_count": 24,
      "outputs": [
        {
          "output_type": "execute_result",
          "data": {
            "text/plain": [
              "<function __main__.<lambda>(s)>"
            ]
          },
          "metadata": {},
          "execution_count": 24
        }
      ]
    },
    {
      "cell_type": "code",
      "source": [
        "st='The party secretary for the Hubei Health Commission, and the head of the commission, were among those who lost their jobs.'\n",
        "list(map(lambda s: s[::-1],st.split()))"
      ],
      "metadata": {
        "colab": {
          "base_uri": "https://localhost:8080/"
        },
        "id": "hnvIR77ViB5K",
        "outputId": "97ed3dfc-43de-4c3c-c6ae-a879cea5369c"
      },
      "execution_count": 25,
      "outputs": [
        {
          "output_type": "execute_result",
          "data": {
            "text/plain": [
              "['ehT',\n",
              " 'ytrap',\n",
              " 'yraterces',\n",
              " 'rof',\n",
              " 'eht',\n",
              " 'iebuH',\n",
              " 'htlaeH',\n",
              " ',noissimmoC',\n",
              " 'dna',\n",
              " 'eht',\n",
              " 'daeh',\n",
              " 'fo',\n",
              " 'eht',\n",
              " ',noissimmoc',\n",
              " 'erew',\n",
              " 'gnoma',\n",
              " 'esoht',\n",
              " 'ohw',\n",
              " 'tsol',\n",
              " 'rieht',\n",
              " '.sboj']"
            ]
          },
          "metadata": {},
          "execution_count": 25
        }
      ]
    },
    {
      "cell_type": "code",
      "source": [
        "lambda x,y : x + y"
      ],
      "metadata": {
        "colab": {
          "base_uri": "https://localhost:8080/"
        },
        "id": "QyzkADcpiDXZ",
        "outputId": "dd2c27e0-e7b7-4840-b3c8-50780f141394"
      },
      "execution_count": 26,
      "outputs": [
        {
          "output_type": "execute_result",
          "data": {
            "text/plain": [
              "<function __main__.<lambda>(x, y)>"
            ]
          },
          "metadata": {},
          "execution_count": 26
        }
      ]
    }
  ]
}