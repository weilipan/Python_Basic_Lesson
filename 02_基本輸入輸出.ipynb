{
  "nbformat": 4,
  "nbformat_minor": 0,
  "metadata": {
    "colab": {
      "name": "02_基本輸入輸出.ipynb",
      "provenance": [],
      "toc_visible": true,
      "collapsed_sections": [
        "vkW2qAuiUwhu"
      ],
      "authorship_tag": "ABX9TyO3VLd93Gye6VNlbH1asoKr",
      "include_colab_link": true
    },
    "kernelspec": {
      "name": "python3",
      "display_name": "Python 3"
    },
    "language_info": {
      "name": "python"
    }
  },
  "cells": [
    {
      "cell_type": "markdown",
      "metadata": {
        "id": "view-in-github",
        "colab_type": "text"
      },
      "source": [
        "<a href=\"https://colab.research.google.com/github/weilipan/Python_Basic_Lesson/blob/main/02_%E5%9F%BA%E6%9C%AC%E8%BC%B8%E5%85%A5%E8%BC%B8%E5%87%BA.ipynb\" target=\"_parent\"><img src=\"https://colab.research.google.com/assets/colab-badge.svg\" alt=\"Open In Colab\"/></a>"
      ]
    },
    {
      "cell_type": "markdown",
      "source": [
        "#1.Python官網線上說明文件\n",
        "##[Input and Output](https://docs.python.org/3/tutorial/inputoutput.html)"
      ],
      "metadata": {
        "id": "vkW2qAuiUwhu"
      }
    },
    {
      "cell_type": "markdown",
      "source": [
        "#2.print列印訊息\n",
        "## 使用print()方法，將訊息列印至使用者螢幕上：\n",
        "1. print(變數,Sep=\"分隔符號\",end=\"結束符號\"）\n",
        "> * 分隔符號預設是空白\n",
        "> * 結束符號預設是換行 '\\n'\n",
        "> * print()預設會讓列印自動跳下一行，等於print('\\n')\n"
      ],
      "metadata": {
        "id": "sTlOZcDAjbQj"
      }
    },
    {
      "cell_type": "code",
      "source": [
        "# 一般使用上，會輸入出多個變數，就用逗號隔開，舉例如下：\n",
        "a=3\n",
        "b=4\n",
        "print(a,b)\n",
        "print(a+b)\n",
        "print(a,b,sep='%')\n",
        "print(a,b,end=',')\n",
        "print(a,b,end='。') #可以試著換一下其他符號，試試效果\n",
        "print(a,b,sep='%',end='.')"
      ],
      "metadata": {
        "colab": {
          "base_uri": "https://localhost:8080/"
        },
        "id": "M7izhVvVVsfl",
        "outputId": "7bbf007f-1412-4a80-88db-d79d530844a7"
      },
      "execution_count": 31,
      "outputs": [
        {
          "output_type": "stream",
          "name": "stdout",
          "text": [
            "3 4\n",
            "7\n",
            "3%4\n",
            "3 4,3 4。3%4."
          ]
        }
      ]
    },
    {
      "cell_type": "markdown",
      "source": [
        "# 3.格式化的輸出方式"
      ],
      "metadata": {
        "id": "dVB71EoFWMpQ"
      }
    },
    {
      "cell_type": "markdown",
      "source": [
        "> ## 3.1 f-string\n",
        "1. f-string\n",
        "> 1. 先打上'f'表示要進行f-string字串輸出作業。\n",
        "> 2. f之後先填好利用''或\"\"或''''''設定預設輸出的字串。\n",
        "> 3. 利用{}標示出填字空格。\n",
        "> 4. 在填字空格中置入變數。\n",
        "> 5. 變數後加上\":\"可以設定其他格式選項，如：\n",
        ">> * 變數總長度\n",
        ">> * 變數小數位數(精確度)\n",
        ">> * 對齊方向alignment\n",
        ">> * 填充字元padding\n",
        ">> * 資料型態\n",
        "2. format:做法與f-string大同小異。\n",
        "\n",
        "```\n",
        "    a=34\n",
        "    b=80\n",
        "    print(f'阿明的成績是：{a} 阿華的成績是 {b}')\n",
        "    print('阿明的成績是：{} 阿華的成績是 {}'.format(a,b))\n",
        "```"
      ],
      "metadata": {
        "id": "wcFdj0wInoas"
      }
    },
    {
      "cell_type": "code",
      "source": [
        "    a=34\n",
        "    b=80\n",
        "    print(f'阿明的成績是：{a} 阿華的成績是 {b}')\n",
        "    print('阿明的成績是：{} 阿華的成績是 {}'.format(a,b))"
      ],
      "metadata": {
        "colab": {
          "base_uri": "https://localhost:8080/"
        },
        "id": "LPUiHAe_Wq5h",
        "outputId": "3a720570-bf06-481f-e93b-a4d691932e2f"
      },
      "execution_count": 10,
      "outputs": [
        {
          "output_type": "stream",
          "name": "stdout",
          "text": [
            "阿明的成績是：34 阿華的成績是 80\n",
            "阿明的成績是：34 阿華的成績是 80\n"
          ]
        }
      ]
    },
    {
      "cell_type": "code",
      "source": [
        "a=65\n",
        "print(f'{a:c}') #上下兩行的結果是一樣\n",
        "print('{:c}'.format(a))"
      ],
      "metadata": {
        "colab": {
          "base_uri": "https://localhost:8080/"
        },
        "id": "gh_80eq_YpnD",
        "outputId": "2d4e8506-0f27-47cd-84c8-b5519f0c978e"
      },
      "execution_count": 11,
      "outputs": [
        {
          "output_type": "stream",
          "name": "stdout",
          "text": [
            "A\n",
            "A\n"
          ]
        }
      ]
    },
    {
      "cell_type": "code",
      "source": [
        "name='Bob'\n",
        "age=18\n",
        "print(f'I am {name:s}, I am {age:d} years old.')\n",
        "print('I am {:s}, I am {:d} years old.'.format(name,age))"
      ],
      "metadata": {
        "colab": {
          "base_uri": "https://localhost:8080/"
        },
        "id": "dO_Hi3BgYvky",
        "outputId": "c7897e0e-72fb-4381-8fde-81d74a996ed3"
      },
      "execution_count": 12,
      "outputs": [
        {
          "output_type": "stream",
          "name": "stdout",
          "text": [
            "I am Bob, I am 18 years old.\n",
            "I am Bob, I am 18 years old.\n"
          ]
        }
      ]
    },
    {
      "cell_type": "code",
      "source": [
        "num=65\n",
        "print(f'{num}的8進位格式為{num:o}')\n",
        "print('{}的8進位格式為{:o}'.format(num,num)) #:o是八進位格式\n",
        "print(f'{num}的16進位格式為{num:x}')\n",
        "print('{}的16進位格式為{:x}'.format(num,num))#:x是十六進位格式"
      ],
      "metadata": {
        "colab": {
          "base_uri": "https://localhost:8080/"
        },
        "id": "yDjdmaZIY0Ej",
        "outputId": "2c599304-1857-4534-9379-4e3f05643337"
      },
      "execution_count": 14,
      "outputs": [
        {
          "output_type": "stream",
          "name": "stdout",
          "text": [
            "65的8進位格式為101\n",
            "65的8進位格式為101\n",
            "65的16進位格式為41\n",
            "65的16進位格式為41\n"
          ]
        }
      ]
    },
    {
      "cell_type": "code",
      "source": [
        "fnum=65.1\n",
        "print('{}的浮點數格式{:f}'.format(fnum,fnum)) #:f是浮點數格式\n",
        "print(f'{num}的浮點數格式{fnum:f}')\n",
        "print('{}的浮點數格式{:e}'.format(fnum,fnum))#:e是科學記號，e代表10的幾次方\n",
        "print(f'{fnum}的浮點數格式{fnum:e}')"
      ],
      "metadata": {
        "colab": {
          "base_uri": "https://localhost:8080/"
        },
        "id": "scuknqcDZLhL",
        "outputId": "95024aee-f6d2-416d-c9a4-9e1cf080334b"
      },
      "execution_count": 16,
      "outputs": [
        {
          "output_type": "stream",
          "name": "stdout",
          "text": [
            "65.1的浮點數格式65.100000\n",
            "65的浮點數格式65.100000\n",
            "65.1的浮點數格式6.510000e+01\n",
            "65.1的浮點數格式6.510000e+01\n"
          ]
        }
      ]
    },
    {
      "cell_type": "markdown",
      "source": [
        ">## 3.2.欄位長度與方向對齊設定\n",
        "> 1. 欄位長度設定：  \n",
        "x.y，x為總長度，y為小數點後長度。\n",
        "> 2. 方向對齊設定：  \n",
        ">> * '<' 靠左對齊\n",
        ">> * '>' 靠右對齊\n",
        ">> * '^' 置中對齊\n"
      ],
      "metadata": {
        "id": "ZyLhISakaGWo"
      }
    },
    {
      "cell_type": "code",
      "source": [
        "a=5678\n",
        "b=56.78\n",
        "print(f'預設靠右對齊{a:8d}')\n",
        "print('預設靠右對齊{:8d}'.format(a)) #預設靠右對齊\n",
        "print()\n",
        "print(f'置中對齊{a:^8d}')\n",
        "print('置中對齊{:^8d}'.format(a)) #置中對齊\n",
        "print()\n",
        "print(f'靠左對齊{a:<8d}')\n",
        "print('靠左對齊{:<8d}'.format(a)) #靠左對齊\n",
        "print()\n",
        "print(f'長度為7，小數點留2位，靠右對齊{b:7.2f}')\n",
        "print('長度為7，小數點留2位，靠右對齊{:7.2f}'.format(b)) # 長度為7，小數點留2位，靠右對齊\n",
        "print()\n",
        "print(f'長度為10，小數點留3位，靠右對齊{b:10.3f}')\n",
        "print('長度為10，小數點留3位，靠右對齊{:10.3f}'.format(b))# 長度為10，小數點留3位，靠右對齊\n",
        "print()\n",
        "print(f'長度為10，小數點留4位，靠右對齊{b:10.4f}')\n",
        "print('長度為10，小數點留4位，靠右對齊{:10.4f}'.format(b))# 長度為10，小數點留4位，靠右對齊\n",
        "print()\n",
        "print(f'長度為10，小數點留4位，置中對齊{b:^10.4f}')\n",
        "print('長度為10，小數點留4位，置中對齊{:^10.4f}'.format(b))# 長度為10，小數點留4位，置中對齊\n",
        "print()\n",
        "print(f'長度為10，小數點留4位，靠左對齊{b:<10.4f}')\n",
        "print('長度為10，小數點留4位，靠左對齊{:<10.4f}'.format(b))# 長度為10，小數點留4位，靠左對齊\n",
        "print()\n",
        "print(f'長度為10，小數點留4位，靠左對齊，以-號填充空格{b:-<10.4f}') \n",
        "print('長度為10，小數點留4位，靠左對齊，以-號填充空格{:-<10.4f}'.format(b))# 長度為10，小數點留4位，靠左對齊，以-號填充空格\n",
        "print()\n",
        "print(f'長度為11，小數點留4位，置中對齊，以+號填充空格{b:+^11.4f}') \n",
        "print('長度為11，小數點留4位，置中對齊，以+號填充空格{:+^11.4f}'.format(b))# 長度為11，小數點留4位，置中對齊，以+號填充空格\n"
      ],
      "metadata": {
        "colab": {
          "base_uri": "https://localhost:8080/"
        },
        "id": "qptilgwEaLIC",
        "outputId": "b854a4d5-4e86-450e-c5c7-022ffeed7f2f"
      },
      "execution_count": 55,
      "outputs": [
        {
          "output_type": "stream",
          "name": "stdout",
          "text": [
            "預設靠右對齊    5678\n",
            "預設靠右對齊    5678\n",
            "\n",
            "置中對齊  5678  \n",
            "置中對齊  5678  \n",
            "\n",
            "靠左對齊5678    \n",
            "靠左對齊5678    \n",
            "\n",
            "長度為7，小數點留2位，靠右對齊  56.78\n",
            "長度為7，小數點留2位，靠右對齊  56.78\n",
            "\n",
            "長度為10，小數點留3位，靠右對齊    56.780\n",
            "長度為10，小數點留3位，靠右對齊    56.780\n",
            "\n",
            "長度為10，小數點留4位，靠右對齊   56.7800\n",
            "長度為10，小數點留4位，靠右對齊   56.7800\n",
            "\n",
            "長度為10，小數點留4位，置中對齊 56.7800  \n",
            "長度為10，小數點留4位，置中對齊 56.7800  \n",
            "\n",
            "長度為10，小數點留4位，靠左對齊56.7800   \n",
            "長度為10，小數點留4位，靠左對齊56.7800   \n",
            "\n",
            "長度為10，小數點留4位，靠左對齊，以-號填充空格56.7800---\n",
            "長度為10，小數點留4位，靠左對齊，以-號填充空格56.7800---\n",
            "\n",
            "長度為11，小數點留4位，置中對齊，以+號填充空格++56.7800++\n",
            "長度為11，小數點留4位，置中對齊，以+號填充空格++56.7800++\n"
          ]
        }
      ]
    },
    {
      "cell_type": "markdown",
      "source": [
        "# 5.讓使用者透過鍵盤輸入資料\n",
        "## 使用input()方法讓使用者輸入資料\n",
        "input指令又有兩種輸入方法:「隱性輸入」和「顯性輸入」。  \n",
        "> 1. 隱性輸入就是n=input()的指令，執行後會出現游標等待輸入，一般人不會知道要輸入什麼資料。\n",
        "> 2. 顯性輸入就是n=input('請輸入你的年齡：') 顯性輸入在輸入時會先列印出提示語。"
      ],
      "metadata": {
        "id": "vQBCYo3Yiqog"
      }
    },
    {
      "cell_type": "code",
      "source": [
        "n=input() #完全沒有提示語\n",
        "print(f'你是{n}歲')"
      ],
      "metadata": {
        "id": "pLLAp_JmjSLB",
        "colab": {
          "base_uri": "https://localhost:8080/"
        },
        "outputId": "de988b8c-9396-40f5-d4a9-4bd737b3d12d"
      },
      "execution_count": 20,
      "outputs": [
        {
          "output_type": "stream",
          "name": "stdout",
          "text": [
            "20\n",
            "你是20歲\n",
            "你是20歲\n"
          ]
        }
      ]
    },
    {
      "cell_type": "code",
      "source": [
        "n=input('請輸入你的年齡：') #加上提示語\n",
        "print(f'你是{n}歲')"
      ],
      "metadata": {
        "colab": {
          "base_uri": "https://localhost:8080/"
        },
        "id": "M7khlLYud52-",
        "outputId": "529cb1bd-e24e-4593-f1fa-317549297fcb"
      },
      "execution_count": 21,
      "outputs": [
        {
          "output_type": "stream",
          "name": "stdout",
          "text": [
            "請輸入你的年齡：20\n",
            "你是20歲\n"
          ]
        }
      ]
    },
    {
      "cell_type": "markdown",
      "source": [
        "# 6.input"
      ],
      "metadata": {
        "id": "5vaoZdFFhhvm"
      }
    },
    {
      "cell_type": "markdown",
      "source": [
        "## input()回傳資料型態為**字串str**,記得要依實際情形進行*資料轉型*"
      ],
      "metadata": {
        "id": "WTTzB5wSk_Ot"
      }
    },
    {
      "cell_type": "code",
      "source": [
        "a1=input()\n",
        "a2=input()\n",
        "print(a1+a2)"
      ],
      "metadata": {
        "colab": {
          "base_uri": "https://localhost:8080/"
        },
        "id": "ZimwJvC_eILn",
        "outputId": "b84c6437-c3ee-4c4b-b445-05388e24e8d3"
      },
      "execution_count": 23,
      "outputs": [
        {
          "output_type": "stream",
          "name": "stdout",
          "text": [
            "12\n",
            "34\n",
            "1234\n"
          ]
        }
      ]
    },
    {
      "cell_type": "code",
      "source": [
        "a1=input()\n",
        "print(type(a1))\n",
        "a2=input()\n",
        "print(type(a2))\n",
        "print(a1+a2)"
      ],
      "metadata": {
        "colab": {
          "base_uri": "https://localhost:8080/"
        },
        "id": "WnLeI43EixwX",
        "outputId": "e0e6d90a-0e8a-42e6-f030-0b833ccb869a"
      },
      "execution_count": 25,
      "outputs": [
        {
          "output_type": "stream",
          "name": "stdout",
          "text": [
            "12\n",
            "<class 'str'>\n",
            "34\n",
            "<class 'str'>\n",
            "1234\n"
          ]
        }
      ]
    },
    {
      "cell_type": "code",
      "source": [
        "a1=input()\n",
        "print(type(a1))\n",
        "a2=input()\n",
        "print(type(a2))\n",
        "a1=int(a1)\n",
        "print(type(a1))\n",
        "a2=int(a2)\n",
        "print(type(a2))\n",
        "print(a1+a2)"
      ],
      "metadata": {
        "colab": {
          "base_uri": "https://localhost:8080/"
        },
        "id": "0q2SLxqfi4gu",
        "outputId": "b370071b-faec-461f-c979-d2e2dfdd66c5"
      },
      "execution_count": 27,
      "outputs": [
        {
          "output_type": "stream",
          "name": "stdout",
          "text": [
            "12\n",
            "<class 'str'>\n",
            "34\n",
            "<class 'str'>\n",
            "<class 'int'>\n",
            "<class 'int'>\n",
            "46\n"
          ]
        }
      ]
    },
    {
      "cell_type": "code",
      "source": [
        "#整合寫法\n",
        "a1=int(input()) #讀入資料時直接轉型\n",
        "print(type(a1))\n",
        "a2=int(input())\n",
        "print(type(a2))\n",
        "print(a1+a2)"
      ],
      "metadata": {
        "colab": {
          "base_uri": "https://localhost:8080/"
        },
        "id": "6Mgvs5G7jJg3",
        "outputId": "aad2b298-7760-4544-d252-5c1f22c00a22"
      },
      "execution_count": 28,
      "outputs": [
        {
          "output_type": "stream",
          "name": "stdout",
          "text": [
            "12\n",
            "<class 'int'>\n",
            "4\n",
            "<class 'int'>\n",
            "16\n"
          ]
        }
      ]
    },
    {
      "cell_type": "markdown",
      "source": [
        "# 7.參加線上競賽,APCS或資訊能力競賽注意事項\n",
        "> 1. 文字字串轉成數值串列\n",
        "> 2. 文字字串轉成文字串列\n",
        "> 3. 文字串列轉成文字字串\n",
        "> 4. 數值串列轉成文字字串\n",
        "> 5. 文字字串前後空白去除"
      ],
      "metadata": {
        "id": "VdccUDNtjuJV"
      }
    },
    {
      "cell_type": "markdown",
      "source": [
        "> ## 7.1文字字串轉成數值串列"
      ],
      "metadata": {
        "id": "Hh9hLjvhkN8a"
      }
    },
    {
      "cell_type": "code",
      "source": [
        "#如果要讀入一串以空白隔開的數字 546 854 62 83 67 25 456 132\n",
        "int_data=list(map(int,input().split())) #讀入之後拆開為整數串列"
      ],
      "metadata": {
        "colab": {
          "base_uri": "https://localhost:8080/"
        },
        "id": "5DlkRBL4jrDd",
        "outputId": "ac90be0c-d787-42e9-84f7-1836265fee55"
      },
      "execution_count": 29,
      "outputs": [
        {
          "name": "stdout",
          "output_type": "stream",
          "text": [
            "12 45 68 95\n"
          ]
        }
      ]
    },
    {
      "cell_type": "code",
      "source": [
        "print(int_data)"
      ],
      "metadata": {
        "colab": {
          "base_uri": "https://localhost:8080/"
        },
        "id": "CccjHe8ekFeU",
        "outputId": "ca4e1263-d6df-4cc2-a03d-5e0c8315cf11"
      },
      "execution_count": 30,
      "outputs": [
        {
          "output_type": "stream",
          "name": "stdout",
          "text": [
            "[12, 45, 68, 95]\n"
          ]
        }
      ]
    },
    {
      "cell_type": "markdown",
      "source": [
        "> ## 7.2文字字串轉成文字串列"
      ],
      "metadata": {
        "id": "vsBW4piHlLIL"
      }
    },
    {
      "cell_type": "code",
      "source": [
        "charlist=list(input()) #將字串轉成字元串列"
      ],
      "metadata": {
        "colab": {
          "base_uri": "https://localhost:8080/"
        },
        "id": "UGXU9cShkIul",
        "outputId": "dc441921-701d-41ba-f03e-2b026f6c1857"
      },
      "execution_count": 32,
      "outputs": [
        {
          "name": "stdout",
          "output_type": "stream",
          "text": [
            "merry chrismas\n"
          ]
        }
      ]
    },
    {
      "cell_type": "code",
      "source": [
        "print(charlist)"
      ],
      "metadata": {
        "colab": {
          "base_uri": "https://localhost:8080/"
        },
        "id": "n3OR65dOlQGW",
        "outputId": "6a6a3e2f-40e8-4d38-b168-3e7bc15462fe"
      },
      "execution_count": 34,
      "outputs": [
        {
          "output_type": "stream",
          "name": "stdout",
          "text": [
            "['m', 'e', 'r', 'r', 'y', ' ', 'c', 'h', 'r', 'i', 's', 'm', 'a', 's']\n"
          ]
        }
      ]
    },
    {
      "cell_type": "code",
      "source": [
        "strlist=list(input().split()) #將字串利用空白切開成串列"
      ],
      "metadata": {
        "colab": {
          "base_uri": "https://localhost:8080/"
        },
        "id": "9B4x65P2lW1t",
        "outputId": "587f9ecd-a265-4141-8d64-e80c9cbf7d11"
      },
      "execution_count": 36,
      "outputs": [
        {
          "name": "stdout",
          "output_type": "stream",
          "text": [
            "this is a book\n"
          ]
        }
      ]
    },
    {
      "cell_type": "code",
      "source": [
        "print(strlist)"
      ],
      "metadata": {
        "colab": {
          "base_uri": "https://localhost:8080/"
        },
        "id": "x3ljtcAlla0t",
        "outputId": "58b9dd54-44a6-47cd-bad9-24d5b2e717df"
      },
      "execution_count": 37,
      "outputs": [
        {
          "output_type": "stream",
          "name": "stdout",
          "text": [
            "['this', 'is', 'a', 'book']\n"
          ]
        }
      ]
    },
    {
      "cell_type": "markdown",
      "source": [
        "> ## 7.3文字串列轉成文字字串"
      ],
      "metadata": {
        "id": "T1y2dZt2lUfO"
      }
    },
    {
      "cell_type": "code",
      "source": [
        "strlist=[\"Lisa\",\"is\",\"30\",\"years\",\"old\"] \n",
        "allstr=':'.join(strlist) #以\":\"當成結合符號，將串列轉成字串"
      ],
      "metadata": {
        "id": "Clg93owOlTKl"
      },
      "execution_count": 40,
      "outputs": []
    },
    {
      "cell_type": "code",
      "source": [
        "print(allstr)"
      ],
      "metadata": {
        "colab": {
          "base_uri": "https://localhost:8080/"
        },
        "id": "3SXZDhWNlqKD",
        "outputId": "cf628c9d-ada9-4bef-c485-986710ed0929"
      },
      "execution_count": 41,
      "outputs": [
        {
          "output_type": "stream",
          "name": "stdout",
          "text": [
            "Lisa:is:30:years:old\n"
          ]
        }
      ]
    },
    {
      "cell_type": "code",
      "source": [
        "strlist=[\"Lisa\",\"is\",\"30\",\"years\",\"old\"]\n",
        "allstr=','.join(strlist) #以\",\"當成結合符號，將串列轉成字串"
      ],
      "metadata": {
        "id": "2PWZ3XfMlrRU"
      },
      "execution_count": 42,
      "outputs": []
    },
    {
      "cell_type": "code",
      "source": [
        "print(allstr)"
      ],
      "metadata": {
        "colab": {
          "base_uri": "https://localhost:8080/"
        },
        "id": "ejhcsS2nlyYc",
        "outputId": "8878a83f-9dbf-49e8-c545-74d941a9722b"
      },
      "execution_count": 43,
      "outputs": [
        {
          "output_type": "stream",
          "name": "stdout",
          "text": [
            "Lisa,is,30,years,old\n"
          ]
        }
      ]
    },
    {
      "cell_type": "markdown",
      "source": [
        "> ## 7.4數值串列轉成文字字串"
      ],
      "metadata": {
        "id": "mX2aN0-4l0pf"
      }
    },
    {
      "cell_type": "code",
      "source": [
        "numlist=[20,40,34.5,100,60.0,34.56]\n",
        "#因為數字不能直接使用join，必須先將數值串列轉換為字串串列，再轉換為文字字串\n",
        "strall=','.join(map(str,numlist))"
      ],
      "metadata": {
        "id": "WStwChqulzXs"
      },
      "execution_count": 44,
      "outputs": []
    },
    {
      "cell_type": "code",
      "source": [
        "print(strall)"
      ],
      "metadata": {
        "colab": {
          "base_uri": "https://localhost:8080/"
        },
        "id": "KkK2GyuzmYPE",
        "outputId": "1bf7a03e-8746-498c-87b1-44f7c7a9f1f7"
      },
      "execution_count": 45,
      "outputs": [
        {
          "output_type": "stream",
          "name": "stdout",
          "text": [
            "20,40,34.5,100,60.0,34.56\n"
          ]
        }
      ]
    },
    {
      "cell_type": "code",
      "source": [
        "strall=':'.join(map(str,numlist))"
      ],
      "metadata": {
        "id": "O4WxcBJmmZV8"
      },
      "execution_count": 46,
      "outputs": []
    },
    {
      "cell_type": "code",
      "source": [
        "print(strall)"
      ],
      "metadata": {
        "colab": {
          "base_uri": "https://localhost:8080/"
        },
        "id": "Rm1I5kSMmafd",
        "outputId": "1544e113-5040-4442-ca4c-c8d79436f374"
      },
      "execution_count": 47,
      "outputs": [
        {
          "output_type": "stream",
          "name": "stdout",
          "text": [
            "20:40:34.5:100:60.0:34.56\n"
          ]
        }
      ]
    },
    {
      "cell_type": "markdown",
      "source": [
        "> ## 7.5文字字串前後空白去除"
      ],
      "metadata": {
        "id": "xfsB7FHTmgqy"
      }
    },
    {
      "cell_type": "code",
      "source": [
        "strtest=\" this is a book\""
      ],
      "metadata": {
        "id": "n5c43tPhmbhU"
      },
      "execution_count": 49,
      "outputs": []
    },
    {
      "cell_type": "code",
      "source": [
        "print(strtest.strip()) #前後空白去除"
      ],
      "metadata": {
        "colab": {
          "base_uri": "https://localhost:8080/"
        },
        "id": "TytZD2IGmfWU",
        "outputId": "9062adf7-20f3-4882-d9ee-e6425ede7b87"
      },
      "execution_count": 50,
      "outputs": [
        {
          "output_type": "stream",
          "name": "stdout",
          "text": [
            "this is a book\n"
          ]
        }
      ]
    },
    {
      "cell_type": "code",
      "source": [
        "print(strtest.lstrip()) #左空白去除"
      ],
      "metadata": {
        "colab": {
          "base_uri": "https://localhost:8080/"
        },
        "id": "y4Fl41wGmkZl",
        "outputId": "59ff2065-52cc-4c48-8ade-fcd36f7be206"
      },
      "execution_count": 51,
      "outputs": [
        {
          "output_type": "stream",
          "name": "stdout",
          "text": [
            "this is a book\n"
          ]
        }
      ]
    },
    {
      "cell_type": "code",
      "source": [
        "print(strtest.rstrip()) #右空白去除"
      ],
      "metadata": {
        "colab": {
          "base_uri": "https://localhost:8080/"
        },
        "id": "LYFaM7IPmlVG",
        "outputId": "431a8fb9-9a54-458a-a058-76d7233e8e89"
      },
      "execution_count": 52,
      "outputs": [
        {
          "output_type": "stream",
          "name": "stdout",
          "text": [
            " this is a book\n"
          ]
        }
      ]
    },
    {
      "cell_type": "code",
      "source": [
        ""
      ],
      "metadata": {
        "id": "kQwOwsMKmmcE"
      },
      "execution_count": null,
      "outputs": []
    }
  ]
}