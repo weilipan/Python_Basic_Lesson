{
  "nbformat": 4,
  "nbformat_minor": 0,
  "metadata": {
    "colab": {
      "name": "13_檔案files.ipynb",
      "provenance": [],
      "authorship_tag": "ABX9TyPniGkGF+YZzlD4ga1grs6U",
      "include_colab_link": true
    },
    "kernelspec": {
      "name": "python3",
      "display_name": "Python 3"
    },
    "language_info": {
      "name": "python"
    }
  },
  "cells": [
    {
      "cell_type": "markdown",
      "metadata": {
        "id": "view-in-github",
        "colab_type": "text"
      },
      "source": [
        "<a href=\"https://colab.research.google.com/github/weilipan/Python_Basic_Lesson/blob/main/13_%E6%AA%94%E6%A1%88files.ipynb\" target=\"_parent\"><img src=\"https://colab.research.google.com/assets/colab-badge.svg\" alt=\"Open In Colab\"/></a>"
      ]
    },
    {
      "cell_type": "markdown",
      "source": [
        "# 檔案file\n",
        "## IPython 的用法 IPython Writing a File \n",
        "#### 本方法只適用於jupyter lab，其實直接用記事本或其他編輯器就可以產生一份電子檔了。"
      ],
      "metadata": {
        "id": "oQGGxJmoTsAZ"
      }
    },
    {
      "cell_type": "code",
      "source": [
        "%%writefile test.txt\n",
        "Hello, this is a quick test file."
      ],
      "metadata": {
        "colab": {
          "base_uri": "https://localhost:8080/"
        },
        "id": "1VlwTg7vTw2c",
        "outputId": "74e1de79-70f3-4190-dccd-85f3245c2c84"
      },
      "execution_count": 1,
      "outputs": [
        {
          "output_type": "stream",
          "name": "stdout",
          "text": [
            "Writing test.txt\n"
          ]
        }
      ]
    },
    {
      "cell_type": "markdown",
      "source": [
        "## 1.開啟檔案\n",
        "開啟檔案前請先確認同一個資料夾底下要有這個檔案存在，不然會出現錯誤。"
      ],
      "metadata": {
        "id": "XBnt88SqT1KY"
      }
    },
    {
      "cell_type": "code",
      "source": [
        "# 因為資料夾底下沒有 'whoops.txt' 檔，所以開啟時會出現錯誤。\n",
        "\n",
        "myfile = open('whoops.txt')"
      ],
      "metadata": {
        "colab": {
          "base_uri": "https://localhost:8080/",
          "height": 168
        },
        "id": "PxI5I4SvTzsM",
        "outputId": "009cd2c5-e210-4fb5-b4aa-a750b7e3057f"
      },
      "execution_count": 2,
      "outputs": [
        {
          "output_type": "error",
          "ename": "FileNotFoundError",
          "evalue": "ignored",
          "traceback": [
            "\u001b[0;31m---------------------------------------------------------------------------\u001b[0m",
            "\u001b[0;31mFileNotFoundError\u001b[0m                         Traceback (most recent call last)",
            "\u001b[0;32m<ipython-input-2-410403f4f4b4>\u001b[0m in \u001b[0;36m<module>\u001b[0;34m\u001b[0m\n\u001b[0;32m----> 1\u001b[0;31m \u001b[0mmyfile\u001b[0m \u001b[0;34m=\u001b[0m \u001b[0mopen\u001b[0m\u001b[0;34m(\u001b[0m\u001b[0;34m'whoops.txt'\u001b[0m\u001b[0;34m)\u001b[0m\u001b[0;34m\u001b[0m\u001b[0;34m\u001b[0m\u001b[0m\n\u001b[0m",
            "\u001b[0;31mFileNotFoundError\u001b[0m: [Errno 2] No such file or directory: 'whoops.txt'"
          ]
        }
      ]
    },
    {
      "cell_type": "code",
      "source": [
        "# 可以使用 **pwd** 指令來確認目前的工作目錄，然後去工作目錄找看看有無檔案:\n",
        "%pwd"
      ],
      "metadata": {
        "colab": {
          "base_uri": "https://localhost:8080/",
          "height": 35
        },
        "id": "v3P1hhvRT6zc",
        "outputId": "ebfce1f4-0b79-4d11-a93b-3730b3e72ccb"
      },
      "execution_count": 5,
      "outputs": [
        {
          "output_type": "execute_result",
          "data": {
            "text/plain": [
              "'/content'"
            ],
            "application/vnd.google.colaboratory.intrinsic+json": {
              "type": "string"
            }
          },
          "metadata": {},
          "execution_count": 5
        }
      ]
    },
    {
      "cell_type": "markdown",
      "source": [
        "## 2.檔案路徑\n",
        "**可以使用絕對完整路徑來確保開啟檔案無誤。**  \n",
        "Windows完整路徑指令要用雙斜線。\n",
        "```\n",
        "myfile = open(\"C:\\\\Users\\\\YourUserName\\\\Home\\\\Folder\\\\myfile.txt\")\n",
        "```\n",
        "MacOS完整路徑要用單反斜線。\n",
        "```\n",
        "myfile = open(\"/Users/YouUserName/Folder/myfile.txt\")\n",
        "```"
      ],
      "metadata": {
        "id": "SdZ9yeAtUW_3"
      }
    },
    {
      "cell_type": "code",
      "source": [
        "# 開啟一開始建立的檔案。\n",
        "my_file = open('test.txt')"
      ],
      "metadata": {
        "id": "jVGkl_ipUCC0"
      },
      "execution_count": 6,
      "outputs": []
    },
    {
      "cell_type": "code",
      "source": [
        "# 利用read()讀檔\n",
        "my_file.read()"
      ],
      "metadata": {
        "colab": {
          "base_uri": "https://localhost:8080/",
          "height": 35
        },
        "id": "45H_5LuSUeoh",
        "outputId": "1593b845-c289-4ef9-fd3a-b7195df7e862"
      },
      "execution_count": 7,
      "outputs": [
        {
          "output_type": "execute_result",
          "data": {
            "text/plain": [
              "'Hello, this is a quick test file.\\n'"
            ],
            "application/vnd.google.colaboratory.intrinsic+json": {
              "type": "string"
            }
          },
          "metadata": {},
          "execution_count": 7
        }
      ]
    },
    {
      "cell_type": "code",
      "source": [
        "# 再執行一次，看看發生什麼事了。\n",
        "my_file.read()"
      ],
      "metadata": {
        "colab": {
          "base_uri": "https://localhost:8080/",
          "height": 35
        },
        "id": "EcqcPweFUg30",
        "outputId": "cb4cceea-c4d2-44b8-ac54-29a6408b08e3"
      },
      "execution_count": 8,
      "outputs": [
        {
          "output_type": "execute_result",
          "data": {
            "text/plain": [
              "''"
            ],
            "application/vnd.google.colaboratory.intrinsic+json": {
              "type": "string"
            }
          },
          "metadata": {},
          "execution_count": 8
        }
      ]
    },
    {
      "cell_type": "markdown",
      "source": [
        "## 3.指標讀檔\n",
        "因為是用指標讀寫頭的方式讀檔，第一次讀檔時讀寫頭已指到檔案結尾，第二次再讀的時候，讀寫頭仍在檔尾，所以沒有讀到任何東西。\n"
      ],
      "metadata": {
        "id": "2QgOYAswUtUG"
      }
    },
    {
      "cell_type": "code",
      "source": [
        "# 利用seek方法，將讀寫頭重設至索引值0的位置，也就是檔頭的位置。\n",
        "my_file.seek(0)"
      ],
      "metadata": {
        "colab": {
          "base_uri": "https://localhost:8080/"
        },
        "id": "H8mXW6erUiyz",
        "outputId": "6a11ac06-673d-41f7-ac70-5f934bdfbcf6"
      },
      "execution_count": 9,
      "outputs": [
        {
          "output_type": "execute_result",
          "data": {
            "text/plain": [
              "0"
            ]
          },
          "metadata": {},
          "execution_count": 9
        }
      ]
    },
    {
      "cell_type": "code",
      "source": [
        "# 再讀一次\n",
        "my_file.read()"
      ],
      "metadata": {
        "colab": {
          "base_uri": "https://localhost:8080/",
          "height": 35
        },
        "id": "e_JZJguDU38c",
        "outputId": "13b9eef9-fe18-4892-ae8e-e72e468f7b48"
      },
      "execution_count": 10,
      "outputs": [
        {
          "output_type": "execute_result",
          "data": {
            "text/plain": [
              "'Hello, this is a quick test file.\\n'"
            ],
            "application/vnd.google.colaboratory.intrinsic+json": {
              "type": "string"
            }
          },
          "metadata": {},
          "execution_count": 10
        }
      ]
    },
    {
      "cell_type": "markdown",
      "source": [
        "## 4.read()與readlines()\n",
        "檔案小的時候用 **read()** ,如果檔案太大沒辦法一次讀完，可以嘗試使用逐行讀入**readlines()** 搭配for迴圈的方式來處理。"
      ],
      "metadata": {
        "id": "YO0tMWX-U8wA"
      }
    },
    {
      "cell_type": "code",
      "source": [
        "# 回傳list，每個元素就是文字檔的每行。\n",
        "my_file.seek(0)\n",
        "my_file.readlines()"
      ],
      "metadata": {
        "colab": {
          "base_uri": "https://localhost:8080/"
        },
        "id": "sEPoHYsJU5XE",
        "outputId": "436e0e73-e119-4f9f-dbb5-b907bbaee091"
      },
      "execution_count": 11,
      "outputs": [
        {
          "output_type": "execute_result",
          "data": {
            "text/plain": [
              "['Hello, this is a quick test file.\\n']"
            ]
          },
          "metadata": {},
          "execution_count": 11
        }
      ]
    },
    {
      "cell_type": "code",
      "source": [
        "# 讀取完畢後記得關檔。\n",
        "my_file.close()"
      ],
      "metadata": {
        "id": "A58CI849VObD"
      },
      "execution_count": 12,
      "outputs": []
    },
    {
      "cell_type": "markdown",
      "source": [
        "## 5.寫入檔案\n",
        "加入參數 **'w'**,  代表要寫入檔案:"
      ],
      "metadata": {
        "id": "C65C5aAZVTo7"
      }
    },
    {
      "cell_type": "code",
      "source": [
        "# 第二個參數 'w' 代表要開啟寫入模式.\n",
        "# 'w+' 可以同時讀和寫下，若檔案不存在則可直接建立。\n",
        "\n",
        "my_file = open('test.txt','w+')"
      ],
      "metadata": {
        "id": "0OABENMRVRS7"
      },
      "execution_count": 13,
      "outputs": []
    },
    {
      "cell_type": "markdown",
      "source": [
        "<strong><font color='red'>使用注意事項Use caution!</font></strong>  \n",
        "使用 `'w'` or `'w+'`會將原來的檔案內容  \n",
        "**全部清掉後再寫入，使用時請注意!**"
      ],
      "metadata": {
        "id": "AIWvqJvyVaUe"
      }
    },
    {
      "cell_type": "code",
      "source": [
        "my_file.write('This is a new line')"
      ],
      "metadata": {
        "colab": {
          "base_uri": "https://localhost:8080/"
        },
        "id": "0FVIVPqOVh18",
        "outputId": "21f7b46e-189c-431a-c087-cf69adf4a2a0"
      },
      "execution_count": 14,
      "outputs": [
        {
          "output_type": "execute_result",
          "data": {
            "text/plain": [
              "18"
            ]
          },
          "metadata": {},
          "execution_count": 14
        }
      ]
    },
    {
      "cell_type": "code",
      "source": [
        "my_file.seek(0)\n",
        "my_file.read()"
      ],
      "metadata": {
        "colab": {
          "base_uri": "https://localhost:8080/",
          "height": 35
        },
        "id": "sUMJysbaVjyb",
        "outputId": "1d0534e2-f63b-4d48-87bc-0060ec07b45a"
      },
      "execution_count": 15,
      "outputs": [
        {
          "output_type": "execute_result",
          "data": {
            "text/plain": [
              "'This is a new line'"
            ],
            "application/vnd.google.colaboratory.intrinsic+json": {
              "type": "string"
            }
          },
          "metadata": {},
          "execution_count": 15
        }
      ]
    },
    {
      "cell_type": "code",
      "source": [
        "my_file.close()  # always do this when you're done with a file"
      ],
      "metadata": {
        "id": "_r2bkNJ7Vkz8"
      },
      "execution_count": 16,
      "outputs": []
    },
    {
      "cell_type": "markdown",
      "source": [
        "## 6.增加檔案內容 Appending to a File\n",
        "傳入參數 `'a'` 可以將新增的內容附加在檔尾，而非直接覆寫。  \n",
        "其餘使用方法與`'w+'`相同。"
      ],
      "metadata": {
        "id": "k6lxqG7DVnsz"
      }
    },
    {
      "cell_type": "code",
      "source": [
        "my_file = open('test.txt','a+')\n",
        "my_file.write('\\nThis is text being appended to test.txt')\n",
        "my_file.write('\\nAnd another line here.')"
      ],
      "metadata": {
        "colab": {
          "base_uri": "https://localhost:8080/"
        },
        "id": "iiuMOpeVVmEc",
        "outputId": "d484d198-2333-4eb2-a8aa-acc9246dc7dc"
      },
      "execution_count": 17,
      "outputs": [
        {
          "output_type": "execute_result",
          "data": {
            "text/plain": [
              "23"
            ]
          },
          "metadata": {},
          "execution_count": 17
        }
      ]
    },
    {
      "cell_type": "code",
      "source": [
        "my_file.seek(0)\n",
        "print(my_file.read())"
      ],
      "metadata": {
        "colab": {
          "base_uri": "https://localhost:8080/"
        },
        "id": "qQiQnp8yVtST",
        "outputId": "0a10ebad-d48c-441a-929d-0ede047db035"
      },
      "execution_count": 18,
      "outputs": [
        {
          "output_type": "stream",
          "name": "stdout",
          "text": [
            "This is a new line\n",
            "This is text being appended to test.txt\n",
            "And another line here.\n"
          ]
        }
      ]
    },
    {
      "cell_type": "code",
      "source": [
        "my_file.close()"
      ],
      "metadata": {
        "id": "XZjPuSLUVuYk"
      },
      "execution_count": 19,
      "outputs": []
    },
    {
      "cell_type": "markdown",
      "source": [
        "## 7.使用 `%%writefile` 增加內容\n",
        "只能在ipython上用:"
      ],
      "metadata": {
        "id": "GualXhLHVw8W"
      }
    },
    {
      "cell_type": "code",
      "source": [
        "%%writefile -a test.txt\n",
        "\n",
        "This is text being appended to test.txt\n",
        "And another line here."
      ],
      "metadata": {
        "colab": {
          "base_uri": "https://localhost:8080/"
        },
        "id": "j-esb_-3VvYb",
        "outputId": "48ff8b1d-3e12-4976-a0bc-0ec24a05c53b"
      },
      "execution_count": 20,
      "outputs": [
        {
          "output_type": "stream",
          "name": "stdout",
          "text": [
            "Appending to test.txt\n"
          ]
        }
      ]
    },
    {
      "cell_type": "markdown",
      "source": [
        "如果您希望第一行以自己的行開始，請添加一個空格，因為Jupyter無法識別`\\n`換行符號"
      ],
      "metadata": {
        "id": "luXpwvZHV3qE"
      }
    },
    {
      "cell_type": "markdown",
      "source": [
        "## 8.走訪檔案內容 Iterating through a File"
      ],
      "metadata": {
        "id": "zYMRsO1yV9c1"
      }
    },
    {
      "cell_type": "code",
      "source": [
        "%%writefile test.txt\n",
        "First Line\n",
        "Second Line"
      ],
      "metadata": {
        "colab": {
          "base_uri": "https://localhost:8080/"
        },
        "id": "csRj0f2JV1J7",
        "outputId": "b6d3773f-473f-4a9b-91f1-725e1e33c9f4"
      },
      "execution_count": 21,
      "outputs": [
        {
          "output_type": "stream",
          "name": "stdout",
          "text": [
            "Overwriting test.txt\n"
          ]
        }
      ]
    },
    {
      "cell_type": "code",
      "source": [
        "for line in open('test.txt'):\n",
        "    print(line)"
      ],
      "metadata": {
        "colab": {
          "base_uri": "https://localhost:8080/"
        },
        "id": "rIvvNCCZWEOU",
        "outputId": "c5dc7804-33f1-4141-a8c0-6419c7d6b126"
      },
      "execution_count": 22,
      "outputs": [
        {
          "output_type": "stream",
          "name": "stdout",
          "text": [
            "First Line\n",
            "\n",
            "Second Line\n",
            "\n"
          ]
        }
      ]
    },
    {
      "cell_type": "code",
      "source": [
        "with open('test.txt') as f:\n",
        "    for line in f.readlines():\n",
        "        print(line)"
      ],
      "metadata": {
        "colab": {
          "base_uri": "https://localhost:8080/"
        },
        "id": "5SReReGaWFSK",
        "outputId": "1cbba57a-4ac7-473e-a966-03454f592866"
      },
      "execution_count": 23,
      "outputs": [
        {
          "output_type": "stream",
          "name": "stdout",
          "text": [
            "First Line\n",
            "\n",
            "Second Line\n",
            "\n"
          ]
        }
      ]
    },
    {
      "cell_type": "markdown",
      "source": [
        "## 9.其他範例"
      ],
      "metadata": {
        "id": "jZ0jUsAxWJD-"
      }
    },
    {
      "cell_type": "code",
      "source": [
        "#打開檔案控制器，並取名為myfile。第一個參數為同一個資料夾下檔案名稱，第二個參數代表目前要使用什麼模式。w代表寫入模式。\n",
        "myfile = open(\"test.txt\", \"w\") \n",
        "myfile.write(\"My first file written from Python\\n\")\n",
        "myfile.write(\"---------------------------------\\n\")\n",
        "myfile.write(\"Hello, world!\\n\")\n",
        "myfile.close()#所有動作完成，請記得要關閉檔案，不然有可能造成資料遺失。"
      ],
      "metadata": {
        "id": "kHQ_RGY9WGlL"
      },
      "execution_count": 24,
      "outputs": []
    },
    {
      "cell_type": "code",
      "source": [
        "# 利用open打開檔案控制器並取名為mynewhandle，最後一個參數\"r\"代表讀取。\n",
        "mynewhandle = open(\"test.txt\", \"r\")\n",
        "while True:                            # Keep reading forever持續讀取\n",
        "    theline = mynewhandle.readline()   # Try to read next line每次讀一行\n",
        "    if len(theline) == 0:              # If there are no more lines如果該行已無文字\n",
        "        break                          #     leave the loop離開迴圈\n",
        "\n",
        "    # Now process the line we've just read\n",
        "    print(theline, end=\"\")#印出你已讀取的文字行，並將結尾原有換行符號去除\n",
        "\n",
        "mynewhandle.close()#完成所有動作時，請記得利用close()關閉檔案\n",
        "#如果沒有找到該檔案，則會出現錯誤訊息"
      ],
      "metadata": {
        "colab": {
          "base_uri": "https://localhost:8080/"
        },
        "id": "F7h5Cb1aYKkK",
        "outputId": "dd1f3185-342b-44f0-b7a4-a33d67e5e85c"
      },
      "execution_count": 25,
      "outputs": [
        {
          "output_type": "stream",
          "name": "stdout",
          "text": [
            "My first file written from Python\n",
            "---------------------------------\n",
            "Hello, world!\n"
          ]
        }
      ]
    },
    {
      "cell_type": "code",
      "source": [
        "!wget https://raw.githubusercontent.com/weilipan/Python_Code/master/%E5%9F%BA%E6%9C%AC%E8%B3%87%E6%96%99%E7%B5%90%E6%A7%8B/friends.txt friends.txt"
      ],
      "metadata": {
        "colab": {
          "base_uri": "https://localhost:8080/"
        },
        "id": "vMcBSctgYL5C",
        "outputId": "47276745-a9ba-4a92-892c-28328646df5d"
      },
      "execution_count": 47,
      "outputs": [
        {
          "output_type": "stream",
          "name": "stdout",
          "text": [
            "--2022-08-16 06:49:11--  https://raw.githubusercontent.com/weilipan/Python_Code/master/%E5%9F%BA%E6%9C%AC%E8%B3%87%E6%96%99%E7%B5%90%E6%A7%8B/friends.txt\n",
            "Resolving raw.githubusercontent.com (raw.githubusercontent.com)... 185.199.111.133, 185.199.109.133, 185.199.110.133, ...\n",
            "Connecting to raw.githubusercontent.com (raw.githubusercontent.com)|185.199.111.133|:443... connected.\n",
            "HTTP request sent, awaiting response... 200 OK\n",
            "Length: 543 [text/plain]\n",
            "Saving to: ‘friends.txt.1’\n",
            "\n",
            "\rfriends.txt.1         0%[                    ]       0  --.-KB/s               \rfriends.txt.1       100%[===================>]     543  --.-KB/s    in 0s      \n",
            "\n",
            "2022-08-16 06:49:12 (22.1 MB/s) - ‘friends.txt.1’ saved [543/543]\n",
            "\n",
            "--2022-08-16 06:49:12--  http://friends.txt/\n",
            "Resolving friends.txt (friends.txt)... failed: Name or service not known.\n",
            "wget: unable to resolve host address ‘friends.txt’\n",
            "FINISHED --2022-08-16 06:49:12--\n",
            "Total wall clock time: 0.2s\n",
            "Downloaded: 1 files, 543 in 0s (22.1 MB/s)\n"
          ]
        }
      ]
    },
    {
      "cell_type": "code",
      "source": [
        "f = open(\"friends.txt\", \"r\") #讀取friends.txt檔\n",
        "xs = f.readlines()\n",
        "#example11_2是用readline，一次讀一行。\n",
        "#本例是用readlines，將檔案中所有文字一次讀進來，但依照每行變成list的類型。\n",
        "f.close()#請記得關閉檔案，再做下一個動作。\n",
        "\n",
        "xs.sort()#將xs進行排序，它會以每行第一個字母進行排序\n",
        "\n",
        "g = open(\"sortedfriends.txt\", \"w\")#寫入sortedfriends.txt\n",
        "for v in xs: #利用for迴圈，每次寫入一行\n",
        "    g.write(v)\n",
        "g.close()#寫入完成，請記得關閉檔案"
      ],
      "metadata": {
        "id": "53OPvF-zYpmD"
      },
      "execution_count": 48,
      "outputs": []
    },
    {
      "cell_type": "code",
      "source": [
        "# 請下載raw檔，不可以直接下載連結網址\n",
        "!wget https://raw.githubusercontent.com/weilipan/Python_Code/3b8dfbdca6f14d38267032a58521b0c253a82fa6/%E5%9F%BA%E6%9C%AC%E8%B3%87%E6%96%99%E7%B5%90%E6%A7%8B/somefile.txt somefile.txt"
      ],
      "metadata": {
        "colab": {
          "base_uri": "https://localhost:8080/"
        },
        "id": "4CnL1xSmYriI",
        "outputId": "0fa3b50c-8619-4eb7-982c-1bd49bba92b8"
      },
      "execution_count": 49,
      "outputs": [
        {
          "output_type": "stream",
          "name": "stdout",
          "text": [
            "--2022-08-16 06:49:21--  https://raw.githubusercontent.com/weilipan/Python_Code/3b8dfbdca6f14d38267032a58521b0c253a82fa6/%E5%9F%BA%E6%9C%AC%E8%B3%87%E6%96%99%E7%B5%90%E6%A7%8B/somefile.txt\n",
            "Resolving raw.githubusercontent.com (raw.githubusercontent.com)... 185.199.108.133, 185.199.109.133, 185.199.110.133, ...\n",
            "Connecting to raw.githubusercontent.com (raw.githubusercontent.com)|185.199.108.133|:443... connected.\n",
            "HTTP request sent, awaiting response... 200 OK\n",
            "Length: 2489 (2.4K) [text/plain]\n",
            "Saving to: ‘somefile.txt.2’\n",
            "\n",
            "\rsomefile.txt.2        0%[                    ]       0  --.-KB/s               \rsomefile.txt.2      100%[===================>]   2.43K  --.-KB/s    in 0s      \n",
            "\n",
            "2022-08-16 06:49:21 (28.3 MB/s) - ‘somefile.txt.2’ saved [2489/2489]\n",
            "\n",
            "--2022-08-16 06:49:21--  http://somefile.txt/\n",
            "Resolving somefile.txt (somefile.txt)... failed: Name or service not known.\n",
            "wget: unable to resolve host address ‘somefile.txt’\n",
            "FINISHED --2022-08-16 06:49:21--\n",
            "Total wall clock time: 0.1s\n",
            "Downloaded: 1 files, 2.4K in 0s (28.3 MB/s)\n"
          ]
        }
      ]
    },
    {
      "cell_type": "code",
      "source": [
        "f = open(\"somefile.txt\") #沒有最後一個參數，預設會是\"r\"，以讀取模式開啟檔案控制器\n",
        "content = f.read() #read()一次將檔案所有內容讀入，但請注意內容若是過大會造成記憶體負荷不了。\n",
        "f.close()#讀取完畢請記得關閉檔案\n",
        "\n",
        "words = content.split()#利用空白將文字切開成list\n",
        "print(\"There are {0} words in the file.\".format(len(words)))\n",
        "#這樣就可以利用len(words)的方式知道這篇文章有幾個字。"
      ],
      "metadata": {
        "colab": {
          "base_uri": "https://localhost:8080/"
        },
        "id": "miI_uDaaYNji",
        "outputId": "027df60e-7ead-484a-cd24-7dab1e2fd1d8"
      },
      "execution_count": 50,
      "outputs": [
        {
          "output_type": "stream",
          "name": "stdout",
          "text": [
            "There are 414 words in the file.\n"
          ]
        }
      ]
    },
    {
      "cell_type": "code",
      "source": [
        "content"
      ],
      "metadata": {
        "colab": {
          "base_uri": "https://localhost:8080/",
          "height": 139
        },
        "id": "afM95Dz1YO9C",
        "outputId": "09f718de-18ff-43d9-9f90-3abbe4692030"
      },
      "execution_count": 51,
      "outputs": [
        {
          "output_type": "execute_result",
          "data": {
            "text/plain": [
              "'Learn How You Can Monitor Your Kids On The Internet\\nSetting up surveillance cameras is too much, not to mention ineffective, if you want to monitor your kids\\' activity on the internet. What you need are the right tools and processes to ensure that your kids\\' internet experience is enjoyable and most of all, safe.\\n\\nThere is no better way to monitor your kids than by sitting with them while they use the internet. This way, you are assured that you know the sites they visit and the things they do online.\\n\\nIt is also important to keep the internet-connected computer to open area of your house so that you can easily see what they are doing online. Having said that, an internet-connected computer inside their room should be avoided since you can\\'t monitor them if they go online in the middle of the night.\\n\\nBut you can\\'t sit with them or guard their every move online so there are ways to prevent your kids from accessing websites that aren\\'t right for their age.\\n\\nFor younger kids particularly those at the age of 2 to 10 years old, it is highly recommended to download or purchase online web browsers for kids. Specially-made browsers for kids have pre-approved websites that kids can access. These browsers also filter websites which may contain inappropriate information for your kids. Other cool features of kids\\' browser are fun, colorful, and easy to use interface, safe, educational, and kids-friendly environment.\\n\\nFor pre-teens and teenagers who won\\'t enjoy the kids-browser, one way to monitor their activity by reviewing the website history. If they aren\\'t clever enough, they won\\'t know how to erase it. If you find websites that are inappropriate for them, block them by adding them to Windows\\' \"Hosts\" file so that the next time they try to access these pages, they will be blocked. Or, to protect the entry of the unwanted sites from your computer beforehand, setup an internet filtering software such as Cyber Snoop, ChildLock, AOL Parental Controls, BSafe Online, FilterPark, McAfee Internet Security Suite, Net Mop, and more.\\n\\nIt is also encouraged that you, as parents, should teach your children the right way of using the internet. Direct them to good websites about sexuality and health, and not pornography.\\n\\nSetting up hardware like router with internet filtering capability is another way to prevent your kids from accessing inappropriate websites.\\n\\nRemember that hardware and software should act only as aids and not replacements to your physical guidance.\\n'"
            ],
            "application/vnd.google.colaboratory.intrinsic+json": {
              "type": "string"
            }
          },
          "metadata": {},
          "execution_count": 51
        }
      ]
    },
    {
      "cell_type": "code",
      "source": [
        ""
      ],
      "metadata": {
        "id": "TVHhZGXcZAla"
      },
      "execution_count": null,
      "outputs": []
    }
  ]
}