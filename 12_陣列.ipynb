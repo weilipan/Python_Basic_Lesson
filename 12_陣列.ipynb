{
  "nbformat": 4,
  "nbformat_minor": 0,
  "metadata": {
    "colab": {
      "name": "12 陣列.ipynb",
      "provenance": [],
      "toc_visible": true,
      "include_colab_link": true
    },
    "kernelspec": {
      "name": "python3",
      "display_name": "Python 3"
    },
    "language_info": {
      "name": "python"
    }
  },
  "cells": [
    {
      "cell_type": "markdown",
      "metadata": {
        "id": "view-in-github",
        "colab_type": "text"
      },
      "source": [
        "<a href=\"https://colab.research.google.com/github/weilipan/Python_Basic_Lesson/blob/111course/12_%E9%99%A3%E5%88%97.ipynb\" target=\"_parent\"><img src=\"https://colab.research.google.com/assets/colab-badge.svg\" alt=\"Open In Colab\"/></a>"
      ]
    },
    {
      "cell_type": "markdown",
      "source": [
        "# 陣列\n",
        "[python資料結構](https://docs.python.org/zh-tw/3/tutorial/datastructures.html)"
      ],
      "metadata": {
        "id": "nUmaZFf3XoBV"
      }
    },
    {
      "cell_type": "markdown",
      "source": [
        "## 1.認識陣列資料結構\n",
        "用來處理大量相同資料型態的資料時，使用陣列會方便處理。  \n",
        "我們使用串列list來模擬陣列型態。"
      ],
      "metadata": {
        "id": "WW7FJODnX0za"
      }
    },
    {
      "cell_type": "markdown",
      "source": [
        "## 2.一維陣列\n",
        "\n",
        "一維陣列的初始化能夠使用以下的語法進行。以長度為5為例子。\n",
        "\n",
        "`a=[0 for i in range(5)]`"
      ],
      "metadata": {
        "id": "tw4s-WGAYLi_"
      }
    },
    {
      "cell_type": "code",
      "source": [
        "a=[0 for i in range(5)] #初始化一個長度為5，元素皆為0的一維陣列"
      ],
      "metadata": {
        "id": "YTiDJ8aSX0Im"
      },
      "execution_count": null,
      "outputs": []
    },
    {
      "cell_type": "code",
      "source": [
        "a"
      ],
      "metadata": {
        "colab": {
          "base_uri": "https://localhost:8080/"
        },
        "id": "W9Yiuct5YQsv",
        "outputId": "0abdec5c-9bd7-4508-acc1-84fe506a41a9"
      },
      "execution_count": null,
      "outputs": [
        {
          "output_type": "execute_result",
          "data": {
            "text/plain": [
              "[0, 0, 0, 0, 0]"
            ]
          },
          "metadata": {},
          "execution_count": 2
        }
      ]
    },
    {
      "cell_type": "markdown",
      "source": [
        "還記得我們可以透過索引值來存取串列當中所存放的元素嗎？\n",
        "\n",
        "以a為例，它的5個元素分別為`a[0],a[1],a[2],a[3],a[4]`"
      ],
      "metadata": {
        "id": "CWUETceaYTwK"
      }
    },
    {
      "cell_type": "code",
      "source": [
        "a[0]"
      ],
      "metadata": {
        "colab": {
          "base_uri": "https://localhost:8080/"
        },
        "id": "e_7QYVrfYRq3",
        "outputId": "e698a044-b92b-4881-d195-9138e29a3f36"
      },
      "execution_count": null,
      "outputs": [
        {
          "output_type": "execute_result",
          "data": {
            "text/plain": [
              "0"
            ]
          },
          "metadata": {},
          "execution_count": 3
        }
      ]
    },
    {
      "cell_type": "code",
      "source": [
        "a[4]"
      ],
      "metadata": {
        "colab": {
          "base_uri": "https://localhost:8080/"
        },
        "id": "B5gTgXtGYXc2",
        "outputId": "91b7f09d-9c18-4299-d38c-9305cea50067"
      },
      "execution_count": null,
      "outputs": [
        {
          "output_type": "execute_result",
          "data": {
            "text/plain": [
              "0"
            ]
          },
          "metadata": {},
          "execution_count": 4
        }
      ]
    },
    {
      "cell_type": "code",
      "source": [
        "a[5] #會出現錯誤，因為索引值超出範圍，出現IndexError: list index out of range"
      ],
      "metadata": {
        "colab": {
          "base_uri": "https://localhost:8080/",
          "height": 168
        },
        "id": "nCVDViLbYYgm",
        "outputId": "a1e95ce1-3c82-4e5a-b14d-69d36afea9d7"
      },
      "execution_count": null,
      "outputs": [
        {
          "output_type": "error",
          "ename": "IndexError",
          "evalue": "ignored",
          "traceback": [
            "\u001b[0;31m---------------------------------------------------------------------------\u001b[0m",
            "\u001b[0;31mIndexError\u001b[0m                                Traceback (most recent call last)",
            "\u001b[0;32m<ipython-input-5-68b8ac22f489>\u001b[0m in \u001b[0;36m<module>\u001b[0;34m\u001b[0m\n\u001b[0;32m----> 1\u001b[0;31m \u001b[0ma\u001b[0m\u001b[0;34m[\u001b[0m\u001b[0;36m5\u001b[0m\u001b[0;34m]\u001b[0m \u001b[0;31m#會出現錯誤，因為索引值超出範圍，出現IndexError: list index out of range\u001b[0m\u001b[0;34m\u001b[0m\u001b[0;34m\u001b[0m\u001b[0m\n\u001b[0m",
            "\u001b[0;31mIndexError\u001b[0m: list index out of range"
          ]
        }
      ]
    },
    {
      "cell_type": "code",
      "source": [
        "#其他的初始化範例\n",
        "b=[i for i in range(5)]"
      ],
      "metadata": {
        "id": "OLafeUYfYZ4W"
      },
      "execution_count": null,
      "outputs": []
    },
    {
      "cell_type": "code",
      "source": [
        "b"
      ],
      "metadata": {
        "colab": {
          "base_uri": "https://localhost:8080/"
        },
        "id": "U1YXwxLs1M7B",
        "outputId": "8b877c85-c374-4592-f3d4-d31054fa8b54"
      },
      "execution_count": null,
      "outputs": [
        {
          "output_type": "execute_result",
          "data": {
            "text/plain": [
              "[0, 1, 2, 3, 4]"
            ]
          },
          "metadata": {},
          "execution_count": 2
        }
      ]
    },
    {
      "cell_type": "code",
      "source": [
        "# 可以使用for迴圈語法進行一維陣列的走訪\n",
        "for i in range(len(b)):\n",
        "    print(i)"
      ],
      "metadata": {
        "colab": {
          "base_uri": "https://localhost:8080/"
        },
        "id": "ALIxGZ1W1N_Z",
        "outputId": "23a16987-cbcb-4baf-9afe-d0977b821af8"
      },
      "execution_count": null,
      "outputs": [
        {
          "output_type": "stream",
          "name": "stdout",
          "text": [
            "0\n",
            "1\n",
            "2\n",
            "3\n",
            "4\n"
          ]
        }
      ]
    },
    {
      "cell_type": "markdown",
      "source": [
        "## 3.一維陣列為reduce結合"
      ],
      "metadata": {
        "id": "74irz6_m1Ywv"
      }
    },
    {
      "cell_type": "code",
      "source": [
        "from functools import reduce #請注意要載入相關套件\n",
        "def add(x,y):\n",
        "    return x+y\n",
        "reduce(add,b)"
      ],
      "metadata": {
        "colab": {
          "base_uri": "https://localhost:8080/"
        },
        "id": "mvL3LUol1PIx",
        "outputId": "61adb21f-15f5-4a33-fc17-eb3140e8e85d"
      },
      "execution_count": null,
      "outputs": [
        {
          "output_type": "execute_result",
          "data": {
            "text/plain": [
              "10"
            ]
          },
          "metadata": {},
          "execution_count": 5
        }
      ]
    },
    {
      "cell_type": "code",
      "source": [
        "#上面的例子也可以寫成\n",
        "from functools import reduce\n",
        "reduce(lambda x,y:x+y,b)"
      ],
      "metadata": {
        "colab": {
          "base_uri": "https://localhost:8080/"
        },
        "id": "JPuDRWB_1fen",
        "outputId": "3e1c5cce-3bbd-4420-e785-adad8b234278"
      },
      "execution_count": null,
      "outputs": [
        {
          "output_type": "execute_result",
          "data": {
            "text/plain": [
              "10"
            ]
          },
          "metadata": {},
          "execution_count": 6
        }
      ]
    },
    {
      "cell_type": "markdown",
      "source": [
        "## 4.二維陣列\n",
        "\n",
        "許多的一維陣列合起來就會變成二維陣列。 \n",
        "\n",
        "例如班上同學的體檢表，每位學生的體檢資料就像一個個 **一維陣列**，許多同學的體檢資料就可以組成一個 **二維陣列**\n",
        "<table width=\"300\" border=\"1\">\n",
        "　<tr>\n",
        "     <td>座號</td>\n",
        "     <td>身高cm</td>\n",
        "     <td>體重kg</td>\n",
        "     <td>視力</td>\n",
        "　</tr>\n",
        "  <tr>\n",
        "     <td>1</td>\n",
        "     <td>180</td>\n",
        "     <td>70</td>\n",
        "     <td>0.5</td>\n",
        "　</tr>\n",
        "   　<tr>\n",
        "     <td>2</td>\n",
        "     <td>165</td>\n",
        "     <td>60</td>\n",
        "     <td>0.4</td>\n",
        "　</tr>\n",
        "  <tr>\n",
        "     <td>3</td>\n",
        "     <td>175</td>\n",
        "     <td>90</td>\n",
        "     <td>1.0</td>\n",
        "　</tr>\n",
        "  <tr>\n",
        "     <td>4</td>\n",
        "     <td>181</td>\n",
        "     <td>85</td>\n",
        "     <td>0.9</td>\n",
        "　</tr>\n",
        "</table>\n",
        "\n",
        "初始化的程式碼如下："
      ],
      "metadata": {
        "id": "kMcVsWiM1sMZ"
      }
    },
    {
      "cell_type": "code",
      "source": [
        "data=[\n",
        "    [1,180,70,0.5],\n",
        "    [2,165,60,0.4],\n",
        "    [3,175,90,1.0],\n",
        "    [4,181,85,0.9]\n",
        "]"
      ],
      "metadata": {
        "id": "GbwPGGQu1p7K"
      },
      "execution_count": null,
      "outputs": []
    },
    {
      "cell_type": "code",
      "source": [
        "data"
      ],
      "metadata": {
        "colab": {
          "base_uri": "https://localhost:8080/"
        },
        "id": "116WXDaf0944",
        "outputId": "a1b5996d-5393-487f-a29c-a1ac1d1e9e0f"
      },
      "execution_count": null,
      "outputs": [
        {
          "output_type": "execute_result",
          "data": {
            "text/plain": [
              "[[1, 180, 70, 0.5], [2, 165, 60, 0.4], [3, 175, 90, 1.0], [4, 181, 85, 0.9]]"
            ]
          },
          "metadata": {},
          "execution_count": 2
        }
      ]
    },
    {
      "cell_type": "code",
      "source": [
        "data[0][1] #取得1號的身高"
      ],
      "metadata": {
        "colab": {
          "base_uri": "https://localhost:8080/"
        },
        "id": "wGqSdPW60-_A",
        "outputId": "53a78bda-dd9e-46f1-9902-c7d04332bb82"
      },
      "execution_count": null,
      "outputs": [
        {
          "output_type": "execute_result",
          "data": {
            "text/plain": [
              "180"
            ]
          },
          "metadata": {},
          "execution_count": 3
        }
      ]
    },
    {
      "cell_type": "code",
      "source": [
        "data[3][3] #取得4號的視力"
      ],
      "metadata": {
        "colab": {
          "base_uri": "https://localhost:8080/"
        },
        "id": "Jh9DyF1I1AEx",
        "outputId": "ca6d6d75-79bf-4b26-d333-aaafa2207b1d"
      },
      "execution_count": null,
      "outputs": [
        {
          "output_type": "execute_result",
          "data": {
            "text/plain": [
              "0.9"
            ]
          },
          "metadata": {},
          "execution_count": 4
        }
      ]
    },
    {
      "cell_type": "markdown",
      "source": [
        "索引值是先橫列(row)再直欄(column)，所以索引值的的示意圖如下：\n",
        "<table width=\"300\" border=\"1\">\n",
        "　<tr>\n",
        "     <td></td>\n",
        "     <td>直欄0</td>\n",
        "     <td>直欄1</td>\n",
        "     <td>直欄2</td>\n",
        "     <td>直欄3</td>\n",
        "　</tr>\n",
        "  <tr>\n",
        "     <td>橫列0</td>\n",
        "     <td>[0][0]</td>\n",
        "     <td>[0][1]</td>\n",
        "     <td>[0][2]</td>\n",
        "     <td>[0][3]</td>\n",
        "　</tr>\n",
        "   　<tr>\n",
        "     <td>橫列1</td>\n",
        "     <td>[1][0]</td>\n",
        "     <td>[1][1]</td>\n",
        "     <td>[1][2]</td>\n",
        "     <td>[1][3]</td>\n",
        "　</tr>\n",
        "  <tr>\n",
        "     <td>橫列2</td>\n",
        "     <td>[2][0]</td>\n",
        "     <td>[2][1]</td>\n",
        "     <td>[2][2]</td>\n",
        "     <td>[2][3]</td>\n",
        "　</tr>\n",
        "  <tr>\n",
        "     <td>橫列3</td>\n",
        "     <td>[3][0]</td>\n",
        "     <td>[3][1]</td>\n",
        "     <td>[3][2]</td>\n",
        "     <td>[3][3]</td>\n",
        "　</tr>\n",
        "</table>\n",
        "\n",
        "二維陣列的走訪方式：\n",
        "通常是利用兩層for迴圈走訪，外層迴圈控制列row索引，內層迴圈控制欄column索引，舉例如下："
      ],
      "metadata": {
        "id": "HglFsDyu1F4T"
      }
    },
    {
      "cell_type": "code",
      "source": [
        "for i in range(len(data)):\n",
        "    for j in range(len(data[0])):\n",
        "        print(data[i][j])"
      ],
      "metadata": {
        "colab": {
          "base_uri": "https://localhost:8080/"
        },
        "id": "UxPXP2O31BRI",
        "outputId": "d50d3e45-9d85-4241-cd8f-d1e651edbec6"
      },
      "execution_count": null,
      "outputs": [
        {
          "output_type": "stream",
          "name": "stdout",
          "text": [
            "1\n",
            "180\n",
            "70\n",
            "0.5\n",
            "2\n",
            "165\n",
            "60\n",
            "0.4\n",
            "3\n",
            "175\n",
            "90\n",
            "1.0\n",
            "4\n",
            "181\n",
            "85\n",
            "0.9\n"
          ]
        }
      ]
    },
    {
      "cell_type": "markdown",
      "source": [
        "## 5.二維陣列的初始化"
      ],
      "metadata": {
        "id": "IoAz9FJJ1LDK"
      }
    },
    {
      "cell_type": "code",
      "source": [
        "#以4列*5欄的二維陣列而言，初始化為0\n",
        "array2d=[[0 for i in range(5)] for i in range(4)]"
      ],
      "metadata": {
        "id": "uWaljEov1DyY"
      },
      "execution_count": null,
      "outputs": []
    },
    {
      "cell_type": "code",
      "source": [
        "array2d"
      ],
      "metadata": {
        "colab": {
          "base_uri": "https://localhost:8080/"
        },
        "id": "-bYbKjNJ1Qfu",
        "outputId": "6bf49384-de06-41ef-8d55-325f19743127"
      },
      "execution_count": null,
      "outputs": [
        {
          "output_type": "execute_result",
          "data": {
            "text/plain": [
              "[[0, 0, 0, 0, 0], [0, 0, 0, 0, 0], [0, 0, 0, 0, 0], [0, 0, 0, 0, 0]]"
            ]
          },
          "metadata": {},
          "execution_count": 8
        }
      ]
    }
  ]
}