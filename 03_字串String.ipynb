{
  "nbformat": 4,
  "nbformat_minor": 0,
  "metadata": {
    "colab": {
      "name": "03_字串String.ipynb",
      "provenance": [],
      "toc_visible": true,
      "authorship_tag": "ABX9TyNRmqOIPQWvkBGMZEaR7HWe",
      "include_colab_link": true
    },
    "kernelspec": {
      "name": "python3",
      "display_name": "Python 3"
    },
    "language_info": {
      "name": "python"
    }
  },
  "cells": [
    {
      "cell_type": "markdown",
      "metadata": {
        "id": "view-in-github",
        "colab_type": "text"
      },
      "source": [
        "<a href=\"https://colab.research.google.com/github/weilipan/Python_Basic_Lesson/blob/main/03_%E5%AD%97%E4%B8%B2String.ipynb\" target=\"_parent\"><img src=\"https://colab.research.google.com/assets/colab-badge.svg\" alt=\"Open In Colab\"/></a>"
      ]
    },
    {
      "cell_type": "markdown",
      "source": [
        "# 1.Strings字串基本說明\n",
        "## 字串常用在python語言中紀錄文字資訊之用。事實上字串是個有序字元列，例如python知道字串“hello\"中的每個字元都有其固定的位置和排序，所以可以透過索引的方式將特定的字元取出來。\n",
        "### 本單元我們將學到以下幾個主題:\n",
        "1. 創建字串。\n",
        "2. 列印字串。\n",
        "3. 字串的索引和片段取出\n",
        "4. 字串的特性。\n",
        "5. 字串的方法。\n",
        "6. 列印時的格式。"
      ],
      "metadata": {
        "id": "Lrkf4uK4uJfP"
      }
    },
    {
      "cell_type": "markdown",
      "source": [
        "> ## 1.1建立字串\n",
        "建立字串可以使用單引號、雙引號或三引號. 舉例而言:"
      ],
      "metadata": {
        "id": "5LuStdYPvDIh"
      }
    },
    {
      "cell_type": "code",
      "source": [
        "# 單一字串\n",
        "'hello'"
      ],
      "metadata": {
        "colab": {
          "base_uri": "https://localhost:8080/",
          "height": 35
        },
        "id": "aOn-W-OcuY90",
        "outputId": "83073428-72e5-40bc-9b50-e5f114aedcf5"
      },
      "execution_count": null,
      "outputs": [
        {
          "output_type": "execute_result",
          "data": {
            "text/plain": [
              "'hello'"
            ],
            "application/vnd.google.colaboratory.intrinsic+json": {
              "type": "string"
            }
          },
          "metadata": {},
          "execution_count": 1
        }
      ]
    },
    {
      "cell_type": "code",
      "source": [
        "# 片語\n",
        "'This is also a string'"
      ],
      "metadata": {
        "colab": {
          "base_uri": "https://localhost:8080/",
          "height": 35
        },
        "id": "k4A4M-FzvFfU",
        "outputId": "86d55388-3010-4075-b2ea-23e93e3c6529"
      },
      "execution_count": null,
      "outputs": [
        {
          "output_type": "execute_result",
          "data": {
            "text/plain": [
              "'This is also a string'"
            ],
            "application/vnd.google.colaboratory.intrinsic+json": {
              "type": "string"
            }
          },
          "metadata": {},
          "execution_count": 2
        }
      ]
    },
    {
      "cell_type": "code",
      "source": [
        "# 也可以使用雙引號\n",
        "\"String built with double quotes\""
      ],
      "metadata": {
        "colab": {
          "base_uri": "https://localhost:8080/",
          "height": 35
        },
        "id": "eSQ8ZSabvG3M",
        "outputId": "20bb3032-f391-4208-bc3c-50640702deae"
      },
      "execution_count": null,
      "outputs": [
        {
          "output_type": "execute_result",
          "data": {
            "text/plain": [
              "'String built with double quotes'"
            ],
            "application/vnd.google.colaboratory.intrinsic+json": {
              "type": "string"
            }
          },
          "metadata": {},
          "execution_count": 3
        }
      ]
    },
    {
      "cell_type": "code",
      "source": [
        "# 請注意單雙引號的使用\n",
        "' I'm using single quotes, but this will create an error'"
      ],
      "metadata": {
        "colab": {
          "base_uri": "https://localhost:8080/",
          "height": 133
        },
        "id": "Lj93amcUvIMi",
        "outputId": "2bd0571b-8abd-4bbb-d639-217cec6a19c5"
      },
      "execution_count": null,
      "outputs": [
        {
          "output_type": "error",
          "ename": "SyntaxError",
          "evalue": "ignored",
          "traceback": [
            "\u001b[0;36m  File \u001b[0;32m\"<ipython-input-4-77fd9c7654f7>\"\u001b[0;36m, line \u001b[0;32m2\u001b[0m\n\u001b[0;31m    ' I'm using single quotes, but this will create an error'\u001b[0m\n\u001b[0m        ^\u001b[0m\n\u001b[0;31mSyntaxError\u001b[0m\u001b[0;31m:\u001b[0m invalid syntax\n"
          ]
        }
      ]
    },
    {
      "cell_type": "markdown",
      "source": [
        "想想看上面的錯誤是怎麼產生的？"
      ],
      "metadata": {
        "id": "SPn5_KVOvL0x"
      }
    },
    {
      "cell_type": "code",
      "source": [
        "\"Now I'm ready to use the single quotes inside a string!\""
      ],
      "metadata": {
        "colab": {
          "base_uri": "https://localhost:8080/",
          "height": 35
        },
        "id": "HZVFD2L4vJdU",
        "outputId": "d2c0f8b3-3e8a-43b5-ef61-f1cc42979797"
      },
      "execution_count": null,
      "outputs": [
        {
          "output_type": "execute_result",
          "data": {
            "text/plain": [
              "\"Now I'm ready to use the single quotes inside a string!\""
            ],
            "application/vnd.google.colaboratory.intrinsic+json": {
              "type": "string"
            }
          },
          "metadata": {},
          "execution_count": 5
        }
      ]
    },
    {
      "cell_type": "code",
      "source": [
        "'''\n",
        "The coronavirus pandemic shows no signs of slowing in the US and Europe,\n",
        "which are reporting exponential increases in the number of new cases daily.\n",
        "Meanwhile in Asia, a spike in Japan is causing concern as other parts of the region stabilize.\n",
        "'''"
      ],
      "metadata": {
        "colab": {
          "base_uri": "https://localhost:8080/",
          "height": 52
        },
        "id": "hP2rpF8JvN5L",
        "outputId": "c8d27562-7ac8-4004-cc86-253e7b41eaff"
      },
      "execution_count": null,
      "outputs": [
        {
          "output_type": "execute_result",
          "data": {
            "text/plain": [
              "'\\nThe coronavirus pandemic shows no signs of slowing in the US and Europe,\\nwhich are reporting exponential increases in the number of new cases daily.\\nMeanwhile in Asia, a spike in Japan is causing concern as other parts of the region stabilize.\\n'"
            ],
            "application/vnd.google.colaboratory.intrinsic+json": {
              "type": "string"
            }
          },
          "metadata": {},
          "execution_count": 6
        }
      ]
    },
    {
      "cell_type": "markdown",
      "source": [
        "使用'''進行長字串的宣告時，系統會自動將字串中的換行符號以**'\\n'**來取代，所以在字串中看見**'\\n'**出現，代表這時候要換行。"
      ],
      "metadata": {
        "id": "bd-cnvo6vPwk"
      }
    },
    {
      "cell_type": "markdown",
      "source": [
        "> ## 1.2列印字串\n",
        "使用Jupyter notebook,只要執行列中只有一個字串時，它會自動印出來，以利我們觀察之用。但正確的方法還是用print()比較適合。"
      ],
      "metadata": {
        "id": "OKQt_GUtvrfZ"
      }
    },
    {
      "cell_type": "code",
      "source": [
        "# 單純宣告一個字串\n",
        "'Hello World'"
      ],
      "metadata": {
        "colab": {
          "base_uri": "https://localhost:8080/",
          "height": 35
        },
        "id": "O24Y9MeNvPBr",
        "outputId": "e11aad10-36cb-4c1e-d287-3f62dabfefd0"
      },
      "execution_count": null,
      "outputs": [
        {
          "output_type": "execute_result",
          "data": {
            "text/plain": [
              "'Hello World'"
            ],
            "application/vnd.google.colaboratory.intrinsic+json": {
              "type": "string"
            }
          },
          "metadata": {},
          "execution_count": 7
        }
      ]
    },
    {
      "cell_type": "code",
      "source": [
        "# 受限於Jupyter notebook，這種情況下它只會印出最後那一行。\n",
        "'Hello World 1'\n",
        "'Hello World 2'"
      ],
      "metadata": {
        "colab": {
          "base_uri": "https://localhost:8080/",
          "height": 35
        },
        "id": "_I7xuk7Zv0Yb",
        "outputId": "6929e4db-0b7a-4525-9e60-48b4b37c1e42"
      },
      "execution_count": null,
      "outputs": [
        {
          "output_type": "execute_result",
          "data": {
            "text/plain": [
              "'Hello World 2'"
            ],
            "application/vnd.google.colaboratory.intrinsic+json": {
              "type": "string"
            }
          },
          "metadata": {},
          "execution_count": 8
        }
      ]
    },
    {
      "cell_type": "code",
      "source": [
        "# 請留意'\\n'是行的意思\n",
        "print('Hello World 1')\n",
        "print('Hello World 2')\n",
        "print('Use \\n to print a new line')\n",
        "print('\\n')\n",
        "print('See what I mean?')"
      ],
      "metadata": {
        "colab": {
          "base_uri": "https://localhost:8080/"
        },
        "id": "mMZmGoddv1mS",
        "outputId": "fd12d98a-04c9-4843-fecc-5fd733f7ab49"
      },
      "execution_count": null,
      "outputs": [
        {
          "output_type": "stream",
          "name": "stdout",
          "text": [
            "Hello World 1\n",
            "Hello World 2\n",
            "Use \n",
            " to print a new line\n",
            "\n",
            "\n",
            "See what I mean?\n"
          ]
        }
      ]
    },
    {
      "cell_type": "markdown",
      "source": [
        "# 2.字串長度及索引值操作"
      ],
      "metadata": {
        "id": "rTv866Nxv9AB"
      }
    },
    {
      "cell_type": "markdown",
      "source": [
        "> ## 2.1 字串長度\n",
        "使用len()方法來知道字串的長度。  \n",
        "len()會計算所有的字元，包含字元和空白和標點符號。"
      ],
      "metadata": {
        "id": "fmLf1CwwwDDQ"
      }
    },
    {
      "cell_type": "code",
      "source": [
        "len('Hello World')"
      ],
      "metadata": {
        "colab": {
          "base_uri": "https://localhost:8080/"
        },
        "id": "z7NPnCLdv27L",
        "outputId": "0a2a7558-24e8-4639-9b5f-69639703b895"
      },
      "execution_count": null,
      "outputs": [
        {
          "output_type": "execute_result",
          "data": {
            "text/plain": [
              "11"
            ]
          },
          "metadata": {},
          "execution_count": 10
        }
      ]
    },
    {
      "cell_type": "code",
      "source": [
        "len('''Two tycoons bankroll some of Texas' most far-right politicians''')"
      ],
      "metadata": {
        "colab": {
          "base_uri": "https://localhost:8080/"
        },
        "id": "l4wnQqdIwkED",
        "outputId": "aa3bc83a-3310-4d26-82d9-0924d005cee9"
      },
      "execution_count": null,
      "outputs": [
        {
          "output_type": "execute_result",
          "data": {
            "text/plain": [
              "62"
            ]
          },
          "metadata": {},
          "execution_count": 11
        }
      ]
    },
    {
      "cell_type": "markdown",
      "source": [
        "> ## 2.2字串索引\n",
        "1. 我們知道字串是有序串列，這也代表我們可以透過索引值來取得特定的部份。\n",
        "2. 在python中使用方括號[]來處理字串的索引值。請注意，索引值是由0開始。 下方將教你怎麼使用。"
      ],
      "metadata": {
        "id": "3fRUcpPmwzw-"
      }
    },
    {
      "cell_type": "code",
      "source": [
        "# 指定一個字串變數s\n",
        "s = 'Hello World'"
      ],
      "metadata": {
        "id": "m0EXjIFQwyTi"
      },
      "execution_count": null,
      "outputs": []
    },
    {
      "cell_type": "code",
      "source": [
        "#確認目前s為何\n",
        "s"
      ],
      "metadata": {
        "colab": {
          "base_uri": "https://localhost:8080/",
          "height": 35
        },
        "id": "Z6pFf50NxHMB",
        "outputId": "3ef77890-b929-49e4-f384-d3d0c6c96188"
      },
      "execution_count": null,
      "outputs": [
        {
          "output_type": "execute_result",
          "data": {
            "text/plain": [
              "'Hello World'"
            ],
            "application/vnd.google.colaboratory.intrinsic+json": {
              "type": "string"
            }
          },
          "metadata": {},
          "execution_count": 13
        }
      ]
    },
    {
      "cell_type": "code",
      "source": [
        "# 列印來看看\n",
        "print(s) "
      ],
      "metadata": {
        "colab": {
          "base_uri": "https://localhost:8080/"
        },
        "id": "tS9FrnBFxIMa",
        "outputId": "07f73fb2-4429-4acd-f916-9277fc43e1b4"
      },
      "execution_count": null,
      "outputs": [
        {
          "output_type": "stream",
          "name": "stdout",
          "text": [
            "Hello World\n"
          ]
        }
      ]
    },
    {
      "cell_type": "code",
      "source": [
        "# 開始使用索引印出第一個字元\n",
        "s[0]"
      ],
      "metadata": {
        "colab": {
          "base_uri": "https://localhost:8080/",
          "height": 35
        },
        "id": "fbkL6IuixJcp",
        "outputId": "e901b54f-dd0b-46e4-c3bd-9547b9c88dcf"
      },
      "execution_count": null,
      "outputs": [
        {
          "output_type": "execute_result",
          "data": {
            "text/plain": [
              "'H'"
            ],
            "application/vnd.google.colaboratory.intrinsic+json": {
              "type": "string"
            }
          },
          "metadata": {},
          "execution_count": 15
        }
      ]
    },
    {
      "cell_type": "code",
      "source": [
        "s[1]"
      ],
      "metadata": {
        "colab": {
          "base_uri": "https://localhost:8080/",
          "height": 35
        },
        "id": "Rw050moSxMwJ",
        "outputId": "ef0acf4b-5d4e-45a6-912c-3e5abaff6084"
      },
      "execution_count": null,
      "outputs": [
        {
          "output_type": "execute_result",
          "data": {
            "text/plain": [
              "'e'"
            ],
            "application/vnd.google.colaboratory.intrinsic+json": {
              "type": "string"
            }
          },
          "metadata": {},
          "execution_count": 16
        }
      ]
    },
    {
      "cell_type": "code",
      "source": [
        "s[2]"
      ],
      "metadata": {
        "colab": {
          "base_uri": "https://localhost:8080/",
          "height": 35
        },
        "id": "LMcZpS_bxN15",
        "outputId": "f4a91805-35f7-409a-c16c-d7f42588aff2"
      },
      "execution_count": null,
      "outputs": [
        {
          "output_type": "execute_result",
          "data": {
            "text/plain": [
              "'l'"
            ],
            "application/vnd.google.colaboratory.intrinsic+json": {
              "type": "string"
            }
          },
          "metadata": {},
          "execution_count": 17
        }
      ]
    },
    {
      "cell_type": "markdown",
      "source": [
        "> ## 2.3字串切片(slicing)\n",
        "使用 : 來擷取字串片段"
      ],
      "metadata": {
        "id": "6_4l_5g-xRKI"
      }
    },
    {
      "cell_type": "code",
      "source": [
        "# 取得索引值為1之後的所有片段\n",
        "s[1:]"
      ],
      "metadata": {
        "colab": {
          "base_uri": "https://localhost:8080/",
          "height": 35
        },
        "id": "MTs-PCCJxPYi",
        "outputId": "7eddf5e3-2917-4fa5-e92e-1892a3a8dd2d"
      },
      "execution_count": null,
      "outputs": [
        {
          "output_type": "execute_result",
          "data": {
            "text/plain": [
              "'ello World'"
            ],
            "application/vnd.google.colaboratory.intrinsic+json": {
              "type": "string"
            }
          },
          "metadata": {},
          "execution_count": 18
        }
      ]
    },
    {
      "cell_type": "code",
      "source": [
        "# 不會改變到原有的字串\n",
        "s"
      ],
      "metadata": {
        "colab": {
          "base_uri": "https://localhost:8080/",
          "height": 35
        },
        "id": "h2uKKWSDxcIj",
        "outputId": "d3265c45-a8ba-48fd-8134-bec00247085e"
      },
      "execution_count": null,
      "outputs": [
        {
          "output_type": "execute_result",
          "data": {
            "text/plain": [
              "'Hello World'"
            ],
            "application/vnd.google.colaboratory.intrinsic+json": {
              "type": "string"
            }
          },
          "metadata": {},
          "execution_count": 19
        }
      ]
    },
    {
      "cell_type": "code",
      "source": [
        "# 只取得索引值為3之前的片段（不包含3）\n",
        "s[:3]"
      ],
      "metadata": {
        "colab": {
          "base_uri": "https://localhost:8080/",
          "height": 35
        },
        "id": "UrhAYU9mxdOi",
        "outputId": "514d64f4-58c2-4050-f718-e69d77e17427"
      },
      "execution_count": null,
      "outputs": [
        {
          "output_type": "execute_result",
          "data": {
            "text/plain": [
              "'Hel'"
            ],
            "application/vnd.google.colaboratory.intrinsic+json": {
              "type": "string"
            }
          },
          "metadata": {},
          "execution_count": 20
        }
      ]
    },
    {
      "cell_type": "code",
      "source": [
        "#Everything\n",
        "s[:]"
      ],
      "metadata": {
        "colab": {
          "base_uri": "https://localhost:8080/",
          "height": 35
        },
        "id": "JUGdigulxew6",
        "outputId": "fabad5bb-b3f6-4fcd-81f0-4192cc96488a"
      },
      "execution_count": null,
      "outputs": [
        {
          "output_type": "execute_result",
          "data": {
            "text/plain": [
              "'Hello World'"
            ],
            "application/vnd.google.colaboratory.intrinsic+json": {
              "type": "string"
            }
          },
          "metadata": {},
          "execution_count": 21
        }
      ]
    },
    {
      "cell_type": "code",
      "source": [
        "# 我們也可以使用負數來取得字串聯片段\n",
        "# 取得最後一個字元\n",
        "s[-1]"
      ],
      "metadata": {
        "colab": {
          "base_uri": "https://localhost:8080/",
          "height": 35
        },
        "id": "212pNEp3xfyK",
        "outputId": "edfc9a8d-b9ec-4ee7-bc28-793588bedaed"
      },
      "execution_count": null,
      "outputs": [
        {
          "output_type": "execute_result",
          "data": {
            "text/plain": [
              "'d'"
            ],
            "application/vnd.google.colaboratory.intrinsic+json": {
              "type": "string"
            }
          },
          "metadata": {},
          "execution_count": 22
        }
      ]
    },
    {
      "cell_type": "code",
      "source": [
        "# 取得除了後一個字元以外的其他字串片段\n",
        "s[:-1]"
      ],
      "metadata": {
        "colab": {
          "base_uri": "https://localhost:8080/",
          "height": 35
        },
        "id": "T2-TvjnUxjVR",
        "outputId": "22098d13-3768-42c4-f0a8-2ade380f4502"
      },
      "execution_count": null,
      "outputs": [
        {
          "output_type": "execute_result",
          "data": {
            "text/plain": [
              "'Hello Worl'"
            ],
            "application/vnd.google.colaboratory.intrinsic+json": {
              "type": "string"
            }
          },
          "metadata": {},
          "execution_count": 23
        }
      ]
    },
    {
      "cell_type": "code",
      "source": [
        "# 我們也可以使用特定的方式來取得片段\n",
        "# 取得所有的字元，間隔為1\n",
        "s[::1]"
      ],
      "metadata": {
        "colab": {
          "base_uri": "https://localhost:8080/",
          "height": 35
        },
        "id": "61pXTgdyxkfS",
        "outputId": "54ec7c91-c2dc-40b1-ab73-2425337ea501"
      },
      "execution_count": null,
      "outputs": [
        {
          "output_type": "execute_result",
          "data": {
            "text/plain": [
              "'Hello World'"
            ],
            "application/vnd.google.colaboratory.intrinsic+json": {
              "type": "string"
            }
          },
          "metadata": {},
          "execution_count": 25
        }
      ]
    },
    {
      "cell_type": "code",
      "source": [
        "# 取得所有字元，間隔為2\n",
        "s[::2]"
      ],
      "metadata": {
        "colab": {
          "base_uri": "https://localhost:8080/",
          "height": 35
        },
        "id": "YvTqsnypxn9i",
        "outputId": "267fda8c-37b0-4aab-9b6f-770d39bd26af"
      },
      "execution_count": null,
      "outputs": [
        {
          "output_type": "execute_result",
          "data": {
            "text/plain": [
              "'HloWrd'"
            ],
            "application/vnd.google.colaboratory.intrinsic+json": {
              "type": "string"
            }
          },
          "metadata": {},
          "execution_count": 26
        }
      ]
    },
    {
      "cell_type": "code",
      "source": [
        "# 倒過來印\n",
        "s[::-1]"
      ],
      "metadata": {
        "colab": {
          "base_uri": "https://localhost:8080/",
          "height": 35
        },
        "id": "ea24CHERxrz5",
        "outputId": "0ad9cbab-f33e-4e07-a875-1704a632b7b7"
      },
      "execution_count": null,
      "outputs": [
        {
          "output_type": "execute_result",
          "data": {
            "text/plain": [
              "'dlroW olleH'"
            ],
            "application/vnd.google.colaboratory.intrinsic+json": {
              "type": "string"
            }
          },
          "metadata": {},
          "execution_count": 27
        }
      ]
    },
    {
      "cell_type": "markdown",
      "source": [
        "> ## 2.4字串特性\n",
        "字串一但建立之後，便不能變更。"
      ],
      "metadata": {
        "id": "7srnUghexwJl"
      }
    },
    {
      "cell_type": "code",
      "source": [
        "s"
      ],
      "metadata": {
        "colab": {
          "base_uri": "https://localhost:8080/",
          "height": 35
        },
        "id": "xEcig92JxtN5",
        "outputId": "e0892fc4-3fc2-41bc-bef3-61de5680d679"
      },
      "execution_count": null,
      "outputs": [
        {
          "output_type": "execute_result",
          "data": {
            "text/plain": [
              "'Hello World'"
            ],
            "application/vnd.google.colaboratory.intrinsic+json": {
              "type": "string"
            }
          },
          "metadata": {},
          "execution_count": 28
        }
      ]
    },
    {
      "cell_type": "code",
      "source": [
        "# 請注意若想要使用方括號及索引值來變更字串中的特定字元，會出現錯誤。\n",
        "s[0] = 'x'"
      ],
      "metadata": {
        "colab": {
          "base_uri": "https://localhost:8080/",
          "height": 185
        },
        "id": "buHWfUbQx4a5",
        "outputId": "17adde85-3977-48ca-e9c8-b0d6abc08e62"
      },
      "execution_count": null,
      "outputs": [
        {
          "output_type": "error",
          "ename": "TypeError",
          "evalue": "ignored",
          "traceback": [
            "\u001b[0;31m---------------------------------------------------------------------------\u001b[0m",
            "\u001b[0;31mTypeError\u001b[0m                                 Traceback (most recent call last)",
            "\u001b[0;32m<ipython-input-29-976942677f11>\u001b[0m in \u001b[0;36m<module>\u001b[0;34m()\u001b[0m\n\u001b[1;32m      1\u001b[0m \u001b[0;31m# Let's try to change the first letter to 'x'\u001b[0m\u001b[0;34m\u001b[0m\u001b[0;34m\u001b[0m\u001b[0;34m\u001b[0m\u001b[0m\n\u001b[0;32m----> 2\u001b[0;31m \u001b[0ms\u001b[0m\u001b[0;34m[\u001b[0m\u001b[0;36m0\u001b[0m\u001b[0;34m]\u001b[0m \u001b[0;34m=\u001b[0m \u001b[0;34m'x'\u001b[0m\u001b[0;34m\u001b[0m\u001b[0;34m\u001b[0m\u001b[0m\n\u001b[0m",
            "\u001b[0;31mTypeError\u001b[0m: 'str' object does not support item assignment"
          ]
        }
      ]
    },
    {
      "cell_type": "code",
      "source": [
        "s"
      ],
      "metadata": {
        "colab": {
          "base_uri": "https://localhost:8080/",
          "height": 35
        },
        "id": "76pKKlK0x5vJ",
        "outputId": "2e8f8abb-10f0-45fa-f959-f4499d2cecad"
      },
      "execution_count": null,
      "outputs": [
        {
          "output_type": "execute_result",
          "data": {
            "text/plain": [
              "'Hello World'"
            ],
            "application/vnd.google.colaboratory.intrinsic+json": {
              "type": "string"
            }
          },
          "metadata": {},
          "execution_count": 30
        }
      ]
    },
    {
      "cell_type": "code",
      "source": [
        "# 但字串可以組合\n",
        "s + ' concatenate me!'"
      ],
      "metadata": {
        "colab": {
          "base_uri": "https://localhost:8080/",
          "height": 35
        },
        "id": "E2PFR3inyAp5",
        "outputId": "085ffc89-012c-426b-b43e-327867191ccd"
      },
      "execution_count": null,
      "outputs": [
        {
          "output_type": "execute_result",
          "data": {
            "text/plain": [
              "'Hello World concatenate me!'"
            ],
            "application/vnd.google.colaboratory.intrinsic+json": {
              "type": "string"
            }
          },
          "metadata": {},
          "execution_count": 31
        }
      ]
    },
    {
      "cell_type": "code",
      "source": [
        "# 也可以重新指定!\n",
        "s = s + ' concatenate me!'"
      ],
      "metadata": {
        "id": "jksgq1SAyCDi"
      },
      "execution_count": null,
      "outputs": []
    },
    {
      "cell_type": "code",
      "source": [
        "print(s)"
      ],
      "metadata": {
        "colab": {
          "base_uri": "https://localhost:8080/"
        },
        "id": "YIlr6xx8yD3Q",
        "outputId": "7190ec39-4f01-45b7-f0f7-0d77823b45c3"
      },
      "execution_count": null,
      "outputs": [
        {
          "output_type": "stream",
          "name": "stdout",
          "text": [
            "Hello World concatenate me!\n"
          ]
        }
      ]
    },
    {
      "cell_type": "code",
      "source": [
        "s"
      ],
      "metadata": {
        "colab": {
          "base_uri": "https://localhost:8080/",
          "height": 35
        },
        "id": "U2dnMFxYyE0M",
        "outputId": "a808d978-f39d-4f3b-e60f-8e4bdf1ca860"
      },
      "execution_count": null,
      "outputs": [
        {
          "output_type": "execute_result",
          "data": {
            "text/plain": [
              "'Hello World concatenate me!'"
            ],
            "application/vnd.google.colaboratory.intrinsic+json": {
              "type": "string"
            }
          },
          "metadata": {},
          "execution_count": 34
        }
      ]
    },
    {
      "cell_type": "code",
      "source": [
        "# 我們可以使用*(乘號)來快速複製。\n",
        "letter = 'z'\n",
        "letter*10"
      ],
      "metadata": {
        "colab": {
          "base_uri": "https://localhost:8080/",
          "height": 35
        },
        "id": "tUC6DeVTyF2x",
        "outputId": "c573d1cb-7636-4fec-bf84-54a7bb7d2c10"
      },
      "execution_count": null,
      "outputs": [
        {
          "output_type": "execute_result",
          "data": {
            "text/plain": [
              "'zzzzzzzzzz'"
            ],
            "application/vnd.google.colaboratory.intrinsic+json": {
              "type": "string"
            }
          },
          "metadata": {},
          "execution_count": 36
        }
      ]
    },
    {
      "cell_type": "markdown",
      "source": [
        "# 3.字串基本方法"
      ],
      "metadata": {
        "id": "YQP-cQmKyT2V"
      }
    },
    {
      "cell_type": "markdown",
      "source": [
        "> ## 3.1字串內建方法範例\n",
        "python中的物件皆有其內建方法。  \n",
        "這些方法的使用方式如下：  \n",
        "<font color=red>**object.method(parameters)</font>**  \n",
        "以下是幾個字串內建方法的使用範例："
      ],
      "metadata": {
        "id": "BModLSyPzcM6"
      }
    },
    {
      "cell_type": "code",
      "source": [
        "s"
      ],
      "metadata": {
        "colab": {
          "base_uri": "https://localhost:8080/",
          "height": 35
        },
        "id": "1IKnI9BPyHSR",
        "outputId": "1d9aa1fd-be77-45fa-d137-61b7668a1035"
      },
      "execution_count": null,
      "outputs": [
        {
          "output_type": "execute_result",
          "data": {
            "text/plain": [
              "'Hello World concatenate me!'"
            ],
            "application/vnd.google.colaboratory.intrinsic+json": {
              "type": "string"
            }
          },
          "metadata": {},
          "execution_count": 37
        }
      ]
    },
    {
      "cell_type": "code",
      "source": [
        "# 將字串變成大寫後顯示\n",
        "s.upper()"
      ],
      "metadata": {
        "colab": {
          "base_uri": "https://localhost:8080/",
          "height": 35
        },
        "id": "zh9YY9xkyjlp",
        "outputId": "eefab949-e9b7-42a8-8805-b23cd4d61ac6"
      },
      "execution_count": null,
      "outputs": [
        {
          "output_type": "execute_result",
          "data": {
            "text/plain": [
              "'HELLO WORLD CONCATENATE ME!'"
            ],
            "application/vnd.google.colaboratory.intrinsic+json": {
              "type": "string"
            }
          },
          "metadata": {},
          "execution_count": 38
        }
      ]
    },
    {
      "cell_type": "code",
      "source": [
        "# 將字串變成小寫後顯示\n",
        "s.lower()"
      ],
      "metadata": {
        "id": "suNPSpgbylNp",
        "outputId": "b150253b-60f0-4bf3-94d5-95055dc9ca3c",
        "colab": {
          "base_uri": "https://localhost:8080/",
          "height": 35
        }
      },
      "execution_count": null,
      "outputs": [
        {
          "output_type": "execute_result",
          "data": {
            "text/plain": [
              "'hello world concatenate me!'"
            ],
            "application/vnd.google.colaboratory.intrinsic+json": {
              "type": "string"
            }
          },
          "metadata": {},
          "execution_count": 39
        }
      ]
    },
    {
      "cell_type": "code",
      "source": [
        "# 將字串以字串中空白隔開(預設也是用空白隔開)\n",
        "s.split()"
      ],
      "metadata": {
        "id": "6WSfYWfrymXh",
        "outputId": "9c294c0d-cbf4-4857-e145-715e7ba4cfa5",
        "colab": {
          "base_uri": "https://localhost:8080/"
        }
      },
      "execution_count": null,
      "outputs": [
        {
          "output_type": "execute_result",
          "data": {
            "text/plain": [
              "['Hello', 'World', 'concatenate', 'me!']"
            ]
          },
          "metadata": {},
          "execution_count": 40
        }
      ]
    },
    {
      "cell_type": "code",
      "source": [
        "# 以特殊的字元隔開\n",
        "s.split('W')"
      ],
      "metadata": {
        "id": "nFb8_48mynhJ",
        "outputId": "61b7eda0-6ab1-4282-9036-e2a841a06a18",
        "colab": {
          "base_uri": "https://localhost:8080/"
        }
      },
      "execution_count": null,
      "outputs": [
        {
          "output_type": "execute_result",
          "data": {
            "text/plain": [
              "['Hello ', 'orld concatenate me!']"
            ]
          },
          "metadata": {},
          "execution_count": 41
        }
      ]
    },
    {
      "cell_type": "markdown",
      "source": [
        "> ## 3.2 str.split()的使用\n",
        "[官網線上文件說明](https://docs.python.org/3/library/stdtypes.html?highlight=split#str.split)  \n",
        "將字串以特殊字元符號隔開，不加參數預設就是以空白隔開。  \n",
        "舉例如下"
      ],
      "metadata": {
        "id": "71r0NmCj0HWj"
      }
    },
    {
      "cell_type": "code",
      "source": [
        "text='Earlier, Foreign Secretary Dominic Raab said he was \"confident\" the PM would recover from this illness, describing him as a \"fighter\".'"
      ],
      "metadata": {
        "id": "70CH8quP0TFC"
      },
      "execution_count": 44,
      "outputs": []
    },
    {
      "cell_type": "code",
      "source": [
        "print(text.split()) #用空白隔開"
      ],
      "metadata": {
        "colab": {
          "base_uri": "https://localhost:8080/"
        },
        "id": "u5Pd6H_k0XfU",
        "outputId": "ec25d484-b122-4a2c-8a90-d80e4592f836"
      },
      "execution_count": 46,
      "outputs": [
        {
          "output_type": "stream",
          "name": "stdout",
          "text": [
            "['Earlier,', 'Foreign', 'Secretary', 'Dominic', 'Raab', 'said', 'he', 'was', '\"confident\"', 'the', 'PM', 'would', 'recover', 'from', 'this', 'illness,', 'describing', 'him', 'as', 'a', '\"fighter\".']\n"
          ]
        }
      ]
    },
    {
      "cell_type": "code",
      "source": [
        "print(text.split('.')) #用‘.’隔開"
      ],
      "metadata": {
        "colab": {
          "base_uri": "https://localhost:8080/"
        },
        "id": "BJJCrx320ZN8",
        "outputId": "841af3ac-144d-4ac6-f3cd-0d24eb170f9a"
      },
      "execution_count": 47,
      "outputs": [
        {
          "output_type": "stream",
          "name": "stdout",
          "text": [
            "['Earlier, Foreign Secretary Dominic Raab said he was \"confident\" the PM would recover from this illness, describing him as a \"fighter\"', '']\n"
          ]
        }
      ]
    },
    {
      "cell_type": "markdown",
      "source": [
        "> ## 3.3 str.find()使用方法\n",
        "1. [str.find使用方法](https://docs.python.org/3/library/stdtypes.html#str.find)\n",
        "2. [str.rfind使用方法](https://docs.python.org/3/library/stdtypes.html#str.rfind)"
      ],
      "metadata": {
        "id": "vJ0td-er2p8V"
      }
    },
    {
      "cell_type": "markdown",
      "source": [
        "> ## 3.4 其他字串內建方法\n",
        "[python官網線上說明文件](https://docs.python.org/3/library/stdtypes.html#string-methods)"
      ],
      "metadata": {
        "id": "FM3Nn2gs0BMG"
      }
    }
  ]
}