{
  "nbformat": 4,
  "nbformat_minor": 0,
  "metadata": {
    "colab": {
      "name": "11_4 args and kwargs.ipynb",
      "provenance": [],
      "authorship_tag": "ABX9TyMZPgchE83xXHSydi0RD5qd",
      "include_colab_link": true
    },
    "kernelspec": {
      "name": "python3",
      "display_name": "Python 3"
    },
    "language_info": {
      "name": "python"
    }
  },
  "cells": [
    {
      "cell_type": "markdown",
      "metadata": {
        "id": "view-in-github",
        "colab_type": "text"
      },
      "source": [
        "<a href=\"https://colab.research.google.com/github/weilipan/Python_Basic_Lesson/blob/main/11_4_args_and_kwargs.ipynb\" target=\"_parent\"><img src=\"https://colab.research.google.com/assets/colab-badge.svg\" alt=\"Open In Colab\"/></a>"
      ]
    },
    {
      "cell_type": "markdown",
      "source": [
        "# `*args` and `**kwargs`\n",
        "\n",
        "常常在說明文件中看到 `*args` and `**kwargs`. 這是拿來幹嘛，我們來研究一下:"
      ],
      "metadata": {
        "id": "akwoaF44qjX0"
      }
    },
    {
      "cell_type": "code",
      "source": [
        "def myfunc(a,b):\n",
        "    return sum((a,b))*.05\n",
        "\n",
        "myfunc(40,60)"
      ],
      "metadata": {
        "colab": {
          "base_uri": "https://localhost:8080/"
        },
        "id": "YOnWyQv5qoPD",
        "outputId": "0c826f4b-4f0e-48f2-cd84-b36f609d2298"
      },
      "execution_count": 1,
      "outputs": [
        {
          "output_type": "execute_result",
          "data": {
            "text/plain": [
              "5.0"
            ]
          },
          "metadata": {},
          "execution_count": 1
        }
      ]
    },
    {
      "cell_type": "markdown",
      "source": [
        "這個函式可以回傳 a and b 總和 5%.  \n",
        "這個例子中，第一個參數會對應到 a ，第二個參數會對應到 b 。  \n",
        "那如果我們想要對應到更多參數的話該怎麼辦？"
      ],
      "metadata": {
        "id": "UnRRc1dsqrbw"
      }
    },
    {
      "cell_type": "code",
      "source": [
        "def myfunc(a=0,b=0,c=0,d=0,e=0):\n",
        "    return sum((a,b,c,d,e))*.05\n",
        "\n",
        "myfunc(40,60,20)"
      ],
      "metadata": {
        "colab": {
          "base_uri": "https://localhost:8080/"
        },
        "id": "L5Kcdvuaqp1O",
        "outputId": "fe9cd429-dc57-40db-e2f3-10b7cf3afecf"
      },
      "execution_count": 2,
      "outputs": [
        {
          "output_type": "execute_result",
          "data": {
            "text/plain": [
              "6.0"
            ]
          },
          "metadata": {},
          "execution_count": 2
        }
      ]
    },
    {
      "cell_type": "markdown",
      "source": [
        "上面這樣寫的話，非常沒有效率(如更多變數要進來怎麼辦)，這時候 `*args` 就派上用場了。"
      ],
      "metadata": {
        "id": "uWgNeQk7qyU-"
      }
    },
    {
      "cell_type": "markdown",
      "source": [
        "# `*args`\n",
        "\n",
        "參數名稱以一個星號開頭，代表這個函式允許可以傳入任意數量的參數，而該函式會將所有傳入的參數當做是tuple來處理。於是函式可以重寫如示"
      ],
      "metadata": {
        "id": "UdlKiquwq2cu"
      }
    },
    {
      "cell_type": "code",
      "source": [
        "def myfunc(*args):\n",
        "    return sum(args)*.05\n",
        "\n",
        "myfunc(40,60,20)"
      ],
      "metadata": {
        "colab": {
          "base_uri": "https://localhost:8080/"
        },
        "id": "hLM9EedXqwBl",
        "outputId": "d9625d94-874d-4065-9492-f0f436714667"
      },
      "execution_count": 3,
      "outputs": [
        {
          "output_type": "execute_result",
          "data": {
            "text/plain": [
              "6.0"
            ]
          },
          "metadata": {},
          "execution_count": 3
        }
      ]
    },
    {
      "cell_type": "code",
      "source": [
        "myfunc(40,60,20,50,90,100)"
      ],
      "metadata": {
        "colab": {
          "base_uri": "https://localhost:8080/"
        },
        "id": "fQq22W2Xq6bl",
        "outputId": "b97e11e7-951f-46b5-e9f5-7c64adb4701c"
      },
      "execution_count": 4,
      "outputs": [
        {
          "output_type": "execute_result",
          "data": {
            "text/plain": [
              "18.0"
            ]
          },
          "metadata": {},
          "execution_count": 4
        }
      ]
    },
    {
      "cell_type": "markdown",
      "source": [
        " \"args\" 也可以改成你想要的變數名稱，如下例："
      ],
      "metadata": {
        "id": "cCehQZO1q9p1"
      }
    },
    {
      "cell_type": "code",
      "source": [
        "def myfunc(*spam):\n",
        "    return sum(spam)*.05\n",
        "\n",
        "myfunc(40,60,20)"
      ],
      "metadata": {
        "colab": {
          "base_uri": "https://localhost:8080/"
        },
        "id": "itF9Kx-hq7p1",
        "outputId": "642a965c-a2fe-456b-8eb1-a7cc8f7cd384"
      },
      "execution_count": 5,
      "outputs": [
        {
          "output_type": "execute_result",
          "data": {
            "text/plain": [
              "6.0"
            ]
          },
          "metadata": {},
          "execution_count": 5
        }
      ]
    },
    {
      "cell_type": "markdown",
      "source": [
        "# `**kwargs`\n",
        "\n",
        "同樣的，python也允許利用 `**kwargs` 傳入任意數量的變數名稱與內容，函式會將整筆資料以字典鍵值的方式讀入後處理:"
      ],
      "metadata": {
        "id": "HFhqKbZXrC3i"
      }
    },
    {
      "cell_type": "code",
      "source": [
        "def myfunc(**kwargs):\n",
        "    if 'fruit' in kwargs:\n",
        "        print(f\"My favorite fruit is {kwargs['fruit']}\")  # review String Formatting and f-strings if this syntax is unfamiliar\n",
        "    else:\n",
        "        print(\"I don't like fruit\")\n",
        "        \n",
        "myfunc(fruit='pineapple')"
      ],
      "metadata": {
        "colab": {
          "base_uri": "https://localhost:8080/"
        },
        "id": "qPW0W0gxrA8d",
        "outputId": "d4e17c7c-b10d-4ab6-c578-d4dad26ba929"
      },
      "execution_count": 8,
      "outputs": [
        {
          "output_type": "stream",
          "name": "stdout",
          "text": [
            "My favorite fruit is pineapple\n"
          ]
        }
      ]
    },
    {
      "cell_type": "code",
      "source": [
        "myfunc()"
      ],
      "metadata": {
        "colab": {
          "base_uri": "https://localhost:8080/"
        },
        "id": "iHnOUU8grEz9",
        "outputId": "ff5be1d9-c706-41a7-9019-4ba9bbcbfd9d"
      },
      "execution_count": 7,
      "outputs": [
        {
          "output_type": "stream",
          "name": "stdout",
          "text": [
            "I don't like fruit\n"
          ]
        }
      ]
    },
    {
      "cell_type": "code",
      "source": [
        "myfunc(fruit='pineapple',vegetables='cabbage')"
      ],
      "metadata": {
        "colab": {
          "base_uri": "https://localhost:8080/"
        },
        "id": "k_x-E_PJrG5l",
        "outputId": "27144069-ad08-4e53-9cb1-34875cb4c3bf"
      },
      "execution_count": 9,
      "outputs": [
        {
          "output_type": "stream",
          "name": "stdout",
          "text": [
            "My favorite fruit is pineapple\n"
          ]
        }
      ]
    },
    {
      "cell_type": "markdown",
      "source": [
        "# `*args` and `**kwargs` combined\n",
        "\n",
        "可以將 `*args` 和 `**kwargs` 一起使用, 但請注意 `*args` 必須在 `**kwargs` 之前。"
      ],
      "metadata": {
        "id": "bAhu3SBYrLY1"
      }
    },
    {
      "cell_type": "code",
      "source": [
        "def myfunc(*args, **kwargs):\n",
        "    if 'fruit' and 'juice' in kwargs:\n",
        "        print(f\"I like {' and '.join(args)} and my favorite fruit is {kwargs['fruit']}\")\n",
        "        print(f\"May I have some {kwargs['juice']} juice?\")\n",
        "    else:\n",
        "        pass\n",
        "        \n",
        "myfunc('eggs','spam',fruit='cherries',juice='orange')"
      ],
      "metadata": {
        "colab": {
          "base_uri": "https://localhost:8080/"
        },
        "id": "6fO_l3o-rIql",
        "outputId": "af51f0a9-8aea-4cd6-f35c-0084c856c4e0"
      },
      "execution_count": 14,
      "outputs": [
        {
          "output_type": "stream",
          "name": "stdout",
          "text": [
            "I like eggs and spam and my favorite fruit is cherries\n",
            "May I have some orange juice?\n"
          ]
        }
      ]
    },
    {
      "cell_type": "markdown",
      "source": [
        "反過來放會出現錯誤"
      ],
      "metadata": {
        "id": "mjV7TsuTrQcp"
      }
    },
    {
      "cell_type": "code",
      "source": [
        "myfunc(fruit='cherries',juice='orange','eggs','spam')"
      ],
      "metadata": {
        "colab": {
          "base_uri": "https://localhost:8080/",
          "height": 133
        },
        "id": "lYh0cvQtrOSO",
        "outputId": "45927117-9ff2-4dcd-b8ba-8e35d203bb94"
      },
      "execution_count": 13,
      "outputs": [
        {
          "output_type": "error",
          "ename": "SyntaxError",
          "evalue": "ignored",
          "traceback": [
            "\u001b[0;36m  File \u001b[0;32m\"<ipython-input-13-fc6ff65addcc>\"\u001b[0;36m, line \u001b[0;32m1\u001b[0m\n\u001b[0;31m    myfunc(fruit='cherries',juice='orange','eggs','spam')\u001b[0m\n\u001b[0m                                          ^\u001b[0m\n\u001b[0;31mSyntaxError\u001b[0m\u001b[0;31m:\u001b[0m positional argument follows keyword argument\n"
          ]
        }
      ]
    },
    {
      "cell_type": "markdown",
      "source": [
        "學會如何使用 `*args` and `**kwargs` 將能提供程式設計中許多彈性!"
      ],
      "metadata": {
        "id": "tl2MoVfWrg2W"
      }
    }
  ]
}