{
  "nbformat": 4,
  "nbformat_minor": 0,
  "metadata": {
    "colab": {
      "name": "09_字典(dict).ipynb",
      "provenance": [],
      "toc_visible": true,
      "authorship_tag": "ABX9TyPjeyPfM3kg2Nwg7MKfZHwj",
      "include_colab_link": true
    },
    "kernelspec": {
      "name": "python3",
      "display_name": "Python 3"
    },
    "language_info": {
      "name": "python"
    }
  },
  "cells": [
    {
      "cell_type": "markdown",
      "metadata": {
        "id": "view-in-github",
        "colab_type": "text"
      },
      "source": [
        "<a href=\"https://colab.research.google.com/github/weilipan/Python_Basic_Lesson/blob/main/09_%E5%AD%97%E5%85%B8(dict).ipynb\" target=\"_parent\"><img src=\"https://colab.research.google.com/assets/colab-badge.svg\" alt=\"Open In Colab\"/></a>"
      ]
    },
    {
      "cell_type": "markdown",
      "source": [
        "# 字典Dictionaries\n",
        "\n",
        "串列中我們學到了python的序列 *sequences* 概念，在字典dict中我們要學的是對映 *mappings* 的概念。  \n",
        "延伸閱讀：[hash tables](http://alrightchiu.github.io/SecondRound/hash-tableintrojian-jie.html)  \n",
        "本單元可以學到:\n",
        "1. 如何建構字典資料型態 Constructing a Dictionary\n",
        "2. 由字典中存取物件 Accessing objects from a dictionary\n",
        "3. 巢狀字典 Nesting Dictionaries\n",
        "4. 字典的基本方法 Basic Dictionary Methods\n",
        "\n",
        "對映 mappings 就是以「鍵值-資料對」(Key-Value pair)來描述資料的抽象資料形態(Abstract Data Type)。  \n",
        "它不像串列有順序性，因為是透過鍵key來去找到值value。  \n",
        "當然預設是無法排序的，除非另外處理。  \n",
        "值value可以使用幾乎所有python內建的資料型態。  \n",
        "[線上說明文件連結](https://docs.python.org/zh-tw/3/tutorial/datastructures.html#dictionaries)"
      ],
      "metadata": {
        "id": "7yQxhwMpmbUW"
      }
    },
    {
      "cell_type": "markdown",
      "source": [
        "## 1.字典的建構 Constructing a Dictionary"
      ],
      "metadata": {
        "id": "_ByAZa20m2oB"
      }
    },
    {
      "cell_type": "code",
      "source": [
        "# 每個鍵對應到自己的值，每對鍵值以 , 隔開，最外層以 {} 包覆。\n",
        "my_dict = {'key1':'value1','key2':'value2'}"
      ],
      "metadata": {
        "id": "mJMtfXOsmy-4"
      },
      "execution_count": 1,
      "outputs": []
    },
    {
      "cell_type": "code",
      "source": [
        "# 利用key取得value\n",
        "my_dict['key2']"
      ],
      "metadata": {
        "colab": {
          "base_uri": "https://localhost:8080/",
          "height": 35
        },
        "id": "T4Ya3PsXm-wb",
        "outputId": "2e77c009-9043-4a72-a431-68c8b751aa1b"
      },
      "execution_count": 2,
      "outputs": [
        {
          "output_type": "execute_result",
          "data": {
            "text/plain": [
              "'value2'"
            ],
            "application/vnd.google.colaboratory.intrinsic+json": {
              "type": "string"
            }
          },
          "metadata": {},
          "execution_count": 2
        }
      ]
    },
    {
      "cell_type": "code",
      "source": [
        "# 字典對於儲存的內容非常有彈性，如下所示:\n",
        "my_dict = {'key1':123,'key2':[12,23,33],'key3':['item0','item1','item2']}"
      ],
      "metadata": {
        "id": "0327_Fkfm__R"
      },
      "execution_count": 3,
      "outputs": []
    },
    {
      "cell_type": "code",
      "source": [
        "my_dict['key3']"
      ],
      "metadata": {
        "colab": {
          "base_uri": "https://localhost:8080/"
        },
        "id": "LG23YgAAnDhx",
        "outputId": "2e8130e5-c460-4b47-fd9a-5b1033600c21"
      },
      "execution_count": 4,
      "outputs": [
        {
          "output_type": "execute_result",
          "data": {
            "text/plain": [
              "['item0', 'item1', 'item2']"
            ]
          },
          "metadata": {},
          "execution_count": 4
        }
      ]
    },
    {
      "cell_type": "code",
      "source": [
        "# Can call an index on that value\n",
        "my_dict['key3'][0]"
      ],
      "metadata": {
        "colab": {
          "base_uri": "https://localhost:8080/",
          "height": 35
        },
        "id": "K203igq-nEsa",
        "outputId": "41debe12-a772-455c-a0da-f350fa2fc236"
      },
      "execution_count": 5,
      "outputs": [
        {
          "output_type": "execute_result",
          "data": {
            "text/plain": [
              "'item0'"
            ],
            "application/vnd.google.colaboratory.intrinsic+json": {
              "type": "string"
            }
          },
          "metadata": {},
          "execution_count": 5
        }
      ]
    },
    {
      "cell_type": "code",
      "source": [
        "# 也可以直接使用對應的內建方法，以本例而言，my_dict['key3'][0]所取得的資料型態為字串 string，所以可以用字串 string 的方法upper()，將回傳值變為大寫。\n",
        "my_dict['key3'][0].upper()"
      ],
      "metadata": {
        "colab": {
          "base_uri": "https://localhost:8080/",
          "height": 35
        },
        "id": "_2iuhHvGnF3J",
        "outputId": "4f6ed973-fa69-4367-9774-07cacd31f320"
      },
      "execution_count": 6,
      "outputs": [
        {
          "output_type": "execute_result",
          "data": {
            "text/plain": [
              "'ITEM0'"
            ],
            "application/vnd.google.colaboratory.intrinsic+json": {
              "type": "string"
            }
          },
          "metadata": {},
          "execution_count": 6
        }
      ]
    },
    {
      "cell_type": "code",
      "source": [
        "# 修正內容如下：\n",
        "my_dict['key1']"
      ],
      "metadata": {
        "colab": {
          "base_uri": "https://localhost:8080/"
        },
        "id": "8YX727JmnHMR",
        "outputId": "2b819bf2-b086-450e-fb25-eb1b36cd71a1"
      },
      "execution_count": 7,
      "outputs": [
        {
          "output_type": "execute_result",
          "data": {
            "text/plain": [
              "123"
            ]
          },
          "metadata": {},
          "execution_count": 7
        }
      ]
    },
    {
      "cell_type": "code",
      "source": [
        "# 減去123\n",
        "my_dict['key1'] = my_dict['key1'] - 123"
      ],
      "metadata": {
        "id": "weRz9rDInKNR"
      },
      "execution_count": 8,
      "outputs": []
    },
    {
      "cell_type": "code",
      "source": [
        "#Check\n",
        "my_dict['key1']"
      ],
      "metadata": {
        "colab": {
          "base_uri": "https://localhost:8080/"
        },
        "id": "GUw_DaS3nNaZ",
        "outputId": "eb873d13-ad62-4ae0-a9e7-756327380e83"
      },
      "execution_count": 9,
      "outputs": [
        {
          "output_type": "execute_result",
          "data": {
            "text/plain": [
              "0"
            ]
          },
          "metadata": {},
          "execution_count": 9
        }
      ]
    },
    {
      "cell_type": "code",
      "source": [
        "# 可以使用在加減乘除。\n",
        "my_dict['key1'] -= 123\n",
        "my_dict['key1']"
      ],
      "metadata": {
        "colab": {
          "base_uri": "https://localhost:8080/"
        },
        "id": "XTQ_tdpTnOmx",
        "outputId": "a288536e-ddc1-419a-9384-e49821ed9e3d"
      },
      "execution_count": 10,
      "outputs": [
        {
          "output_type": "execute_result",
          "data": {
            "text/plain": [
              "-123"
            ]
          },
          "metadata": {},
          "execution_count": 10
        }
      ]
    },
    {
      "cell_type": "code",
      "source": [
        "# 由空字典開始建立\n",
        "# 建立空字典\n",
        "d = {}"
      ],
      "metadata": {
        "id": "FqCUbynUnPq5"
      },
      "execution_count": 11,
      "outputs": []
    },
    {
      "cell_type": "code",
      "source": [
        "# 輸入新鍵值\n",
        "d['animal'] = 'Dog'"
      ],
      "metadata": {
        "id": "jxwoBxdFniuJ"
      },
      "execution_count": 12,
      "outputs": []
    },
    {
      "cell_type": "code",
      "source": [
        "# 輸入新鍵值\n",
        "d['answer'] = 42"
      ],
      "metadata": {
        "id": "XUcFtCE2nkBp"
      },
      "execution_count": 13,
      "outputs": []
    },
    {
      "cell_type": "markdown",
      "source": [
        "## 2.巢狀字典 Nesting with Dictionaries\n",
        "\n",
        "字典裡面還有字典:"
      ],
      "metadata": {
        "id": "Mzh2cUIDnomw"
      }
    },
    {
      "cell_type": "code",
      "source": [
        "# Dictionary nested inside a dictionary nested inside a dictionary\n",
        "d = {'key1':{'nestkey':{'subnestkey':'value'}}}"
      ],
      "metadata": {
        "id": "iWF6-2EMnlSh"
      },
      "execution_count": 14,
      "outputs": []
    },
    {
      "cell_type": "code",
      "source": [
        "d['key1']['nestkey']['subnestkey']"
      ],
      "metadata": {
        "colab": {
          "base_uri": "https://localhost:8080/",
          "height": 35
        },
        "id": "0XLbzU18nwbw",
        "outputId": "9c563ed6-f690-4412-a6f1-e4cbce03ff4e"
      },
      "execution_count": 15,
      "outputs": [
        {
          "output_type": "execute_result",
          "data": {
            "text/plain": [
              "'value'"
            ],
            "application/vnd.google.colaboratory.intrinsic+json": {
              "type": "string"
            }
          },
          "metadata": {},
          "execution_count": 15
        }
      ]
    },
    {
      "cell_type": "markdown",
      "source": [
        "## 3.其他常用的字典內建方法 A few Dictionary Methods"
      ],
      "metadata": {
        "id": "C-4uh_RznzGx"
      }
    },
    {
      "cell_type": "code",
      "source": [
        "# 建立一般的字典\n",
        "d = {'key1':1,'key2':2,'key3':3}"
      ],
      "metadata": {
        "id": "I096k9exnxqZ"
      },
      "execution_count": 16,
      "outputs": []
    },
    {
      "cell_type": "code",
      "source": [
        "# 回傳所有的鍵 keys\n",
        "d.keys()"
      ],
      "metadata": {
        "colab": {
          "base_uri": "https://localhost:8080/"
        },
        "id": "sCROYzTXn2th",
        "outputId": "008e984f-5673-47d7-a72d-92b1dc5c5911"
      },
      "execution_count": 17,
      "outputs": [
        {
          "output_type": "execute_result",
          "data": {
            "text/plain": [
              "dict_keys(['key1', 'key2', 'key3'])"
            ]
          },
          "metadata": {},
          "execution_count": 17
        }
      ]
    },
    {
      "cell_type": "code",
      "source": [
        "# 回傳所有的值 values\n",
        "d.values()"
      ],
      "metadata": {
        "colab": {
          "base_uri": "https://localhost:8080/"
        },
        "id": "oL5cl8Evn3tJ",
        "outputId": "92d0bc0c-b2e6-4d5e-ed9c-92a39507958d"
      },
      "execution_count": 18,
      "outputs": [
        {
          "output_type": "execute_result",
          "data": {
            "text/plain": [
              "dict_values([1, 2, 3])"
            ]
          },
          "metadata": {},
          "execution_count": 18
        }
      ]
    },
    {
      "cell_type": "code",
      "source": [
        "# 以tuple的方式回傳所有的鍵值配對，\n",
        "d.items()"
      ],
      "metadata": {
        "colab": {
          "base_uri": "https://localhost:8080/"
        },
        "id": "Gun4uJVCn47Y",
        "outputId": "66e3e5ff-e39e-41a3-8c85-2a7c8aa0d845"
      },
      "execution_count": 19,
      "outputs": [
        {
          "output_type": "execute_result",
          "data": {
            "text/plain": [
              "dict_items([('key1', 1), ('key2', 2), ('key3', 3)])"
            ]
          },
          "metadata": {},
          "execution_count": 19
        }
      ]
    },
    {
      "cell_type": "code",
      "source": [
        "fruits={} #建立空字典\n",
        "print(fruits['banana']) #因為空字典中沒有banana，所以會出現錯誤"
      ],
      "metadata": {
        "colab": {
          "base_uri": "https://localhost:8080/",
          "height": 203
        },
        "id": "lsd4BEk2n6Ei",
        "outputId": "c2e329ae-381a-48ed-86a9-6d4335e9e738"
      },
      "execution_count": 20,
      "outputs": [
        {
          "output_type": "error",
          "ename": "KeyError",
          "evalue": "ignored",
          "traceback": [
            "\u001b[0;31m---------------------------------------------------------------------------\u001b[0m",
            "\u001b[0;31mKeyError\u001b[0m                                  Traceback (most recent call last)",
            "\u001b[0;32m<ipython-input-20-daa442043bc0>\u001b[0m in \u001b[0;36m<module>\u001b[0;34m\u001b[0m\n\u001b[1;32m      1\u001b[0m \u001b[0;31m#利用.get()方法來新增鍵與值，請參考線上文件https://docs.python.org/3/library/stdtypes.html?highlight=get#dict.get\u001b[0m\u001b[0;34m\u001b[0m\u001b[0;34m\u001b[0m\u001b[0;34m\u001b[0m\u001b[0m\n\u001b[1;32m      2\u001b[0m \u001b[0mfruits\u001b[0m\u001b[0;34m=\u001b[0m\u001b[0;34m{\u001b[0m\u001b[0;34m}\u001b[0m \u001b[0;31m#建立空字典\u001b[0m\u001b[0;34m\u001b[0m\u001b[0;34m\u001b[0m\u001b[0m\n\u001b[0;32m----> 3\u001b[0;31m \u001b[0mprint\u001b[0m\u001b[0;34m(\u001b[0m\u001b[0mfruits\u001b[0m\u001b[0;34m[\u001b[0m\u001b[0;34m'banana'\u001b[0m\u001b[0;34m]\u001b[0m\u001b[0;34m)\u001b[0m \u001b[0;31m#因為空字典中沒有banana，所以會出現錯誤\u001b[0m\u001b[0;34m\u001b[0m\u001b[0;34m\u001b[0m\u001b[0m\n\u001b[0m",
            "\u001b[0;31mKeyError\u001b[0m: 'banana'"
          ]
        }
      ]
    },
    {
      "cell_type": "markdown",
      "source": [
        "### 3.1 get方法\n",
        "利用get()方法來新增鍵與值，請參考[get線上文件說明](https://docs.python.org/3/library/stdtypes.html?highlight=get#dict.get)"
      ],
      "metadata": {
        "id": "QBmtRMHGoAxO"
      }
    },
    {
      "cell_type": "code",
      "source": [
        "#另外一種寫法，使用Get方法處理，如果該key存在，則回傳對應的value。如果不存在，則利用傳入的預設值建立配對並回傳預設值\n",
        "fruits={'orange':6}\n",
        "print(fruits['orange'])"
      ],
      "metadata": {
        "colab": {
          "base_uri": "https://localhost:8080/"
        },
        "id": "5_PxgNS9n7QQ",
        "outputId": "cdd0738e-4671-4443-f401-e1eb290f4603"
      },
      "execution_count": 21,
      "outputs": [
        {
          "output_type": "stream",
          "name": "stdout",
          "text": [
            "6\n"
          ]
        }
      ]
    },
    {
      "cell_type": "code",
      "source": [
        "print(fruits['banana'])"
      ],
      "metadata": {
        "colab": {
          "base_uri": "https://localhost:8080/",
          "height": 168
        },
        "id": "SDEBfTFmn-HQ",
        "outputId": "df18da62-077c-4a26-d169-8c9799919573"
      },
      "execution_count": 22,
      "outputs": [
        {
          "output_type": "error",
          "ename": "KeyError",
          "evalue": "ignored",
          "traceback": [
            "\u001b[0;31m---------------------------------------------------------------------------\u001b[0m",
            "\u001b[0;31mKeyError\u001b[0m                                  Traceback (most recent call last)",
            "\u001b[0;32m<ipython-input-22-a94cfb731343>\u001b[0m in \u001b[0;36m<module>\u001b[0;34m\u001b[0m\n\u001b[0;32m----> 1\u001b[0;31m \u001b[0mprint\u001b[0m\u001b[0;34m(\u001b[0m\u001b[0mfruits\u001b[0m\u001b[0;34m[\u001b[0m\u001b[0;34m'banana'\u001b[0m\u001b[0;34m]\u001b[0m\u001b[0;34m)\u001b[0m\u001b[0;34m\u001b[0m\u001b[0;34m\u001b[0m\u001b[0m\n\u001b[0m",
            "\u001b[0;31mKeyError\u001b[0m: 'banana'"
          ]
        }
      ]
    },
    {
      "cell_type": "code",
      "source": [
        "print(fruits.get('banana',1)) #看看有沒有banana,如果沒有則建立配對"
      ],
      "metadata": {
        "colab": {
          "base_uri": "https://localhost:8080/"
        },
        "id": "LXqP7GXRoNlg",
        "outputId": "0200c3d4-9d9c-4f30-c0a5-64195d106a66"
      },
      "execution_count": 23,
      "outputs": [
        {
          "output_type": "stream",
          "name": "stdout",
          "text": [
            "1\n"
          ]
        }
      ]
    },
    {
      "cell_type": "code",
      "source": [
        "fruits['banana']=fruits.get('banana',1)"
      ],
      "metadata": {
        "id": "bO30kFYmoPA4"
      },
      "execution_count": 24,
      "outputs": []
    },
    {
      "cell_type": "code",
      "source": [
        "fruits"
      ],
      "metadata": {
        "colab": {
          "base_uri": "https://localhost:8080/"
        },
        "id": "hhZNhAMUoQOY",
        "outputId": "1d8f8b2a-6d8f-4a03-8f43-c22704309396"
      },
      "execution_count": 25,
      "outputs": [
        {
          "output_type": "execute_result",
          "data": {
            "text/plain": [
              "{'orange': 6, 'banana': 1}"
            ]
          },
          "metadata": {},
          "execution_count": 25
        }
      ]
    },
    {
      "cell_type": "markdown",
      "source": [
        "## 4.# 字典排序\n",
        "字典預設是沒有排序的狀況，所以直接列印時，每次出現的排序結果不見得會相同，這時候需要一點技巧來處理。  \n",
        "串列排序的說明："
      ],
      "metadata": {
        "id": "4zGcN8FpoUE1"
      }
    },
    {
      "cell_type": "code",
      "source": [
        "fruits={'apple':6,'orange':4,'melon':10,'grapes':3,'banana':20}"
      ],
      "metadata": {
        "id": "pyPGIkVeoRaB"
      },
      "execution_count": 26,
      "outputs": []
    },
    {
      "cell_type": "code",
      "source": [
        "#執行時順序有時會不同，因為字典沒有不會自動排序\n",
        "print(fruits)"
      ],
      "metadata": {
        "colab": {
          "base_uri": "https://localhost:8080/"
        },
        "id": "wA9z4XHIoYMh",
        "outputId": "846d9ad7-3b07-4970-9c5f-2f4db75043ce"
      },
      "execution_count": 27,
      "outputs": [
        {
          "output_type": "stream",
          "name": "stdout",
          "text": [
            "{'apple': 6, 'orange': 4, 'melon': 10, 'grapes': 3, 'banana': 20}\n"
          ]
        }
      ]
    },
    {
      "cell_type": "code",
      "source": [
        "#利用key排序\n",
        "for k in sorted(fruits): #接著利用for迴圈來處理及排序\n",
        "    print(k,fruits[k])"
      ],
      "metadata": {
        "colab": {
          "base_uri": "https://localhost:8080/"
        },
        "id": "Qx_ycDR5oZYw",
        "outputId": "63b6efa2-abbe-4bb7-8263-5f4350e533ca"
      },
      "execution_count": 28,
      "outputs": [
        {
          "output_type": "stream",
          "name": "stdout",
          "text": [
            "apple 6\n",
            "banana 20\n",
            "grapes 3\n",
            "melon 10\n",
            "orange 4\n"
          ]
        }
      ]
    },
    {
      "cell_type": "code",
      "source": [
        "# 利用value由小到大來排序\n",
        "for k, v in sorted(fruits.items(), key=lambda item: item[1]):\n",
        "    print(k,v)"
      ],
      "metadata": {
        "colab": {
          "base_uri": "https://localhost:8080/"
        },
        "id": "cLFGod32oarY",
        "outputId": "0a7ac23a-64d6-436b-ef88-d23905186e78"
      },
      "execution_count": 29,
      "outputs": [
        {
          "output_type": "stream",
          "name": "stdout",
          "text": [
            "grapes 3\n",
            "orange 4\n",
            "apple 6\n",
            "melon 10\n",
            "banana 20\n"
          ]
        }
      ]
    },
    {
      "cell_type": "code",
      "source": [
        "# 利用value由大到小來排序\n",
        "for k, v in sorted(fruits.items(), key=lambda item: item[1],reverse=True):\n",
        "    print(k,v)"
      ],
      "metadata": {
        "colab": {
          "base_uri": "https://localhost:8080/"
        },
        "id": "nvhGJiwIoeMw",
        "outputId": "1ab79f51-3811-4291-abe7-8a85129eafd3"
      },
      "execution_count": 30,
      "outputs": [
        {
          "output_type": "stream",
          "name": "stdout",
          "text": [
            "banana 20\n",
            "melon 10\n",
            "apple 6\n",
            "orange 4\n",
            "grapes 3\n"
          ]
        }
      ]
    }
  ]
}