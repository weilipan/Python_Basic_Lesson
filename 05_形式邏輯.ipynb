{
  "nbformat": 4,
  "nbformat_minor": 0,
  "metadata": {
    "colab": {
      "name": "05_形式邏輯.ipynb",
      "provenance": [],
      "toc_visible": true,
      "collapsed_sections": [],
      "authorship_tag": "ABX9TyMiuA0yHC0RsbPps93dR8Qv",
      "include_colab_link": true
    },
    "kernelspec": {
      "name": "python3",
      "display_name": "Python 3"
    },
    "language_info": {
      "name": "python"
    }
  },
  "cells": [
    {
      "cell_type": "markdown",
      "metadata": {
        "id": "view-in-github",
        "colab_type": "text"
      },
      "source": [
        "<a href=\"https://colab.research.google.com/github/weilipan/Python_Basic_Lesson/blob/main/05_%E5%BD%A2%E5%BC%8F%E9%82%8F%E8%BC%AF.ipynb\" target=\"_parent\"><img src=\"https://colab.research.google.com/assets/colab-badge.svg\" alt=\"Open In Colab\"/></a>"
      ]
    },
    {
      "cell_type": "markdown",
      "source": [
        "# 1.邏輯導論學習目標\n",
        "1. 了解命題的意義與概念\n",
        "2. 了解**and**以及**or**的不同\n",
        "3. 了解「若...則...」的邏輯意義\n",
        "4. 了解笛摩根定律 De Morgan's Law\n",
        "5. 了解恆真式Tautology"
      ],
      "metadata": {
        "id": "JkRx-JBdTEyt"
      }
    },
    {
      "cell_type": "markdown",
      "source": [
        "# 2.Statement 命題\n",
        "\n",
        "A statement is a sentence that is either true or false.  \n",
        "一個可以判斷真偽的句子，我們稱為命題。"
      ],
      "metadata": {
        "id": "L46svVxKTbEc"
      }
    },
    {
      "cell_type": "markdown",
      "source": [
        "## 2.1命題範例\n",
        "1. 19>2\n",
        "2. 97是質數\n",
        "3. 地球繞著太陽公轉\n",
        "4. 月球繞著地球公轉"
      ],
      "metadata": {
        "id": "lHzTWGw-TrN8"
      }
    },
    {
      "cell_type": "markdown",
      "source": [
        "# 3.and(且)和or(或)\n",
        "1. 以大寫字母代表命題\n",
        "2. 以符號 ∪ 代表「且」，就是python語言中的「and」\n",
        "3. 以符號 ∪ 代表「或」，就是python語言中的「or」\n",
        "4. 命題與命題以 ∩  ∪ 互相連接，形成新命題"
      ],
      "metadata": {
        "id": "Kr4XoPVmT-kD"
      }
    },
    {
      "cell_type": "markdown",
      "source": [
        "> ## 3.1真值表\n",
        "1. A=早餐吃燕麥粥  \n",
        "2. B=早餐吃吐司  \n",
        "3. A ∩ B = 早餐吃燕麥粥和吐司  \n",
        "4. A ∪ B = 早餐吃燕麥粥或吐司  \n",
        "<table align=\"left\">\n",
        "<tr>\n",
        "        <td colspan=\"4\" align=\"center\">(請利用滑鼠反白看解答)\n",
        "        </td>\n",
        "    </tr>\n",
        "    <tr align=\"center\">\n",
        "        <td>A<br/>早餐吃燕麥粥</td>\n",
        "        <td>B<br/>早餐吃吐司</td>\n",
        "        <td>A and B<br/>早餐吃燕麥粥和吐司</td>\n",
        "        <td>A or B<br/>早餐吃燕麥粥或吐司</td>\n",
        "    </tr>\n",
        "    <tr align=\"center\">\n",
        "        <td>T</td>\n",
        "        <td>T</td>\n",
        "        <td><font color='white'>T</font></td>\n",
        "        <td><font color='white'>T</td>\n",
        "    </tr>\n",
        "    <tr align=\"center\">\n",
        "        <td>T</td>\n",
        "        <td>F</td>\n",
        "        <td><font color='white'>F</font></td>\n",
        "        <td><font color='white'>T</font></td>\n",
        "    </tr>\n",
        "    <tr align=\"center\">\n",
        "        <td>F</td>\n",
        "        <td>T</td>\n",
        "        <td><font color='white'>F</font></td>\n",
        "        <td><font color='white'>T</font></td>\n",
        "    </tr>\n",
        "    <tr align=\"center\">\n",
        "        <td>F</td>\n",
        "        <td>F</td>\n",
        "        <td><font color='white'>F</font></td>\n",
        "        <td><font color='white'>F</font></td>\n",
        "    </tr>\n",
        "</table>"
      ],
      "metadata": {
        "id": "jJ8Qux8SGEfD"
      }
    },
    {
      "cell_type": "markdown",
      "source": [
        "> ## 3.2結論\n",
        "1. A ∩ B 在A與B都為真的情況下，此命題才為真。\n",
        "2. A ∪ B 在A與B其中一個為真，此命題才為真。"
      ],
      "metadata": {
        "id": "RjZcxSb9GgqN"
      }
    },
    {
      "cell_type": "markdown",
      "source": [
        "# 4.若P則Q命題\n",
        "1. P=小明是哥哥\n",
        "2. Q=小明是男的\n",
        "3. (若P則Q)=(若小明是哥哥，則小明是男的)  \n",
        "\n",
        "<table align=\"left\">\n",
        "<tr>\n",
        "        <td colspan=\"4\" align=\"center\">(請利用滑鼠反白看解答)\n",
        "        </td>\n",
        "    </tr>\n",
        "    <tr align=\"center\">\n",
        "        <td>P</td>\n",
        "        <td>Q</td>\n",
        "        <td>命題含意</td>\n",
        "        <td>P → Q</td>\n",
        "    </tr>\n",
        "    <tr align=\"center\">\n",
        "        <td>T</td>\n",
        "        <td>T</td>\n",
        "        <td>若小明是哥哥，則小明是男的</td>\n",
        "        <td><font color='white'>T</td>\n",
        "    </tr>\n",
        "    <tr align=\"center\">\n",
        "        <td>T</td>\n",
        "        <td>F</td>\n",
        "        <td>若小明是哥哥，則小明不是男的</td>\n",
        "        <td><font color='white'>F</font></td>\n",
        "    </tr>\n",
        "    <tr align=\"center\">\n",
        "        <td>F</td>\n",
        "        <td>T</td>\n",
        "        <td>若小明不是哥哥，則小明是男的</td>\n",
        "        <td><font color='white'>T</font></td>\n",
        "    </tr>\n",
        "    <tr align=\"center\">\n",
        "        <td>F</td>\n",
        "        <td>F</td>\n",
        "        <td>若小明不是哥哥，則小明不是男的</td>\n",
        "        <td><font color='white'>T</font></td>\n",
        "    </tr>\n",
        "</table>"
      ],
      "metadata": {
        "id": "Ih5oYx-MGuHz"
      }
    },
    {
      "cell_type": "markdown",
      "source": [
        "# 5.比較意義\n",
        "1. 若你上機考考100分，我帶你去女校聯誼。\n",
        "2. 若你上機考沒有考100分，我就不帶你去聯誼。"
      ],
      "metadata": {
        "id": "6jktqglZHLXt"
      }
    },
    {
      "cell_type": "markdown",
      "source": [
        "> ## 5.1若你上機考考100分，我帶你去女校聯誼\n",
        "1. P=你上機考100分\n",
        "2. Q=我帶你去女校聯誼\n",
        "\n",
        "<table align=\"left\">\n",
        "    <tr>\n",
        "        <td colspan=\"4\" align=\"center\">(請利用滑鼠反白看解答)\n",
        "        </td>\n",
        "    </tr>\n",
        "    <tr align=\"center\">\n",
        "        <td>P=你上機考100分</td>\n",
        "        <td>Q=我帶你去女校聯誼</td>\n",
        "        <td>命題含意</td>\n",
        "        <td>P → Q</td>\n",
        "    </tr>\n",
        "    <tr align=\"center\">\n",
        "        <td>T</td>\n",
        "        <td>T</td>\n",
        "        <td>若你上機考100分，則我帶你去女校聯誼。</td>\n",
        "        <td><font color='white'>T</td>\n",
        "    </tr>\n",
        "    <tr align=\"center\">\n",
        "        <td>T</td>\n",
        "        <td>F</td>\n",
        "        <td>若你上機考100分，則我不帶你去女校聯誼。</td>\n",
        "        <td><font color='white'>F</font></td>\n",
        "    </tr>\n",
        "    <tr align=\"center\">\n",
        "        <td>F</td>\n",
        "        <td>T</td>\n",
        "        <td>若你上機考沒有考100分，則我帶你去女校聯誼。</td>\n",
        "        <td><font color='white'>T</font></td>\n",
        "    </tr>\n",
        "    <tr align=\"center\">\n",
        "        <td>F</td>\n",
        "        <td>F</td>\n",
        "        <td>若你上機考沒有考100分，則我帶你去女校聯誼。</td>\n",
        "        <td><font color='white'>T</font></td>\n",
        "    </tr>\n",
        "    <tr>\n",
        "        <td colspan=\"4\" align=\"center\">結論：<strong><font color=\"red\">你上機考100分，我一定要帶你去女校聯誼</font></strong>\n",
        "        </td>\n",
        "    </tr>\n",
        "</table>\n"
      ],
      "metadata": {
        "id": "KmtiasHpHTdq"
      }
    },
    {
      "cell_type": "markdown",
      "source": [
        "> ## 5.2若你上機考沒有考100分，我就不帶你去聯誼。\n",
        "1. P=你上機考沒有考100分\n",
        "2. Q=我就不帶你去女校聯誼\n",
        "\n",
        "<table align=\"left\">\n",
        "    <tr>\n",
        "        <td colspan=\"4\" align=\"center\">(請利用滑鼠反白看解答)\n",
        "        </td>\n",
        "    </tr>\n",
        "    <tr align=\"center\">\n",
        "        <td>P=你上機考沒有考100分</td>\n",
        "        <td>Q=我就不帶你去女校聯誼</td>\n",
        "        <td>命題含意</td>\n",
        "        <td>P → Q</td>\n",
        "    </tr>\n",
        "    <tr align=\"center\">\n",
        "        <td>T</td>\n",
        "        <td>T</td>\n",
        "        <td>你上機考沒有考100分，我就不帶你去女校聯誼。</td>\n",
        "        <td><font color='white'>T</td>\n",
        "    </tr>\n",
        "    <tr align=\"center\">\n",
        "        <td>T</td>\n",
        "        <td>F</td>\n",
        "        <td>若你上機考沒有考100分，則我就帶你去女校聯誼。</td>\n",
        "        <td><font color='white'>F</font></td>\n",
        "    </tr>\n",
        "    <tr align=\"center\">\n",
        "        <td>F</td>\n",
        "        <td>T</td>\n",
        "        <td>若你上機考100分，則我就不帶你去女校聯誼。</td>\n",
        "        <td><font color='white'>T</font></td>\n",
        "    </tr>\n",
        "    <tr align=\"center\">\n",
        "        <td>F</td>\n",
        "        <td>F</td>\n",
        "        <td>若你上機考100分，則我帶你去女校聯誼。</td>\n",
        "        <td><font color='white'>T</font></td>\n",
        "    </tr>\n",
        "    <tr>\n",
        "    <td colspan=\"4\" align=\"center\">結論：<strong><font color=\"red\">就算你上機考100分，我也可以不帶你去女校聯誼</font></strong>，而且邏輯上沒有問題。</td></tr>\n",
        "</table>"
      ],
      "metadata": {
        "id": "BNiNbUKPINWM"
      }
    },
    {
      "cell_type": "markdown",
      "source": [
        "# 6.A→B = B→A??\n",
        "1. P=小明是哥哥\n",
        "2. Q=小明是男的\n",
        "3. (若P則Q)=(若小明是哥哥，則小明是男的)\n",
        "4. (若Q則P)=(若小明是一位男性，則小明是哥哥)"
      ],
      "metadata": {
        "id": "boW5Q9WbI0VI"
      }
    },
    {
      "cell_type": "markdown",
      "source": [
        "# 7.A &#8781; B 是指 (A→B) &#8745; (B→A) \n",
        "<table align=\"left\">\n",
        "    <tr>\n",
        "        <td colspan=\"4\" align=\"center\">(請利用滑鼠反白看解答)\n",
        "        </td>\n",
        "    </tr>\n",
        "<tr align=\"center\">\n",
        "        <td>A</td>\n",
        "        <td>B</td>\n",
        "        <td>(A → B)</td>\n",
        "        <td>(B → A)</td>\n",
        "        <td>(A → B) ∩ (B → A)</td>\n",
        "    </tr>\n",
        "    <tr align=\"center\">\n",
        "        <td>T</td>\n",
        "        <td>T</td>\n",
        "        <td>T</td>\n",
        "        <td>T</td>\n",
        "        <td><font color='white'>T</font></td>\n",
        "    </tr>\n",
        "    <tr align=\"center\">\n",
        "        <td>T</td>\n",
        "        <td>F</td>\n",
        "        <td>F</td>\n",
        "        <td>T</td>\n",
        "        <td><font color='white'>F</font></td>\n",
        "    </tr>\n",
        "    <tr align=\"center\">\n",
        "        <td>F</td>\n",
        "        <td>T</td>\n",
        "        <td>T</td>\n",
        "        <td>F</td>\n",
        "        <td><font color='white'>F</font></td>\n",
        "    </tr>\n",
        "    <tr align=\"center\">\n",
        "        <td>F</td>\n",
        "        <td>F</td>\n",
        "        <td>T</td>\n",
        "        <td>T</td>\n",
        "        <td><font color='white'>T</font></td>\n",
        "    </tr>\n",
        "</table>"
      ],
      "metadata": {
        "id": "26aEKh45JCq8"
      }
    },
    {
      "cell_type": "markdown",
      "source": [
        "# 8.Negation 否定命題\n",
        "1. A=小華是一位女性\n",
        "2. A'=小華不是一位女性\n",
        "3. 就是python語法中的not"
      ],
      "metadata": {
        "id": "_-ldnBwyJVRA"
      }
    },
    {
      "cell_type": "markdown",
      "source": [
        "# 9.DeMorgan's Law 笛摩根定理\n",
        "我們寫貪食蛇去判斷貪食蛇是否死亡，可以用以下兩個條件來判斷:  \n",
        "1. A=頭的位置在邊界\n",
        "2. B=頭的位置在蛇身體上面\n",
        "若貪食蛇要活著，則要滿足:\n",
        "**(A'∩ B'):頭不能撞到牆，也不能撞到自己身體。**  \n",
        "根據DeMorgan's Law也可以寫成:  \n",
        "**(A ∪ B)':不能夠(頭撞到牆或撞到自己身體)**"
      ],
      "metadata": {
        "id": "TQo8uhwYJkIy"
      }
    },
    {
      "cell_type": "markdown",
      "source": [
        "> ## 9.1 A→B=B'→A'\n",
        "若小陳是哥哥，則小陳是男生  \n",
        "可以推導出：若小陳不是男生，則他一定不會是哥哥。  \n",
        ">> <table align=\"left\">\n",
        "        <tr>\n",
        "        <td colspan=\"4\" align=\"center\">(請利用滑鼠反白看解答，請自己拿紙筆出來練習)\n",
        "        </td>\n",
        "    </tr>\n",
        "    <tr align=\"center\">\n",
        "        <td>A=小陳是哥哥</td>\n",
        "        <td>B=小陳是男生</td>\n",
        "        <td>A → B</td>\n",
        "        <td>B'→ A'</td>\n",
        "    </tr>\n",
        "    <tr align=\"center\">\n",
        "        <td>T</td>\n",
        "        <td>T</td>\n",
        "        <td>T</td>\n",
        "        <td><font color='white'>T</td>\n",
        "    </tr>\n",
        "    <tr align=\"center\">\n",
        "        <td>T</td>\n",
        "        <td>F</td>\n",
        "        <td>F</td>\n",
        "        <td><font color='white'>F</font></td>\n",
        "    </tr>\n",
        "    <tr align=\"center\">\n",
        "        <td>F</td>\n",
        "        <td>T</td>\n",
        "        <td>T</td>\n",
        "        <td><font color='white'>T</font></td>\n",
        "    </tr>\n",
        "    <tr align=\"center\">\n",
        "        <td>F</td>\n",
        "        <td>F</td>\n",
        "        <td>T</td>\n",
        "        <td><font color='white'>T</font></td>\n",
        "    </tr>\n",
        "</table>"
      ],
      "metadata": {
        "id": "cQMEcZYQJ6Ze"
      }
    },
    {
      "cell_type": "markdown",
      "source": [
        "# 10.恆真式 Tautology\n",
        "有些事情一直會成立。  \n",
        "Some statements that are true no matter what.\n",
        "<table align=\"left\">\n",
        "<tr>\n",
        "        <td colspan=\"4\" align=\"center\">(請利用滑鼠反白看解答)\n",
        "        </td>\n",
        "    </tr>\n",
        "<tr align=\"center\">\n",
        "        <td>A</td>\n",
        "        <td>B</td>\n",
        "        <td>(A ∪ B)</td>\n",
        "        <td>(B ∪ A)</td>\n",
        "        <td>(A ∪ B) &#8781; (B ∪ A)</td>\n",
        "    </tr>\n",
        "    <tr align=\"center\">\n",
        "        <td>T</td>\n",
        "        <td>T</td>\n",
        "        <td>T</td>\n",
        "        <td>T</td>\n",
        "        <td><font color='white'>T</font></td>\n",
        "    </tr>\n",
        "    <tr align=\"center\">\n",
        "        <td>T</td>\n",
        "        <td>F</td>\n",
        "        <td>T</td>\n",
        "        <td>T</td>\n",
        "        <td><font color='white'>T</font></td>\n",
        "    </tr>\n",
        "    <tr align=\"center\">\n",
        "        <td>F</td>\n",
        "        <td>T</td>\n",
        "        <td>T</td>\n",
        "        <td>T</td>\n",
        "        <td><font color='white'>T</font></td>\n",
        "    </tr>\n",
        "    <tr align=\"center\">\n",
        "        <td>F</td>\n",
        "        <td>F</td>\n",
        "        <td>F</td>\n",
        "        <td>F</td>\n",
        "        <td><font color='white'>T</font></td>\n",
        "    </tr>\n",
        "\n",
        "</table>"
      ],
      "metadata": {
        "id": "zSJaAP8XKKM4"
      }
    },
    {
      "cell_type": "code",
      "source": [
        ""
      ],
      "metadata": {
        "id": "ryC4_tLHTaC0"
      },
      "execution_count": null,
      "outputs": []
    }
  ]
}