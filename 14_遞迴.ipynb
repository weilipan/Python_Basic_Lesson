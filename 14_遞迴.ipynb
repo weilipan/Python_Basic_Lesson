{
  "cells": [
    {
      "cell_type": "markdown",
      "metadata": {
        "id": "view-in-github",
        "colab_type": "text"
      },
      "source": [
        "<a href=\"https://colab.research.google.com/github/weilipan/Python_Basic_Lesson/blob/main/14_%E9%81%9E%E8%BF%B4.ipynb\" target=\"_parent\"><img src=\"https://colab.research.google.com/assets/colab-badge.svg\" alt=\"Open In Colab\"/></a>"
      ]
    },
    {
      "cell_type": "markdown",
      "metadata": {
        "id": "WjUGc-NDwou0"
      },
      "source": [
        "# 1.遞迴Recursive\n",
        "遞迴在許多演算法中扮演了重要的角色，能夠讓複雜的算式變得非常簡化。（但是速度較慢）\n",
        "\n",
        "遞迴意味著可以利用函式自身定義，以由小而大的步驟，逐漸實現原來預訂的目標。\n",
        "\n",
        "例如下方的說法：\n",
        "\n",
        "任何一個人的母親也同樣是一個人。\n",
        "\n",
        "資料夾中一定也包含著子資料夾。\n",
        "\n",
        "家族族譜樹中的分支也一定含有著自己的家族譜樹。\n",
        "\n",
        "以費氏數列而言，如果使用for迴圈的方式撰寫如下：\n",
        "\n",
        "第1項為1，第2項為1。找出費氏數列的第20項。"
      ]
    },
    {
      "cell_type": "code",
      "execution_count": null,
      "metadata": {
        "id": "fz6aX893wou6"
      },
      "outputs": [],
      "source": [
        "def farray(n):\n",
        "    a1=1\n",
        "    a2=1\n",
        "    for i in range(3,n+1):\n",
        "        a1,a2=a2,a1+a2\n",
        "    return a2"
      ]
    },
    {
      "cell_type": "code",
      "execution_count": null,
      "metadata": {
        "id": "6aD8B-5Rwou-",
        "outputId": "ff6fb0cb-2197-4593-dae0-e7409f36e14d"
      },
      "outputs": [
        {
          "data": {
            "text/plain": [
              "6765"
            ]
          },
          "execution_count": 3,
          "metadata": {},
          "output_type": "execute_result"
        }
      ],
      "source": [
        "farray(20)"
      ]
    },
    {
      "cell_type": "markdown",
      "metadata": {
        "id": "7WoiPVzpwovB"
      },
      "source": [
        "現在請你試著用遞迴函式來處理費式數列。\n",
        "\n",
        "費式數列的敘述如下：\n",
        "\n",
        "\\begin{equation*}\n",
        "{    a_1=1,　a_2=1 \\brace a_n=a_{n-1}+a_{n-2}　,　n>=3     }\n",
        "\\end{equation*}\n",
        "會用遞迴寫程式，某方面而言可以加快寫程式的速度，但請注意程式在執行時記憶體空間使用較為巨大，時間上會拖得久一點。\n",
        "\n",
        "以本題而言，若n值=100時，有可能執行時間要很久，但若使用陣列加迴圈的方式時間則快多了。"
      ]
    },
    {
      "cell_type": "code",
      "execution_count": null,
      "metadata": {
        "id": "hICh1bVTwovF"
      },
      "outputs": [],
      "source": [
        "def r_farray(n):\n",
        "    if n==1 or n==2:\n",
        "        return 1\n",
        "    else:\n",
        "        return r_farray(n-1)+r_farray(n-2)"
      ]
    },
    {
      "cell_type": "code",
      "execution_count": null,
      "metadata": {
        "id": "DfmaMaXcwovG",
        "outputId": "adb08504-8074-4a7b-ba49-8c05b44c9597"
      },
      "outputs": [
        {
          "data": {
            "text/plain": [
              "6765"
            ]
          },
          "execution_count": 5,
          "metadata": {},
          "output_type": "execute_result"
        }
      ],
      "source": [
        "r_farray(20)"
      ]
    },
    {
      "cell_type": "markdown",
      "metadata": {
        "id": "oR_aYojrwovI"
      },
      "source": [
        "比較一下迴圈與遞迴兩種方式的速度，試一下費氏數列第30個數字"
      ]
    },
    {
      "cell_type": "code",
      "execution_count": null,
      "metadata": {
        "id": "SrczHISEwovJ",
        "outputId": "6fec9fce-c9b0-4505-b54c-86435ad18dda"
      },
      "outputs": [
        {
          "name": "stdout",
          "output_type": "stream",
          "text": [
            "0.0\n"
          ]
        }
      ],
      "source": [
        "import time\n",
        "s_t=time.time() #起始時間\n",
        "farray(30)\n",
        "e_t=time.time() #結束時間\n",
        "print(e_t-s_t)"
      ]
    },
    {
      "cell_type": "code",
      "execution_count": null,
      "metadata": {
        "id": "B10C0nJkwovL",
        "outputId": "4bc872d3-5e25-4462-cfee-ea158544f38e"
      },
      "outputs": [
        {
          "name": "stdout",
          "output_type": "stream",
          "text": [
            "0.15913891792297363\n"
          ]
        }
      ],
      "source": [
        "import time\n",
        "s_t=time.time() #起始時間\n",
        "r_farray(30)\n",
        "e_t=time.time() #結束時間\n",
        "print(e_t-s_t)"
      ]
    },
    {
      "cell_type": "markdown",
      "metadata": {
        "id": "Ul4o8x2BwovN"
      },
      "source": [
        "看到速度的差異了嗎"
      ]
    },
    {
      "cell_type": "markdown",
      "metadata": {
        "id": "fv_j5B4cwovO"
      },
      "source": [
        "# 2.碎形\n",
        "\n",
        "我們利用python來畫出碎形圖案。碎形的解釋請參考：https://mropengate.blogspot.com/2015/05/introduction-to-fractals.html\n",
        "\n",
        "在多數情況下有著簡單的遞迴定義。  \n",
        "**柯赫碎形**  \n",
        "![柯赫碎形](https://github.com/weilipan/Python_Code/blob/master/%E9%81%9E%E8%BF%B4/koch3.jpg?raw=1)"
      ]
    },
    {
      "cell_type": "code",
      "execution_count": null,
      "metadata": {
        "id": "SWwslWSowovP"
      },
      "outputs": [],
      "source": [
        "import turtle\n",
        "\n",
        "def koch(t, order, size):\n",
        "    if order == 0:          # The base case is just a straight line\n",
        "        t.forward(size)\n",
        "    else:\n",
        "        koch(t, order-1, size/3)   # Go 1/3 of the way\n",
        "        t.left(60)\n",
        "        koch(t, order-1, size/3)\n",
        "        t.right(120)\n",
        "        koch(t, order-1, size/3)\n",
        "        t.left(60)\n",
        "        koch(t, order-1, size/3)\n",
        "\n",
        "alex=turtle.Turtle()\n",
        "alex.hideturtle() #隱藏圖標\n",
        "alex.speed(10) #改變速度\n",
        "koch(alex,4,300)"
      ]
    },
    {
      "cell_type": "markdown",
      "metadata": {
        "id": "l7Qy2Xd4wovR"
      },
      "source": [
        "因為右轉120度和左轉-120度是一樣的意思，所以上面的程式碼也可以簡化為下方的情況："
      ]
    },
    {
      "cell_type": "code",
      "execution_count": null,
      "metadata": {
        "id": "H6RDnwK5wovS"
      },
      "outputs": [],
      "source": [
        "import turtle\n",
        "\n",
        "def koch(t, order, size):\n",
        "    if order == 0:\n",
        "        t.forward(size)\n",
        "    else:\n",
        "        for angle in [60, -120, 60, 0]:\n",
        "           koch(t, order-1, size/3)\n",
        "           t.left(angle)\n",
        "\n",
        "alex=turtle.Turtle()\n",
        "alex.hideturtle() #隱藏圖標\n",
        "alex.speed(10) #改變速度\n",
        "koch(alex,4,300)"
      ]
    },
    {
      "cell_type": "markdown",
      "metadata": {
        "id": "i_cOkKn7wovT"
      },
      "source": [
        "上面這段程式碼(以維度3為例)\n",
        "\n",
        "<code>\n",
        "def koch(t, order, size):\n",
        "    if order == 0:\n",
        "        t.forward(size)\n",
        "    else:\n",
        "        for angle in [60, -120, 60, 0]:\n",
        "           koch(t, order-1, size/3)\n",
        "           t.left(angle)\n",
        "</code>\n",
        "\n",
        "可以改為下面這樣來理解\n",
        "\n",
        "<code>\n",
        "def koch_0(t, size):\n",
        "    t.forward(size)\n",
        "\n",
        "def koch_1(t, size):\n",
        "    for angle in [60, -120, 60, 0]:\n",
        "       koch_0(t, size/3)\n",
        "       t.left(angle)\n",
        "\n",
        "def koch_2(t, size):\n",
        "    for angle in [60, -120, 60, 0]:\n",
        "       koch_1(t, size/3)\n",
        "       t.left(angle)\n",
        "\n",
        "def koch_3(t, size):\n",
        "    for angle in [60, -120, 60, 0]:\n",
        "       koch_2(t, size/3)\n",
        "       t.left(angle)   \n",
        "</code>"
      ]
    },
    {
      "cell_type": "code",
      "execution_count": null,
      "metadata": {
        "id": "ndY_iQh7wovU"
      },
      "outputs": [],
      "source": []
    }
  ],
  "metadata": {
    "kernelspec": {
      "display_name": "Python 3",
      "language": "python",
      "name": "python3"
    },
    "language_info": {
      "codemirror_mode": {
        "name": "ipython",
        "version": 3
      },
      "file_extension": ".py",
      "mimetype": "text/x-python",
      "name": "python",
      "nbconvert_exporter": "python",
      "pygments_lexer": "ipython3",
      "version": "3.7.4"
    },
    "colab": {
      "provenance": [],
      "name": "14_遞迴.ipynb",
      "include_colab_link": true
    }
  },
  "nbformat": 4,
  "nbformat_minor": 0
}