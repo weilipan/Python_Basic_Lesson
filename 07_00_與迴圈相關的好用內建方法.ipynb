{
  "nbformat": 4,
  "nbformat_minor": 0,
  "metadata": {
    "colab": {
      "name": "07_00 與迴圈相關的好用內建方法.ipynb",
      "provenance": [],
      "toc_visible": true,
      "include_colab_link": true
    },
    "kernelspec": {
      "name": "python3",
      "display_name": "Python 3"
    },
    "language_info": {
      "name": "python"
    }
  },
  "cells": [
    {
      "cell_type": "markdown",
      "metadata": {
        "id": "view-in-github",
        "colab_type": "text"
      },
      "source": [
        "<a href=\"https://colab.research.google.com/github/weilipan/Python_Basic_Lesson/blob/111course/07_00_%E8%88%87%E8%BF%B4%E5%9C%88%E7%9B%B8%E9%97%9C%E7%9A%84%E5%A5%BD%E7%94%A8%E5%85%A7%E5%BB%BA%E6%96%B9%E6%B3%95.ipynb\" target=\"_parent\"><img src=\"https://colab.research.google.com/assets/colab-badge.svg\" alt=\"Open In Colab\"/></a>"
      ]
    },
    {
      "cell_type": "markdown",
      "source": [
        "# 好用的運算子Useful Operators"
      ],
      "metadata": {
        "id": "L4W29VSUwygz"
      }
    },
    {
      "cell_type": "markdown",
      "source": [
        "## 1.range\n",
        "1. [range線上說明文件](\n",
        "https://docs.python.org/3/library/stdtypes.html?highlight=range#range)\n",
        "2. **range** 是個 生成器**generator**函式，它在執行程式碼的當下會回傳相關資訊但不會將資訊留在記憶體(用以節省記憶體)，如果要將range回傳的資訊以list的方式留下來做為之後程式碼使用，請使用list()將回傳的資訊轉型為串列。"
      ],
      "metadata": {
        "id": "FoMutwdHw3eH"
      }
    },
    {
      "cell_type": "code",
      "source": [
        "range(0,11)"
      ],
      "metadata": {
        "colab": {
          "base_uri": "https://localhost:8080/"
        },
        "id": "zyqIk8q6w6eE",
        "outputId": "6ccda450-c044-40ec-fa9d-2785220f4ee5"
      },
      "execution_count": null,
      "outputs": [
        {
          "output_type": "execute_result",
          "data": {
            "text/plain": [
              "range(0, 11)"
            ]
          },
          "metadata": {},
          "execution_count": 1
        }
      ]
    },
    {
      "cell_type": "code",
      "source": [
        "# 請注意11並未包含在裡面喔，與string字串的分片slicing意思相同。\n",
        "list(range(0,11))"
      ],
      "metadata": {
        "colab": {
          "base_uri": "https://localhost:8080/"
        },
        "id": "yJtb6me1xIC8",
        "outputId": "130f7f7e-ed3e-487f-d039-f2e814973ac5"
      },
      "execution_count": null,
      "outputs": [
        {
          "output_type": "execute_result",
          "data": {
            "text/plain": [
              "[0, 1, 2, 3, 4, 5, 6, 7, 8, 9, 10]"
            ]
          },
          "metadata": {},
          "execution_count": 2
        }
      ]
    },
    {
      "cell_type": "code",
      "source": [
        "list(range(0,12))"
      ],
      "metadata": {
        "colab": {
          "base_uri": "https://localhost:8080/"
        },
        "id": "gvfEYrqNxYt9",
        "outputId": "265c6efa-2c1b-4777-9958-249754a033af"
      },
      "execution_count": null,
      "outputs": [
        {
          "output_type": "execute_result",
          "data": {
            "text/plain": [
              "[0, 1, 2, 3, 4, 5, 6, 7, 8, 9, 10, 11]"
            ]
          },
          "metadata": {},
          "execution_count": 3
        }
      ]
    },
    {
      "cell_type": "code",
      "source": [
        "# 第三個參數是所謂的步進值.\n",
        "list(range(0,11,2))"
      ],
      "metadata": {
        "colab": {
          "base_uri": "https://localhost:8080/"
        },
        "id": "59QiPk93xbA0",
        "outputId": "aaac9fee-e3a2-4f04-ebe3-052ffbed2a22"
      },
      "execution_count": null,
      "outputs": [
        {
          "output_type": "execute_result",
          "data": {
            "text/plain": [
              "[0, 2, 4, 6, 8, 10]"
            ]
          },
          "metadata": {},
          "execution_count": 4
        }
      ]
    },
    {
      "cell_type": "code",
      "source": [
        "list(range(0,101,10))"
      ],
      "metadata": {
        "colab": {
          "base_uri": "https://localhost:8080/"
        },
        "id": "87-mfFlVxfzj",
        "outputId": "3403acc9-4b63-4189-88e9-5b239c1f793d"
      },
      "execution_count": null,
      "outputs": [
        {
          "output_type": "execute_result",
          "data": {
            "text/plain": [
              "[0, 10, 20, 30, 40, 50, 60, 70, 80, 90, 100]"
            ]
          },
          "metadata": {},
          "execution_count": 5
        }
      ]
    },
    {
      "cell_type": "markdown",
      "source": [
        "## 2.enumerate\n",
        "[enumerate線上說明文件](\n",
        "https://docs.python.org/3/library/functions.html?highlight=enumerate#enumerate)"
      ],
      "metadata": {
        "id": "I3BvvJopxg7K"
      }
    },
    {
      "cell_type": "code",
      "source": [
        "index_count = 0\n",
        "\n",
        "for letter in 'abcde':\n",
        "    print(f\"At index {index_count} the letter is {letter}\")\n",
        "    index_count += 1"
      ],
      "metadata": {
        "colab": {
          "base_uri": "https://localhost:8080/"
        },
        "id": "gaX1zcK7xgKI",
        "outputId": "1b2555d9-f28c-4592-e135-736c32c3568f"
      },
      "execution_count": null,
      "outputs": [
        {
          "output_type": "stream",
          "name": "stdout",
          "text": [
            "At index 0 the letter is a\n",
            "At index 1 the letter is b\n",
            "At index 2 the letter is c\n",
            "At index 3 the letter is d\n",
            "At index 4 the letter is e\n"
          ]
        }
      ]
    },
    {
      "cell_type": "code",
      "source": [
        "# 上面的例子可以利用enumerate包裝成下面的程式碼\n",
        "# Notice the tuple unpacking!\n",
        "for i,letter in enumerate('abcde'):\n",
        "    print(f\"At index {i} the letter is {letter}\")"
      ],
      "metadata": {
        "colab": {
          "base_uri": "https://localhost:8080/"
        },
        "id": "E4lfAkZux54B",
        "outputId": "3b76e4e6-3d63-4677-ccde-3dbb051a235e"
      },
      "execution_count": null,
      "outputs": [
        {
          "output_type": "stream",
          "name": "stdout",
          "text": [
            "At index 0 the letter is a\n",
            "At index 1 the letter is b\n",
            "At index 2 the letter is c\n",
            "At index 3 the letter is d\n",
            "At index 4 the letter is e\n"
          ]
        }
      ]
    },
    {
      "cell_type": "code",
      "source": [
        "list(enumerate('abcde'))"
      ],
      "metadata": {
        "colab": {
          "base_uri": "https://localhost:8080/"
        },
        "id": "4aZbiF-ByFxk",
        "outputId": "5ae3fc6a-c310-40c7-83ef-fec3ad31e25c"
      },
      "execution_count": null,
      "outputs": [
        {
          "output_type": "execute_result",
          "data": {
            "text/plain": [
              "[(0, 'a'), (1, 'b'), (2, 'c'), (3, 'd'), (4, 'e')]"
            ]
          },
          "metadata": {},
          "execution_count": 8
        }
      ]
    },
    {
      "cell_type": "markdown",
      "source": [
        "## 3.zip\n",
        "[zip線上說明文件](https://docs.python.org/3/library/functions.html#zip)"
      ],
      "metadata": {
        "id": "Y4cH3u5FyO2J"
      }
    },
    {
      "cell_type": "code",
      "source": [
        "mylist1 = [1,2,3,4,5]\n",
        "mylist2 = ['a','b','c','d','e']"
      ],
      "metadata": {
        "id": "OL8gkqXSyITi"
      },
      "execution_count": null,
      "outputs": []
    },
    {
      "cell_type": "code",
      "source": [
        "zip(mylist1,mylist2)"
      ],
      "metadata": {
        "colab": {
          "base_uri": "https://localhost:8080/"
        },
        "id": "OYi_7h5iyKNJ",
        "outputId": "31249684-2137-41c6-8d39-20739b435707"
      },
      "execution_count": null,
      "outputs": [
        {
          "output_type": "execute_result",
          "data": {
            "text/plain": [
              "<zip at 0x7fac97d19aa0>"
            ]
          },
          "metadata": {},
          "execution_count": 10
        }
      ]
    },
    {
      "cell_type": "code",
      "source": [
        "list(zip(mylist1,mylist2))"
      ],
      "metadata": {
        "colab": {
          "base_uri": "https://localhost:8080/"
        },
        "id": "PR5gOENjym4N",
        "outputId": "6ef23f13-0883-4bd3-b0b4-0345e2471be1"
      },
      "execution_count": null,
      "outputs": [
        {
          "output_type": "execute_result",
          "data": {
            "text/plain": [
              "[(1, 'a'), (2, 'b'), (3, 'c'), (4, 'd'), (5, 'e')]"
            ]
          },
          "metadata": {},
          "execution_count": 11
        }
      ]
    },
    {
      "cell_type": "code",
      "source": [
        "for item1, item2 in zip(mylist1,mylist2):\n",
        "    print(f'For this tuple, first item was {item1} and second item was {item2}')"
      ],
      "metadata": {
        "colab": {
          "base_uri": "https://localhost:8080/"
        },
        "id": "dXz8QQN6youV",
        "outputId": "59b7d8b0-949f-4005-9d47-50e0b24b7426"
      },
      "execution_count": null,
      "outputs": [
        {
          "output_type": "stream",
          "name": "stdout",
          "text": [
            "For this tuple, first item was 1 and second item was a\n",
            "For this tuple, first item was 2 and second item was b\n",
            "For this tuple, first item was 3 and second item was c\n",
            "For this tuple, first item was 4 and second item was d\n",
            "For this tuple, first item was 5 and second item was e\n"
          ]
        }
      ]
    },
    {
      "cell_type": "markdown",
      "source": [
        "## 4.in\n",
        "**in** 可以快速判斷某元素是否存在某處"
      ],
      "metadata": {
        "id": "XrgkJV_Dy0dT"
      }
    },
    {
      "cell_type": "code",
      "source": [
        "'x' in ['x','y','z']"
      ],
      "metadata": {
        "colab": {
          "base_uri": "https://localhost:8080/"
        },
        "id": "cXHnRIcJyx-w",
        "outputId": "42cfc21c-8448-4724-fa9c-1ad4dc807169"
      },
      "execution_count": null,
      "outputs": [
        {
          "output_type": "execute_result",
          "data": {
            "text/plain": [
              "True"
            ]
          },
          "metadata": {},
          "execution_count": 13
        }
      ]
    },
    {
      "cell_type": "code",
      "source": [
        "'x' in [1,2,3]"
      ],
      "metadata": {
        "colab": {
          "base_uri": "https://localhost:8080/"
        },
        "id": "1PUJ17N-zJOQ",
        "outputId": "49204e4a-65bb-4cfd-b8ec-146cea5437d6"
      },
      "execution_count": null,
      "outputs": [
        {
          "output_type": "execute_result",
          "data": {
            "text/plain": [
              "False"
            ]
          },
          "metadata": {},
          "execution_count": 14
        }
      ]
    },
    {
      "cell_type": "markdown",
      "source": [
        "## 5.min and max\n",
        "1. [max線上說明文件](https://docs.python.org/3/library/functions.html?highlight=max#max)\n",
        "2. [min線上說明文件](https://docs.python.org/3/library/functions.html?highlight=min#min)"
      ],
      "metadata": {
        "id": "UjTVKWDKzQLq"
      }
    },
    {
      "cell_type": "code",
      "source": [
        "mylist = [10,20,30,40,100]"
      ],
      "metadata": {
        "id": "YoSAMqCyzMZs"
      },
      "execution_count": null,
      "outputs": []
    },
    {
      "cell_type": "code",
      "source": [
        "min(mylist)"
      ],
      "metadata": {
        "colab": {
          "base_uri": "https://localhost:8080/"
        },
        "id": "vKLC0TqyzWrQ",
        "outputId": "7bd2b6d7-6dfd-4a98-c0c9-a17b8996d6b6"
      },
      "execution_count": null,
      "outputs": [
        {
          "output_type": "execute_result",
          "data": {
            "text/plain": [
              "10"
            ]
          },
          "metadata": {},
          "execution_count": 16
        }
      ]
    },
    {
      "cell_type": "code",
      "source": [
        "max(mylist)"
      ],
      "metadata": {
        "colab": {
          "base_uri": "https://localhost:8080/"
        },
        "id": "OAXVBVz-zYqL",
        "outputId": "3b018ee7-8a1c-4f60-d8e4-fcec888cd0ee"
      },
      "execution_count": null,
      "outputs": [
        {
          "output_type": "execute_result",
          "data": {
            "text/plain": [
              "100"
            ]
          },
          "metadata": {},
          "execution_count": 17
        }
      ]
    },
    {
      "cell_type": "markdown",
      "source": [
        "## 6.random\n",
        "[random線上說明文件](https://docs.python.org/3/library/random.html?highlight=random#module-random)"
      ],
      "metadata": {
        "id": "fw_pAsgGze07"
      }
    },
    {
      "cell_type": "code",
      "source": [
        "from random import shuffle"
      ],
      "metadata": {
        "id": "lRzDHHzTzkAI"
      },
      "execution_count": null,
      "outputs": []
    },
    {
      "cell_type": "code",
      "source": [
        "shuffle(mylist)"
      ],
      "metadata": {
        "id": "28iVq_GI0_vf"
      },
      "execution_count": null,
      "outputs": []
    },
    {
      "cell_type": "code",
      "source": [
        "mylist"
      ],
      "metadata": {
        "colab": {
          "base_uri": "https://localhost:8080/"
        },
        "id": "JM0MEJO61ANc",
        "outputId": "7689b7dc-8478-4fd9-bcba-9bea269684d4"
      },
      "execution_count": null,
      "outputs": [
        {
          "output_type": "execute_result",
          "data": {
            "text/plain": [
              "[100, 40, 10, 20, 30]"
            ]
          },
          "metadata": {},
          "execution_count": 20
        }
      ]
    },
    {
      "cell_type": "code",
      "source": [
        "from random import randint"
      ],
      "metadata": {
        "id": "IYRalpMb1CBg"
      },
      "execution_count": null,
      "outputs": []
    },
    {
      "cell_type": "code",
      "source": [
        "# 回傳0~100之間的整數，0和100都包含在內.\n",
        "randint(0,100)"
      ],
      "metadata": {
        "colab": {
          "base_uri": "https://localhost:8080/"
        },
        "id": "jLnW3QRE1Dwo",
        "outputId": "1b647661-7c9c-47bd-eed4-7f3936e440d5"
      },
      "execution_count": null,
      "outputs": [
        {
          "output_type": "execute_result",
          "data": {
            "text/plain": [
              "1"
            ]
          },
          "metadata": {},
          "execution_count": 22
        }
      ]
    },
    {
      "cell_type": "code",
      "source": [
        "# 回傳0~100之間的整數，0和100都包含在內.\n",
        "randint(0,100)"
      ],
      "metadata": {
        "id": "WCCfx97W1GD8",
        "outputId": "a19e2da1-db3b-4c33-c09c-a6ecdd23d647",
        "colab": {
          "base_uri": "https://localhost:8080/"
        }
      },
      "execution_count": null,
      "outputs": [
        {
          "output_type": "execute_result",
          "data": {
            "text/plain": [
              "58"
            ]
          },
          "metadata": {},
          "execution_count": 23
        }
      ]
    },
    {
      "cell_type": "code",
      "source": [],
      "metadata": {
        "id": "mdK4yyRL1Hrb"
      },
      "execution_count": null,
      "outputs": []
    }
  ]
}