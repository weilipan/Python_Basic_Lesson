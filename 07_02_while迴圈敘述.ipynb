{
  "nbformat": 4,
  "nbformat_minor": 0,
  "metadata": {
    "colab": {
      "name": "07_02 while迴圈敘述.ipynb",
      "provenance": [],
      "collapsed_sections": [],
      "toc_visible": true,
      "include_colab_link": true
    },
    "kernelspec": {
      "name": "python3",
      "display_name": "Python 3"
    },
    "language_info": {
      "name": "python"
    }
  },
  "cells": [
    {
      "cell_type": "markdown",
      "metadata": {
        "id": "view-in-github",
        "colab_type": "text"
      },
      "source": [
        "<a href=\"https://colab.research.google.com/github/weilipan/Python_Basic_Lesson/blob/111course/07_02_while%E8%BF%B4%E5%9C%88%E6%95%98%E8%BF%B0.ipynb\" target=\"_parent\"><img src=\"https://colab.research.google.com/assets/colab-badge.svg\" alt=\"Open In Colab\"/></a>"
      ]
    },
    {
      "cell_type": "markdown",
      "source": [
        "# while 迴圈敘述\n",
        "while敘述也是常用敘述，結構如下:\n",
        "```\n",
        "while test:\n",
        "    code statements\n",
        "else:\n",
        "    final code statements\n",
        "```\n",
        "\n"
      ],
      "metadata": {
        "id": "Uu8dDZrn46pg"
      }
    },
    {
      "cell_type": "code",
      "source": [
        "x = 0\n",
        "\n",
        "while x < 10: #當x小於10時會執行下面3行\n",
        "    print('x is currently: ',x)\n",
        "    print(' x is still less than 10, adding 1 to x')\n",
        "    x+=1"
      ],
      "metadata": {
        "colab": {
          "base_uri": "https://localhost:8080/"
        },
        "id": "mW7soSwA5LV7",
        "outputId": "15b594c6-9d68-45d6-f48e-294174e4a82a"
      },
      "execution_count": null,
      "outputs": [
        {
          "output_type": "stream",
          "name": "stdout",
          "text": [
            "x is currently:  0\n",
            " x is still less than 10, adding 1 to x\n",
            "x is currently:  1\n",
            " x is still less than 10, adding 1 to x\n",
            "x is currently:  2\n",
            " x is still less than 10, adding 1 to x\n",
            "x is currently:  3\n",
            " x is still less than 10, adding 1 to x\n",
            "x is currently:  4\n",
            " x is still less than 10, adding 1 to x\n",
            "x is currently:  5\n",
            " x is still less than 10, adding 1 to x\n",
            "x is currently:  6\n",
            " x is still less than 10, adding 1 to x\n",
            "x is currently:  7\n",
            " x is still less than 10, adding 1 to x\n",
            "x is currently:  8\n",
            " x is still less than 10, adding 1 to x\n",
            "x is currently:  9\n",
            " x is still less than 10, adding 1 to x\n"
          ]
        }
      ]
    },
    {
      "cell_type": "markdown",
      "source": [
        "若是```while``` 迴圈完整走訪完畢無任何異常狀況跳脫出迴圈的話，則在迴圈結束後會再執行```else```敘述:"
      ],
      "metadata": {
        "id": "OH2AlcFg5RSU"
      }
    },
    {
      "cell_type": "code",
      "source": [
        "x = 0\n",
        "\n",
        "while x < 10:\n",
        "    print('x is currently: ',x)\n",
        "    print(' x is still less than 10, adding 1 to x')\n",
        "    x+=1\n",
        "    \n",
        "else:\n",
        "    print('All Done!')"
      ],
      "metadata": {
        "id": "XV6e4cJz5NfG"
      },
      "execution_count": null,
      "outputs": []
    },
    {
      "cell_type": "markdown",
      "source": [
        "# break, continue, pass\n",
        "我們使用 ```break```, ```continue```, and ```pass``` 敘述來處理迴圈中的特殊狀況\n",
        " break: 直接離開目前執行的這層迴圈Breaks out of the current closest enclosing loop.（因為可能有巢狀迴圈的情況，所以break只離開最近的那層迴圈）\n",
        "```\n",
        "continue: 直接跳脫本次迴圈直接逕行下一次的迴圈，就是回到本層迴圈的第一行敘述，進行下一輪迴圈。Goes to the top of the closest enclosing loop.\n",
        "```\n",
        "```\n",
        "pass: 什麼都不做。Does nothing at all.（什麼都不做，那要它幹嘛，通常只是拿來做為標註之用，表示這個區段有其他事情要做，只是目前沒想到，所以我們留個pass語法在這裡提醒自己有事要做）\n",
        "```\n",
        "    "
      ],
      "metadata": {
        "id": "EmVC4Hbp5bca"
      }
    },
    {
      "cell_type": "markdown",
      "source": [
        "三種語法```break``` and ```continue``` 的敘述結構通常長得像下面這樣:\n",
        "```\n",
        "while test: \n",
        "    code statement\n",
        "    if test:\n",
        "        code statement \n",
        "        break\n",
        "    if test:\n",
        "        code statement\n",
        "        continue \n",
        "else:\n",
        "    code statement\n",
        "```\n",
        "```break``` and ```continue``` 敘述有可能放在迴圈的任何地方，但我們通常會與條件判斷 ```if``` 敘述配合服用。"
      ],
      "metadata": {
        "id": "7a35g7Pm7VTa"
      }
    },
    {
      "cell_type": "code",
      "source": [
        "x = 0\n",
        "\n",
        "while x < 10:\n",
        "    print('x is currently: ',x)\n",
        "    print(' x is still less than 10, adding 1 to x')\n",
        "    x+=1\n",
        "    if x==3:\n",
        "        print('x==3')\n",
        "    else:\n",
        "        print('continuing...')\n",
        "        continue"
      ],
      "metadata": {
        "colab": {
          "base_uri": "https://localhost:8080/"
        },
        "id": "_exLVNqm5lFj",
        "outputId": "3d1b994e-c118-4ad8-a235-40a3ec230e15"
      },
      "execution_count": null,
      "outputs": [
        {
          "output_type": "stream",
          "name": "stdout",
          "text": [
            "x is currently:  0\n",
            " x is still less than 10, adding 1 to x\n",
            "continuing...\n",
            "x is currently:  1\n",
            " x is still less than 10, adding 1 to x\n",
            "continuing...\n",
            "x is currently:  2\n",
            " x is still less than 10, adding 1 to x\n",
            "x==3\n",
            "x is currently:  3\n",
            " x is still less than 10, adding 1 to x\n",
            "continuing...\n",
            "x is currently:  4\n",
            " x is still less than 10, adding 1 to x\n",
            "continuing...\n",
            "x is currently:  5\n",
            " x is still less than 10, adding 1 to x\n",
            "continuing...\n",
            "x is currently:  6\n",
            " x is still less than 10, adding 1 to x\n",
            "continuing...\n",
            "x is currently:  7\n",
            " x is still less than 10, adding 1 to x\n",
            "continuing...\n",
            "x is currently:  8\n",
            " x is still less than 10, adding 1 to x\n",
            "continuing...\n",
            "x is currently:  9\n",
            " x is still less than 10, adding 1 to x\n",
            "continuing...\n"
          ]
        }
      ]
    },
    {
      "cell_type": "markdown",
      "source": [
        "## 請注意下例我們在 ```if x==3:``` 的區塊加上 ```break```，看看有什麼不同。"
      ],
      "metadata": {
        "id": "KHLC13WC75fn"
      }
    },
    {
      "cell_type": "code",
      "source": [
        "x = 0\n",
        "\n",
        "while x < 10:\n",
        "    print('x is currently: ',x)\n",
        "    print(' x is still less than 10, adding 1 to x')\n",
        "    x+=1\n",
        "    if x==3:\n",
        "        print('Breaking because x==3')\n",
        "        break   #這裡加上break!\n",
        "    else:\n",
        "        print('continuing...')\n",
        "        continue"
      ],
      "metadata": {
        "colab": {
          "base_uri": "https://localhost:8080/"
        },
        "id": "Uuk7UV7Z73Z1",
        "outputId": "9f0b20eb-597e-4650-f71e-8045daf5cd71"
      },
      "execution_count": null,
      "outputs": [
        {
          "output_type": "stream",
          "name": "stdout",
          "text": [
            "x is currently:  0\n",
            " x is still less than 10, adding 1 to x\n",
            "continuing...\n",
            "x is currently:  1\n",
            " x is still less than 10, adding 1 to x\n",
            "continuing...\n",
            "x is currently:  2\n",
            " x is still less than 10, adding 1 to x\n",
            "Breaking because x==3\n"
          ]
        }
      ]
    },
    {
      "cell_type": "markdown",
      "source": [
        "**請注意不要產生無窮迴圈的情況，例如下面的例子：**"
      ],
      "metadata": {
        "id": "PUwTKjqV8DE8"
      }
    },
    {
      "cell_type": "code",
      "source": [
        "# 千萬不要執行這行敘述\n",
        "while True:\n",
        "    print(\"I'm stuck in an infinite loop!\")"
      ],
      "metadata": {
        "id": "FWNoWbI58A87"
      },
      "execution_count": null,
      "outputs": []
    },
    {
      "cell_type": "markdown",
      "source": [
        "如果你執行了上面那行敘述，只能重開jupyter lab了。"
      ],
      "metadata": {
        "id": "KVkFT18M8GR2"
      }
    }
  ]
}