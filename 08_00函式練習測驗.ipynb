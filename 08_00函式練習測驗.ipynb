{
  "nbformat": 4,
  "nbformat_minor": 0,
  "metadata": {
    "colab": {
      "name": "08_00函式練習測驗.ipynb",
      "provenance": [],
      "collapsed_sections": [],
      "toc_visible": true,
      "authorship_tag": "ABX9TyOhFPIS09UPYh9w4qzg8H6k",
      "include_colab_link": true
    },
    "kernelspec": {
      "name": "python3",
      "display_name": "Python 3"
    },
    "language_info": {
      "name": "python"
    }
  },
  "cells": [
    {
      "cell_type": "markdown",
      "metadata": {
        "id": "view-in-github",
        "colab_type": "text"
      },
      "source": [
        "<a href=\"https://colab.research.google.com/github/weilipan/Python_Basic_Lesson/blob/main/08_00%E5%87%BD%E5%BC%8F%E7%B7%B4%E7%BF%92%E6%B8%AC%E9%A9%97.ipynb\" target=\"_parent\"><img src=\"https://colab.research.google.com/assets/colab-badge.svg\" alt=\"Open In Colab\"/></a>"
      ]
    },
    {
      "cell_type": "markdown",
      "source": [
        "# 函式練習測驗 Function Practice Exercises\n",
        "\n",
        "由易至難的題目排序:\n",
        "* 熱身 - 知道如何使用基礎的比較與方法\n",
        "* 等級1 - 包括 if/then 條件敘述 和 簡單方法佭用\n",
        "* 等級2 - 包括迭代器與迴圈的使用\n",
        "* 挑戰題 - 要有點創意才能解決"
      ],
      "metadata": {
        "id": "RbY0t1gpSzKo"
      }
    },
    {
      "cell_type": "markdown",
      "source": [
        "## 熱身題1\n",
        "取偶數的最小值: 請寫一個函式，如果傳入的兩個參數都是偶數，則回傳較小的偶數。但如果兩數中其中之一不是偶數，則回傳較大的數。\n",
        "``` \n",
        "lesser_of_two_evens(2,4) --> 2\n",
        "lesser_of_two_evens(2,5) --> 5\n",
        "lesser_of_two_evens(6,5) --> 6\n",
        "```"
      ],
      "metadata": {
        "id": "vos0hBqSS2XN"
      }
    },
    {
      "cell_type": "code",
      "source": [
        "def lesser_of_two_evens(a,b):\n",
        "    pass"
      ],
      "metadata": {
        "id": "hwhdmNhreWV5"
      },
      "execution_count": null,
      "outputs": []
    },
    {
      "cell_type": "code",
      "source": [
        "# Check\n",
        "lesser_of_two_evens(2,4)"
      ],
      "metadata": {
        "id": "EpGNJQqWefEY"
      },
      "execution_count": null,
      "outputs": []
    },
    {
      "cell_type": "code",
      "source": [
        "# Check\n",
        "lesser_of_two_evens(2,5)"
      ],
      "metadata": {
        "id": "j-ZHm8ycegOp"
      },
      "execution_count": null,
      "outputs": []
    },
    {
      "cell_type": "code",
      "source": [
        "# Check\n",
        "lesser_of_two_evens(6,5)"
      ],
      "metadata": {
        "id": "HGE1doEiehWp"
      },
      "execution_count": null,
      "outputs": []
    },
    {
      "cell_type": "markdown",
      "source": [
        "## 熱身題2\n",
        "寫一個函式傳入兩種動物名稱，如果這兩種動物名稱首字皆為同一個字元，則回傳True，反之則回傳False.\n",
        "```\n",
        "animal_crackers('Levelheaded Llama') --> True\n",
        "animal_crackers('Crazy Kangaroo') --> False\n",
        "```"
      ],
      "metadata": {
        "id": "E2elFuyvemQQ"
      }
    },
    {
      "cell_type": "code",
      "source": [
        "def animal_crackers(text):\n",
        "    pass"
      ],
      "metadata": {
        "id": "vN0K9iqjeioR"
      },
      "execution_count": null,
      "outputs": []
    },
    {
      "cell_type": "code",
      "source": [
        "# Check\n",
        "animal_crackers('Levelheaded Llama')"
      ],
      "metadata": {
        "id": "PXfV9fMqe2Mx"
      },
      "execution_count": null,
      "outputs": []
    },
    {
      "cell_type": "code",
      "source": [
        "# Check\n",
        "animal_crackers('Crazy Kangaroo')"
      ],
      "metadata": {
        "id": "gto06Vzee3dh"
      },
      "execution_count": null,
      "outputs": []
    },
    {
      "cell_type": "markdown",
      "source": [
        "## 熱身題3\n",
        "學程式設計的16歲: 寫一個函式傳入兩個數字，如果這兩數的和為16 *或* 其中一數為16，則回傳True，不然就回傳False. \n",
        "```\n",
        "makes_16(16,10) --> True\n",
        "makes_16(12,4) --> True\n",
        "makes_16(2,3) --> False\n",
        "```"
      ],
      "metadata": {
        "id": "rNf43bLEe7AO"
      }
    },
    {
      "cell_type": "code",
      "source": [
        "def makes_16(n1,n2):\n",
        "    pass"
      ],
      "metadata": {
        "id": "Hm18vI7Oe4jJ"
      },
      "execution_count": null,
      "outputs": []
    },
    {
      "cell_type": "code",
      "source": [
        "# Check\n",
        "makes_16(16,10)"
      ],
      "metadata": {
        "id": "gXDeLCCJfC5S"
      },
      "execution_count": null,
      "outputs": []
    },
    {
      "cell_type": "code",
      "source": [
        "# Check\n",
        "makes_16(12,4)"
      ],
      "metadata": {
        "id": "FpnVU9KSfEIR"
      },
      "execution_count": null,
      "outputs": []
    },
    {
      "cell_type": "code",
      "source": [
        "makes_16(2,3)"
      ],
      "metadata": {
        "id": "L9ne8tQ4fFJK"
      },
      "execution_count": null,
      "outputs": []
    },
    {
      "cell_type": "markdown",
      "source": [
        "# 等級1試鍊"
      ],
      "metadata": {
        "id": "ptzZ2I81fK5c"
      }
    },
    {
      "cell_type": "markdown",
      "source": [
        "## 第1題：大寫回傳\n",
        "#### 寫一個函式可以將傳入的字串中第1個和第4個字轉換為大寫回傳。     \n",
        "    old_macdonald('macdonald') --> MacDonald\n",
        "    \n",
        "Note: `'macdonald'.capitalize()` returns `'Macdonald'`"
      ],
      "metadata": {
        "id": "7BCWZhNgfRPv"
      }
    },
    {
      "cell_type": "code",
      "source": [
        "def old_macdonald(name):\n",
        "    pass"
      ],
      "metadata": {
        "id": "q2nK0AtsfGQp"
      },
      "execution_count": null,
      "outputs": []
    },
    {
      "cell_type": "code",
      "source": [
        "# Check\n",
        "old_macdonald('macdonald')"
      ],
      "metadata": {
        "id": "Ow8BrDbJfhPZ"
      },
      "execution_count": null,
      "outputs": []
    },
    {
      "cell_type": "code",
      "source": [
        "# Check\n",
        "old_macdonald('kentucky')"
      ],
      "metadata": {
        "id": "LLx727uPfiap"
      },
      "execution_count": null,
      "outputs": []
    },
    {
      "cell_type": "markdown",
      "source": [
        "## 第2題：尤達原力\n",
        "尤達的原力：寫一個函式，傳入一段句子，你要利用原力將這段句子反向印出\n",
        "\n",
        "    master_yoda('I am home') --> 'home am I'\n",
        "    master_yoda('We are ready') --> 'ready are We'\n",
        "    \n",
        "Note: 可以使用join()。The .join() method may be useful here. The .join() method allows you to join together strings in a list with some connector string. For example, some uses of the .join() method:\n",
        "\n",
        "    >>> \"--\".join(['a','b','c'])\n",
        "    >>> 'a--b--c'\n",
        "\n",
        "This means if you had a list of words you wanted to turn back into a sentence, you could just join them with a single space string:\n",
        "\n",
        "    >>> \" \".join(['Hello','world'])\n",
        "    >>> \"Hello world\""
      ],
      "metadata": {
        "id": "t1ICksdsfkpk"
      }
    },
    {
      "cell_type": "code",
      "source": [
        "def master_yoda(text):\n",
        "    pass"
      ],
      "metadata": {
        "id": "mmKmi751fjbZ"
      },
      "execution_count": null,
      "outputs": []
    },
    {
      "cell_type": "code",
      "source": [
        "# Check\n",
        "master_yoda('I am home')"
      ],
      "metadata": {
        "id": "7JUW6uZQfv3h"
      },
      "execution_count": null,
      "outputs": []
    },
    {
      "cell_type": "code",
      "source": [
        "# Check\n",
        "master_yoda('We are ready')"
      ],
      "metadata": {
        "id": "mbfPrPc5fw6B"
      },
      "execution_count": null,
      "outputs": []
    },
    {
      "cell_type": "markdown",
      "source": [
        "## 第3題：判斷差距\n",
        "傳入一個整數，如果這個整數在數線上的距離與100或200差距在10以內，則回傳True,其餘情況下回傳False。\n",
        "\n",
        "    almost_there(90) --> True\n",
        "    almost_there(104) --> True\n",
        "    almost_there(150) --> False\n",
        "    almost_there(209) --> True\n",
        "    \n",
        "NOTE: `abs(num)` returns the absolute value of a number"
      ],
      "metadata": {
        "id": "rkon5GRaf0NO"
      }
    },
    {
      "cell_type": "code",
      "source": [
        "def almost_there(n):\n",
        "    pass"
      ],
      "metadata": {
        "id": "1E9OUrPZfx4p"
      },
      "execution_count": null,
      "outputs": []
    },
    {
      "cell_type": "code",
      "source": [
        "# Check\n",
        "almost_there(104)"
      ],
      "metadata": {
        "id": "W6yC8vGef8Yp"
      },
      "execution_count": null,
      "outputs": []
    },
    {
      "cell_type": "code",
      "source": [
        "# Check\n",
        "almost_there(150)"
      ],
      "metadata": {
        "id": "h-65N9O8f9YZ"
      },
      "execution_count": null,
      "outputs": []
    },
    {
      "cell_type": "code",
      "source": [
        "# Check\n",
        "almost_there(209)"
      ],
      "metadata": {
        "id": "omS78qPcf-3Z"
      },
      "execution_count": null,
      "outputs": []
    },
    {
      "cell_type": "markdown",
      "source": [
        "# 等級2試鍊"
      ],
      "metadata": {
        "id": "bxU4XMqpgKmE"
      }
    },
    {
      "cell_type": "markdown",
      "source": [
        "## 第1題：找到33 \n",
        "\n",
        "傳入一個整數串列，如果串列中有兩個3相鄰的話，則回傳True，反之則回傳False。\n",
        "\n",
        "    has_33([1, 3, 3]) → True\n",
        "    has_33([1, 3, 1, 3]) → False\n",
        "    has_33([3, 1, 3]) → False\n",
        "    \n",
        "提示：可以使用index()"
      ],
      "metadata": {
        "id": "hY2EztE-gW26"
      }
    },
    {
      "cell_type": "code",
      "source": [
        "def has_33(nums):\n",
        "    pass"
      ],
      "metadata": {
        "id": "l0sWDhK1f_7B"
      },
      "execution_count": null,
      "outputs": []
    },
    {
      "cell_type": "code",
      "source": [
        "# Check\n",
        "has_33([1, 3, 3])"
      ],
      "metadata": {
        "id": "7IairCCGggbI"
      },
      "execution_count": null,
      "outputs": []
    },
    {
      "cell_type": "code",
      "source": [
        "# Check\n",
        "has_33([1, 3, 1, 3])"
      ],
      "metadata": {
        "id": "9VqIleGMgi-F"
      },
      "execution_count": null,
      "outputs": []
    },
    {
      "cell_type": "code",
      "source": [
        "# Check\n",
        "has_33([3, 1, 3])"
      ],
      "metadata": {
        "id": "aog7ShLuglxc"
      },
      "execution_count": null,
      "outputs": []
    },
    {
      "cell_type": "markdown",
      "source": [
        "## 第2題：逆襲的夏亞\n",
        "傳入一個字串，回傳一個字串將原字串所有的字皆回三倍數回傳。\n",
        "```\n",
        "paper_doll('Hello') --> 'HHHeeellllllooo'\n",
        "paper_doll('Mississippi') --> 'MMMiiissssssiiippppppiii'\n",
        "```\n",
        "    \n",
        "傳說中夏亞只要駕駛到紅色機體，所有動作變成3倍數"
      ],
      "metadata": {
        "id": "P6RiefG6gpgt"
      }
    },
    {
      "cell_type": "code",
      "source": [
        "def paper_doll(text):\n",
        "    pass"
      ],
      "metadata": {
        "id": "I-RgK_vNgnY9"
      },
      "execution_count": null,
      "outputs": []
    },
    {
      "cell_type": "code",
      "source": [
        "# Check\n",
        "paper_doll('Hello')"
      ],
      "metadata": {
        "id": "p9SLIHXgg2Gs"
      },
      "execution_count": null,
      "outputs": []
    },
    {
      "cell_type": "code",
      "source": [
        "# Check\n",
        "paper_doll('Mississippi')"
      ],
      "metadata": {
        "id": "-bSXsXxxg3Yc"
      },
      "execution_count": null,
      "outputs": []
    },
    {
      "cell_type": "markdown",
      "source": [
        "## 第3題：BLACKJACK\n",
        "傳入3個整數，每個整數範圍介於1和11之間，如果總和小於或等於21，則回傳3個數字的總和。如果總和超過21，同時3個數字中有1個11的話，則將總和減11。如果在前述的調整都做完之後，總和仍然大於21，則回傳 'BUST'.\n",
        "```\n",
        "blackjack(5,6,7) --> 18\n",
        "blackjack(9,9,9) --> 'BUST'\n",
        "blackjack(9,9,11) --> 19\n",
        "```"
      ],
      "metadata": {
        "id": "4XbigC9shWV1"
      }
    },
    {
      "cell_type": "code",
      "source": [
        "def blackjack(a,b,c):\n",
        "    pass"
      ],
      "metadata": {
        "id": "Y-MUfcqyg4iM"
      },
      "execution_count": null,
      "outputs": []
    },
    {
      "cell_type": "code",
      "source": [
        "# Check\n",
        "blackjack(5,6,7)"
      ],
      "metadata": {
        "id": "0zYM4-wnhgRr"
      },
      "execution_count": null,
      "outputs": []
    },
    {
      "cell_type": "code",
      "source": [
        "# Check\n",
        "blackjack(9,9,9)"
      ],
      "metadata": {
        "id": "l3JpoREKhhZk"
      },
      "execution_count": null,
      "outputs": []
    },
    {
      "cell_type": "code",
      "source": [
        "# Check\n",
        "blackjack(9,9,11)"
      ],
      "metadata": {
        "id": "eqJiwQi8him0"
      },
      "execution_count": null,
      "outputs": []
    },
    {
      "cell_type": "markdown",
      "source": [
        "## 第4題：整數計算\n",
        "將傳入的整數串列中的整數都加起來，但是串列中6與9之間數字都不要加進去（測資中6後面若干數字後一定至少會有一個9）。如果沒有數字則回傳0。\n",
        "```\n",
        "summer_69([1, 3, 5]) --> 9\n",
        "summer_69([4, 5, 6, 7, 8, 9]) --> 9\n",
        "summer_69([2, 1, 6, 9, 11]) --> 14\n",
        "summer_69([6, 1, 6, 2, 9]) --> 0\n",
        "```"
      ],
      "metadata": {
        "id": "OzsHy3zMhn0a"
      }
    },
    {
      "cell_type": "code",
      "source": [
        "def summer_69(arr):\n",
        "    pass"
      ],
      "metadata": {
        "id": "fi4zqNVvhjtM"
      },
      "execution_count": null,
      "outputs": []
    },
    {
      "cell_type": "code",
      "source": [
        "# Check\n",
        "summer_69([1, 3, 5])"
      ],
      "metadata": {
        "id": "PFkjyJ-Lh8E9"
      },
      "execution_count": null,
      "outputs": []
    },
    {
      "cell_type": "code",
      "source": [
        "# Check\n",
        "summer_69([4, 5, 6, 7, 8, 9])"
      ],
      "metadata": {
        "id": "3qk00mqHh9g0"
      },
      "execution_count": null,
      "outputs": []
    },
    {
      "cell_type": "code",
      "source": [
        "# Check\n",
        "summer_69([2, 1, 6, 9, 11])"
      ],
      "metadata": {
        "id": "dzvMCrlnh-ol"
      },
      "execution_count": null,
      "outputs": []
    },
    {
      "cell_type": "code",
      "source": [
        "# Check\n",
        "summer_69([6, 1, 6, 2, 9])"
      ],
      "metadata": {
        "id": "vGbrSqMhh_0N"
      },
      "execution_count": null,
      "outputs": []
    },
    {
      "cell_type": "markdown",
      "source": [
        "# 最高試鍊"
      ],
      "metadata": {
        "id": "tETt7zsKiDkb"
      }
    },
    {
      "cell_type": "markdown",
      "source": [
        "## 第1題：007特務\n",
        "寫一個函式可以抓去串列中含有007序列的狀況\n",
        "```\n",
        "spy_game([1,2,4,0,0,7,5]) --> True\n",
        "spy_game([1,0,2,4,0,5,7]) --> True\n",
        "spy_game([1,7,2,0,4,5,0]) --> False\n",
        "```\n"
      ],
      "metadata": {
        "id": "iUhJ6CkkiJ47"
      }
    },
    {
      "cell_type": "code",
      "source": [
        "def spy_game(nums):\n",
        "    pass"
      ],
      "metadata": {
        "id": "MvQTfUcGiBFF"
      },
      "execution_count": null,
      "outputs": []
    },
    {
      "cell_type": "code",
      "source": [
        "# Check\n",
        "spy_game([1,2,4,0,0,7,5])"
      ],
      "metadata": {
        "id": "qI1akOH1iWrF"
      },
      "execution_count": null,
      "outputs": []
    },
    {
      "cell_type": "code",
      "source": [
        "# Check\n",
        "spy_game([1,0,2,4,0,5,7])"
      ],
      "metadata": {
        "id": "eN0nXzEPiXyc"
      },
      "execution_count": null,
      "outputs": []
    },
    {
      "cell_type": "code",
      "source": [
        "# Check\n",
        "spy_game([1,7,2,0,4,5,0])"
      ],
      "metadata": {
        "id": "Qwv-sOUSiZft"
      },
      "execution_count": null,
      "outputs": []
    },
    {
      "cell_type": "markdown",
      "source": [
        "## 第2題：計算質數數量\n",
        "寫一個函式傳入的一個整數，請計算出小於等於此整數中的質數數量。(0和1不是質數)\n",
        "```\n",
        "count_primes(100) --> 25\n",
        "```\n"
      ],
      "metadata": {
        "id": "u-fnJjP9if0W"
      }
    },
    {
      "cell_type": "code",
      "source": [
        "def is_primes(n):\n",
        "    pass\n",
        "def count_primes(num):\n",
        "    pass"
      ],
      "metadata": {
        "id": "NPDWnRlmiaxt"
      },
      "execution_count": null,
      "outputs": []
    },
    {
      "cell_type": "code",
      "source": [
        "# Check\n",
        "count_primes(100)"
      ],
      "metadata": {
        "id": "4LwyKddZisWc"
      },
      "execution_count": null,
      "outputs": []
    },
    {
      "cell_type": "markdown",
      "source": [
        "第3題：Just for fun\n",
        "PRINT BIG: 寫一個函式傳入一個字元，回傳一個5*5放大過後的字元，以A而言如下：\n",
        "```\n",
        "    print_big('a')\n",
        "    \n",
        "    out:   *  \n",
        "          * *\n",
        "         *****\n",
        "         *   *\n",
        "         *   *\n",
        "```\n",
        "HINT: 可以建立一個字典來儲存可能的圖像，如果26個字元太多，可以做到E就好。"
      ],
      "metadata": {
        "id": "t8z3GCwbkFha"
      }
    },
    {
      "cell_type": "code",
      "source": [
        "def print_big(letter):\n",
        "    pass"
      ],
      "metadata": {
        "id": "AoXYGzH0iuEl"
      },
      "execution_count": null,
      "outputs": []
    },
    {
      "cell_type": "code",
      "source": [
        "print_big('a')"
      ],
      "metadata": {
        "id": "k9tI03qhm9Cs"
      },
      "execution_count": null,
      "outputs": []
    },
    {
      "cell_type": "markdown",
      "source": [
        "Great Job!"
      ],
      "metadata": {
        "id": "4fQ0xYitm_aw"
      }
    },
    {
      "cell_type": "code",
      "source": [
        ""
      ],
      "metadata": {
        "id": "LdA26xDLnA19"
      },
      "execution_count": null,
      "outputs": []
    }
  ]
}