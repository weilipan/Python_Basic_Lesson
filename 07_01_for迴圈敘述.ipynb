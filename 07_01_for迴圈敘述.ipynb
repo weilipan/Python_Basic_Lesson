{
  "nbformat": 4,
  "nbformat_minor": 0,
  "metadata": {
    "colab": {
      "name": "07_01 for迴圈敘述.ipynb",
      "provenance": [],
      "toc_visible": true,
      "authorship_tag": "ABX9TyOcJsuTbATm//8MnAtlJ73V",
      "include_colab_link": true
    },
    "kernelspec": {
      "name": "python3",
      "display_name": "Python 3"
    },
    "language_info": {
      "name": "python"
    }
  },
  "cells": [
    {
      "cell_type": "markdown",
      "metadata": {
        "id": "view-in-github",
        "colab_type": "text"
      },
      "source": [
        "<a href=\"https://colab.research.google.com/github/weilipan/Python_Basic_Lesson/blob/main/07_01_for%E8%BF%B4%E5%9C%88%E6%95%98%E8%BF%B0.ipynb\" target=\"_parent\"><img src=\"https://colab.research.google.com/assets/colab-badge.svg\" alt=\"Open In Colab\"/></a>"
      ]
    },
    {
      "cell_type": "markdown",
      "source": [
        "# for迴圈敘述\n",
        "<code>for</code>迴圈像是Python的迭代器之一。利用for可以走訪序列 *sequence* 型態資料結構與其他可以迭代的項目，如：字串string，串列list，元組tuple，或字典dict的keys或values。\n",
        "\n",
        "<code>for</code> loop in Python的基本語法結構如下:\n",
        "\n",
        "    for item in object:\n",
        "        statements to do stuff"
      ],
      "metadata": {
        "id": "iCOLDrVycwHf"
      }
    },
    {
      "cell_type": "markdown",
      "source": [
        "## Example1:利用for迴圈走訪串列"
      ],
      "metadata": {
        "id": "x0DJz8NPeXLu"
      }
    },
    {
      "cell_type": "code",
      "source": [
        "\n",
        "list1=[1,2,3,4,5,6,7,8,9]\n",
        "for num in list1:  #變數的取名方式最好要有意義，以利於後續除錯時使用。\n",
        "    print(num)"
      ],
      "metadata": {
        "colab": {
          "base_uri": "https://localhost:8080/"
        },
        "id": "Bf4-x09Cdwwa",
        "outputId": "290a9dc1-b54b-4699-9665-e4c7318e4091"
      },
      "execution_count": 2,
      "outputs": [
        {
          "output_type": "stream",
          "name": "stdout",
          "text": [
            "1\n",
            "2\n",
            "3\n",
            "4\n",
            "5\n",
            "6\n",
            "7\n",
            "8\n",
            "9\n"
          ]
        }
      ]
    },
    {
      "cell_type": "markdown",
      "source": [
        "## Example2:印出list當中的偶數"
      ],
      "metadata": {
        "id": "1m7Ao5OSeeCN"
      }
    },
    {
      "cell_type": "code",
      "source": [
        "for num in list1:\n",
        "    if num % 2 == 0:\n",
        "        print(f'{num} 是偶數')"
      ],
      "metadata": {
        "colab": {
          "base_uri": "https://localhost:8080/"
        },
        "id": "QP5Q7c1eeRgJ",
        "outputId": "07616ad8-cbc5-4001-dc17-bc01c1160ead"
      },
      "execution_count": 9,
      "outputs": [
        {
          "output_type": "stream",
          "name": "stdout",
          "text": [
            "2 是偶數\n",
            "4 是偶數\n",
            "6 是偶數\n",
            "8 是偶數\n"
          ]
        }
      ]
    },
    {
      "cell_type": "markdown",
      "source": [
        "## Example3:印出list當中的奇數和偶數"
      ],
      "metadata": {
        "id": "0kZkmekBe1K-"
      }
    },
    {
      "cell_type": "code",
      "source": [
        "for num in list1:\n",
        "    if num % 2 == 0:\n",
        "        print(f'{num} 是偶數')\n",
        "    else:\n",
        "        print(f'{num} 是奇數')"
      ],
      "metadata": {
        "id": "bAK8IZQBenVv",
        "colab": {
          "base_uri": "https://localhost:8080/"
        },
        "outputId": "2854830e-024e-4212-edf8-e0a70396caec"
      },
      "execution_count": 10,
      "outputs": [
        {
          "output_type": "stream",
          "name": "stdout",
          "text": [
            "1 是奇數\n",
            "2 是偶數\n",
            "3 是奇數\n",
            "4 是偶數\n",
            "5 是奇數\n",
            "6 是偶數\n",
            "7 是奇數\n",
            "8 是偶數\n",
            "9 是奇數\n"
          ]
        }
      ]
    },
    {
      "cell_type": "markdown",
      "source": [
        "## Example4:利用 <code>for</code> loop 處理總和:"
      ],
      "metadata": {
        "id": "nzE-j8m6tpO_"
      }
    },
    {
      "cell_type": "code",
      "source": [
        "# Start sum at zero\n",
        "list_sum = 0 \n",
        "\n",
        "for num in list1:\n",
        "    list_sum = list_sum + num\n",
        "\n",
        "print(list_sum)"
      ],
      "metadata": {
        "colab": {
          "base_uri": "https://localhost:8080/"
        },
        "id": "lvqegLcTfXcd",
        "outputId": "9572c3af-774d-4ce5-b391-86bffd4b8961"
      },
      "execution_count": 3,
      "outputs": [
        {
          "output_type": "stream",
          "name": "stdout",
          "text": [
            "45\n"
          ]
        }
      ]
    },
    {
      "cell_type": "code",
      "source": [
        "# 利用+=改寫上面的範例\n",
        "list_sum = 0 \n",
        "\n",
        "for num in list1:\n",
        "    list_sum += num\n",
        "\n",
        "print(list_sum)"
      ],
      "metadata": {
        "colab": {
          "base_uri": "https://localhost:8080/"
        },
        "id": "EN4NCkU6uLJP",
        "outputId": "d424ed73-8edb-4839-e5bc-65e6cf1b723d"
      },
      "execution_count": 4,
      "outputs": [
        {
          "output_type": "stream",
          "name": "stdout",
          "text": [
            "45\n"
          ]
        }
      ]
    },
    {
      "cell_type": "markdown",
      "source": [
        "## Example5:利用```for```迴圈處理字串"
      ],
      "metadata": {
        "id": "ti3zKRQNuhWi"
      }
    },
    {
      "cell_type": "code",
      "source": [
        "for letter in 'This is a string.':\n",
        "    print(letter)"
      ],
      "metadata": {
        "colab": {
          "base_uri": "https://localhost:8080/"
        },
        "id": "sJcJOypNufEP",
        "outputId": "ba0365df-64f3-4c69-ee85-7eb1c5523cac"
      },
      "execution_count": 5,
      "outputs": [
        {
          "output_type": "stream",
          "name": "stdout",
          "text": [
            "T\n",
            "h\n",
            "i\n",
            "s\n",
            " \n",
            "i\n",
            "s\n",
            " \n",
            "a\n",
            " \n",
            "s\n",
            "t\n",
            "r\n",
            "i\n",
            "n\n",
            "g\n",
            ".\n"
          ]
        }
      ]
    },
    {
      "cell_type": "markdown",
      "source": [
        "## Example6:利用```for```迴圈處理tuple"
      ],
      "metadata": {
        "id": "0VQWZh6-u3RZ"
      }
    },
    {
      "cell_type": "code",
      "source": [
        "tup = (1,2,3,4,5)\n",
        "\n",
        "for t in tup:\n",
        "    print(t)"
      ],
      "metadata": {
        "colab": {
          "base_uri": "https://localhost:8080/"
        },
        "id": "7RJVzOoBup4e",
        "outputId": "fb8e3b7d-d7b6-428b-a8a7-9a7852b49bb9"
      },
      "execution_count": 6,
      "outputs": [
        {
          "output_type": "stream",
          "name": "stdout",
          "text": [
            "1\n",
            "2\n",
            "3\n",
            "4\n",
            "5\n"
          ]
        }
      ]
    },
    {
      "cell_type": "markdown",
      "source": [
        "## Example7:<code>for</code> 走訪含有tuples的list"
      ],
      "metadata": {
        "id": "17OlkPHfyeYD"
      }
    },
    {
      "cell_type": "code",
      "source": [
        "list2 = [(2,4),(6,8),(10,12)]"
      ],
      "metadata": {
        "id": "Tb7pfXjaydso"
      },
      "execution_count": 7,
      "outputs": []
    },
    {
      "cell_type": "code",
      "source": [
        "for tup in list2:\n",
        "    print(tup)"
      ],
      "metadata": {
        "colab": {
          "base_uri": "https://localhost:8080/"
        },
        "id": "PJrCWGsryrcm",
        "outputId": "b61f0fc0-3060-43e3-cb49-15cbd98d42ac"
      },
      "execution_count": 8,
      "outputs": [
        {
          "output_type": "stream",
          "name": "stdout",
          "text": [
            "(2, 4)\n",
            "(6, 8)\n",
            "(10, 12)\n"
          ]
        }
      ]
    },
    {
      "cell_type": "code",
      "source": [
        "# Now with unpacking!\n",
        "for (t1,t2) in list2:\n",
        "    print(t1)"
      ],
      "metadata": {
        "colab": {
          "base_uri": "https://localhost:8080/"
        },
        "id": "-tPU0sepywpD",
        "outputId": "3d9f2c32-57c1-495d-9c35-34770f57837f"
      },
      "execution_count": 9,
      "outputs": [
        {
          "output_type": "stream",
          "name": "stdout",
          "text": [
            "2\n",
            "6\n",
            "10\n"
          ]
        }
      ]
    },
    {
      "cell_type": "code",
      "source": [
        "# Now with unpacking!\n",
        "for (t1,t2) in list2:\n",
        "    print(t1,t2)"
      ],
      "metadata": {
        "colab": {
          "base_uri": "https://localhost:8080/"
        },
        "id": "R52H3EW8yyyd",
        "outputId": "04e3994d-c456-4ffc-ae77-86266aa653a0"
      },
      "execution_count": 10,
      "outputs": [
        {
          "output_type": "stream",
          "name": "stdout",
          "text": [
            "2 4\n",
            "6 8\n",
            "10 12\n"
          ]
        }
      ]
    },
    {
      "cell_type": "code",
      "source": [
        "# Now with unpacking!\n",
        "for (t1,t2) in list2:\n",
        "    print(t1+t2)"
      ],
      "metadata": {
        "colab": {
          "base_uri": "https://localhost:8080/"
        },
        "id": "PXJGhuayzIFe",
        "outputId": "eae4c529-809e-49df-8728-dfe33189c6e6"
      },
      "execution_count": 11,
      "outputs": [
        {
          "output_type": "stream",
          "name": "stdout",
          "text": [
            "6\n",
            "14\n",
            "22\n"
          ]
        }
      ]
    },
    {
      "cell_type": "markdown",
      "source": [
        "## Example8:利用for迴圈處理字典dict"
      ],
      "metadata": {
        "id": "tsdlwySDytb6"
      }
    },
    {
      "cell_type": "code",
      "source": [
        "d = {'k1':1,'k2':2,'k3':3}"
      ],
      "metadata": {
        "id": "WaXhYWNSysqu"
      },
      "execution_count": 12,
      "outputs": []
    },
    {
      "cell_type": "code",
      "source": [
        "for item in d:\n",
        "    print(item)"
      ],
      "metadata": {
        "colab": {
          "base_uri": "https://localhost:8080/"
        },
        "id": "tQEiXEVczReO",
        "outputId": "1e72a4db-8c96-4191-afe5-d5cfb5fa7203"
      },
      "execution_count": 13,
      "outputs": [
        {
          "output_type": "stream",
          "name": "stdout",
          "text": [
            "k1\n",
            "k2\n",
            "k3\n"
          ]
        }
      ]
    },
    {
      "cell_type": "markdown",
      "source": [
        "上面取出的是keys?  \n",
        "字典dict的三個基本內建方法: **.keys()**, **.values()** and **.items()**  \n",
        "上面的三個內建方法會回傳 *dictionary view object*."
      ],
      "metadata": {
        "id": "FZgPp7KazVFW"
      }
    },
    {
      "cell_type": "code",
      "source": [
        "# Create a dictionary view object\n",
        "d.items()"
      ],
      "metadata": {
        "colab": {
          "base_uri": "https://localhost:8080/"
        },
        "id": "nm7V207TzSp2",
        "outputId": "a525b096-53e5-4d4d-ac54-caf44fc20e69"
      },
      "execution_count": 14,
      "outputs": [
        {
          "output_type": "execute_result",
          "data": {
            "text/plain": [
              "dict_items([('k1', 1), ('k2', 2), ('k3', 3)])"
            ]
          },
          "metadata": {},
          "execution_count": 14
        }
      ]
    },
    {
      "cell_type": "code",
      "source": [
        "# Dictionary unpacking\n",
        "for k,v in d.items():\n",
        "    print(k)\n",
        "    print(v) "
      ],
      "metadata": {
        "colab": {
          "base_uri": "https://localhost:8080/"
        },
        "id": "HvXqvAEYzaOG",
        "outputId": "c7faa2a9-f987-4039-9a9e-b117318443c1"
      },
      "execution_count": 15,
      "outputs": [
        {
          "output_type": "stream",
          "name": "stdout",
          "text": [
            "k1\n",
            "1\n",
            "k2\n",
            "2\n",
            "k3\n",
            "3\n"
          ]
        }
      ]
    },
    {
      "cell_type": "markdown",
      "source": [
        "如果要將dict_keys轉換為串列，請自行使用list來強迫轉型 *cast*，以利其他地方使用。"
      ],
      "metadata": {
        "id": "tIkMOLK5zdB2"
      }
    },
    {
      "cell_type": "code",
      "source": [
        "list(d.keys())"
      ],
      "metadata": {
        "colab": {
          "base_uri": "https://localhost:8080/"
        },
        "id": "gHOUqsifzbQ2",
        "outputId": "3ad7cd71-54b2-4d02-d353-f5f1b373c196"
      },
      "execution_count": 16,
      "outputs": [
        {
          "output_type": "execute_result",
          "data": {
            "text/plain": [
              "['k1', 'k2', 'k3']"
            ]
          },
          "metadata": {},
          "execution_count": 16
        }
      ]
    },
    {
      "cell_type": "markdown",
      "source": [
        "請注意字典dict的內容是無法排序的，所以我們可以先將所有的值取出來後，再利用sorted()來排序。"
      ],
      "metadata": {
        "id": "ed6yd3dKziWs"
      }
    },
    {
      "cell_type": "code",
      "source": [
        "sorted(d.values())"
      ],
      "metadata": {
        "colab": {
          "base_uri": "https://localhost:8080/"
        },
        "id": "9uDq8Curzgp3",
        "outputId": "8b992004-b58e-4314-ce31-5599e00b0258"
      },
      "execution_count": 17,
      "outputs": [
        {
          "output_type": "execute_result",
          "data": {
            "text/plain": [
              "[1, 2, 3]"
            ]
          },
          "metadata": {},
          "execution_count": 17
        }
      ]
    },
    {
      "cell_type": "markdown",
      "source": [
        "# 巢狀迴圈(Nested Loop)"
      ],
      "metadata": {
        "id": "zbaFkuj1zxRb"
      }
    },
    {
      "cell_type": "markdown",
      "source": [
        "## Example1:經典題型：列印出6*6個星號\n",
        "★★★★★★  \n",
        "★★★★★★  \n",
        "★★★★★★  \n",
        "★★★★★★  \n",
        "★★★★★★  \n",
        "★★★★★★"
      ],
      "metadata": {
        "id": "z2EHjbotz0le"
      }
    },
    {
      "cell_type": "code",
      "source": [
        "#分解動作一：先試著印出一行六★就好\n",
        "for _ in range(6):\n",
        "    print('★',end='') #結尾的換行要改成''，不然每印完一顆星就換行"
      ],
      "metadata": {
        "colab": {
          "base_uri": "https://localhost:8080/"
        },
        "id": "yra-v6u2zmI_",
        "outputId": "72ddc7b5-bdd8-4a0b-fa03-49c6e53536dd"
      },
      "execution_count": 19,
      "outputs": [
        {
          "output_type": "stream",
          "name": "stdout",
          "text": [
            "★★★★★★"
          ]
        }
      ]
    },
    {
      "cell_type": "code",
      "source": [
        "#分解動作二：再印出六行\n",
        "for _ in range(6): #外層迴圈處理要印哪一行\n",
        "    for _ in range(6):#內層迴圈印出該行要印的★數\n",
        "        print('★',end='')\n",
        "    print()#每印完一行★，就要換行，不然會連在一起"
      ],
      "metadata": {
        "colab": {
          "base_uri": "https://localhost:8080/"
        },
        "id": "wvsDolfezva2",
        "outputId": "709e5e2e-5a62-4f32-a761-e539cd46b9f5"
      },
      "execution_count": 20,
      "outputs": [
        {
          "output_type": "stream",
          "name": "stdout",
          "text": [
            "★★★★★★\n",
            "★★★★★★\n",
            "★★★★★★\n",
            "★★★★★★\n",
            "★★★★★★\n",
            "★★★★★★\n"
          ]
        }
      ]
    },
    {
      "cell_type": "markdown",
      "source": [
        "## Example2:列印出直角三角形\n",
        "★  \n",
        "★★  \n",
        "★★★  \n",
        "★★★★  \n",
        "★★★★★  \n",
        "★★★★★★"
      ],
      "metadata": {
        "id": "Rx3CWZpA0LVp"
      }
    },
    {
      "cell_type": "markdown",
      "source": [
        "分解動作一：看出題目的規則，我們可以發現本題的規則是  \n",
        "第1行印1顆星  \n",
        "第2行印2顆星  \n",
        "第3行印3顆星  \n",
        "第4行印4顆星  \n",
        "第5行印5顆星  \n",
        "第6行印6顆星  \n",
        "上述規則簡化為：  \n",
        "第i行印出i顆星，  \n",
        "所以可以利用雙層迴圈來處理，  \n",
        "外層迴圈處理第i行，內層迴圈處理印出i顆星。  \n",
        "\n",
        "第1行(i=0)出現1次字元，內部迴圈1次(i+1)  \n",
        "第2行(i=1)出現2次字元，內部迴圈2次(i+1)  \n",
        "第3行(i=2)出現3次字元，內部迴圈3次(i+1)  \n",
        "第4行(i=3)出現4次字元，內部迴圈4次(i+1)  \n",
        "第5行(i=4)出現5次字元，內部迴圈5次(i+1)  \n",
        "第6行(i=5)出現6次字元，內部迴圈6次(i+1)"
      ],
      "metadata": {
        "id": "xvuHtLye0YMF"
      }
    },
    {
      "cell_type": "code",
      "source": [
        "#分解動作二：寫出雙層迴圈\n",
        "for i in range(6): #外層迴圈處理目前要處理第幾行\n",
        "    for _ in range(i+1): #內層迴圈處理要印幾顆星\n",
        "        print('★',end='')\n",
        "    print()"
      ],
      "metadata": {
        "colab": {
          "base_uri": "https://localhost:8080/"
        },
        "id": "yM-7jg-E0JJE",
        "outputId": "b3f47a6b-7a81-48f5-9061-70955da73285"
      },
      "execution_count": 21,
      "outputs": [
        {
          "output_type": "stream",
          "name": "stdout",
          "text": [
            "★\n",
            "★★\n",
            "★★★\n",
            "★★★★\n",
            "★★★★★\n",
            "★★★★★★\n"
          ]
        }
      ]
    },
    {
      "cell_type": "code",
      "source": [
        ""
      ],
      "metadata": {
        "id": "HYuZS_s60nI2"
      },
      "execution_count": null,
      "outputs": []
    }
  ]
}